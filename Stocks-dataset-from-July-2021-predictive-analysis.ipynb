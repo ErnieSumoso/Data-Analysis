{
 "cells": [
  {
   "cell_type": "code",
   "execution_count": 1,
   "metadata": {
    "tags": []
   },
   "outputs": [],
   "source": [
    "import pandas as pd\n",
    "import numpy as np\n",
    "import matplotlib.pyplot as plt\n",
    "import seaborn as sns\n",
    "from sklearn.model_selection import train_test_split\n",
    "from sklearn.linear_model import LinearRegression\n",
    "from sklearn.metrics import mean_squared_error, r2_score"
   ]
  },
  {
   "cell_type": "code",
   "execution_count": 2,
   "metadata": {},
   "outputs": [
    {
     "name": "stdout",
     "output_type": "stream",
     "text": [
      "Requirement already satisfied: yfinance in d:\\anaconda\\lib\\site-packages (0.2.31)\n",
      "Requirement already satisfied: pandas>=1.3.0 in d:\\anaconda\\lib\\site-packages (from yfinance) (1.5.3)\n",
      "Requirement already satisfied: numpy>=1.16.5 in d:\\anaconda\\lib\\site-packages (from yfinance) (1.24.3)\n",
      "Requirement already satisfied: requests>=2.31 in d:\\anaconda\\lib\\site-packages (from yfinance) (2.31.0)\n",
      "Requirement already satisfied: multitasking>=0.0.7 in d:\\anaconda\\lib\\site-packages (from yfinance) (0.0.11)\n",
      "Requirement already satisfied: lxml>=4.9.1 in d:\\anaconda\\lib\\site-packages (from yfinance) (4.9.2)\n",
      "Requirement already satisfied: appdirs>=1.4.4 in d:\\anaconda\\lib\\site-packages (from yfinance) (1.4.4)\n",
      "Requirement already satisfied: pytz>=2022.5 in d:\\anaconda\\lib\\site-packages (from yfinance) (2022.7)\n",
      "Requirement already satisfied: frozendict>=2.3.4 in d:\\anaconda\\lib\\site-packages (from yfinance) (2.3.8)\n",
      "Requirement already satisfied: peewee>=3.16.2 in d:\\anaconda\\lib\\site-packages (from yfinance) (3.16.3)\n",
      "Requirement already satisfied: beautifulsoup4>=4.11.1 in d:\\anaconda\\lib\\site-packages (from yfinance) (4.12.2)\n",
      "Requirement already satisfied: html5lib>=1.1 in d:\\anaconda\\lib\\site-packages (from yfinance) (1.1)\n",
      "Requirement already satisfied: soupsieve>1.2 in d:\\anaconda\\lib\\site-packages (from beautifulsoup4>=4.11.1->yfinance) (2.4)\n",
      "Requirement already satisfied: six>=1.9 in d:\\anaconda\\lib\\site-packages (from html5lib>=1.1->yfinance) (1.16.0)\n",
      "Requirement already satisfied: webencodings in d:\\anaconda\\lib\\site-packages (from html5lib>=1.1->yfinance) (0.5.1)\n",
      "Requirement already satisfied: python-dateutil>=2.8.1 in d:\\anaconda\\lib\\site-packages (from pandas>=1.3.0->yfinance) (2.8.2)\n",
      "Requirement already satisfied: charset-normalizer<4,>=2 in d:\\anaconda\\lib\\site-packages (from requests>=2.31->yfinance) (2.0.4)\n",
      "Requirement already satisfied: idna<4,>=2.5 in d:\\anaconda\\lib\\site-packages (from requests>=2.31->yfinance) (3.4)\n",
      "Requirement already satisfied: urllib3<3,>=1.21.1 in d:\\anaconda\\lib\\site-packages (from requests>=2.31->yfinance) (1.26.16)\n",
      "Requirement already satisfied: certifi>=2017.4.17 in d:\\anaconda\\lib\\site-packages (from requests>=2.31->yfinance) (2023.7.22)\n",
      "Note: you may need to restart the kernel to use updated packages.\n"
     ]
    }
   ],
   "source": [
    "pip install yfinance"
   ]
  },
  {
   "cell_type": "code",
   "execution_count": 3,
   "metadata": {},
   "outputs": [
    {
     "name": "stdout",
     "output_type": "stream",
     "text": [
      "Requirement already satisfied: pandas_datareader in d:\\anaconda\\lib\\site-packages (0.10.0)\n",
      "Requirement already satisfied: lxml in d:\\anaconda\\lib\\site-packages (from pandas_datareader) (4.9.2)\n",
      "Requirement already satisfied: pandas>=0.23 in d:\\anaconda\\lib\\site-packages (from pandas_datareader) (1.5.3)\n",
      "Requirement already satisfied: requests>=2.19.0 in d:\\anaconda\\lib\\site-packages (from pandas_datareader) (2.31.0)\n",
      "Requirement already satisfied: python-dateutil>=2.8.1 in d:\\anaconda\\lib\\site-packages (from pandas>=0.23->pandas_datareader) (2.8.2)\n",
      "Requirement already satisfied: pytz>=2020.1 in d:\\anaconda\\lib\\site-packages (from pandas>=0.23->pandas_datareader) (2022.7)\n",
      "Requirement already satisfied: numpy>=1.21.0 in d:\\anaconda\\lib\\site-packages (from pandas>=0.23->pandas_datareader) (1.24.3)\n",
      "Requirement already satisfied: charset-normalizer<4,>=2 in d:\\anaconda\\lib\\site-packages (from requests>=2.19.0->pandas_datareader) (2.0.4)\n",
      "Requirement already satisfied: idna<4,>=2.5 in d:\\anaconda\\lib\\site-packages (from requests>=2.19.0->pandas_datareader) (3.4)\n",
      "Requirement already satisfied: urllib3<3,>=1.21.1 in d:\\anaconda\\lib\\site-packages (from requests>=2.19.0->pandas_datareader) (1.26.16)\n",
      "Requirement already satisfied: certifi>=2017.4.17 in d:\\anaconda\\lib\\site-packages (from requests>=2.19.0->pandas_datareader) (2023.7.22)\n",
      "Requirement already satisfied: six>=1.5 in d:\\anaconda\\lib\\site-packages (from python-dateutil>=2.8.1->pandas>=0.23->pandas_datareader) (1.16.0)\n",
      "Note: you may need to restart the kernel to use updated packages.\n"
     ]
    }
   ],
   "source": [
    "pip install pandas_datareader"
   ]
  },
  {
   "cell_type": "markdown",
   "metadata": {},
   "source": [
    "# Group 5\n",
    "\n",
    "Members:\n",
    "- Aishlee C0913045\n",
    "- Ashick Rijo C0910364\n",
    "- Ernie Sumoso Vicuna C0881591\n",
    "- Danilo Diaz C0889539\n",
    "- Yogita Sharma C0913011\n"
   ]
  },
  {
   "cell_type": "markdown",
   "metadata": {},
   "source": [
    "# Predictive Analysis\n",
    "Prediction of the column __'bid'__ on July 30, 2021; based on the data from July 1 to July 29, 2021\n"
   ]
  },
  {
   "cell_type": "markdown",
   "metadata": {},
   "source": [
    "# Stage 3 - Data Acquisition and Filtering\n",
    "\n",
    "Data extraction is the process of __collecting__ or retrieving __data__ from a variety of sources, many of which may be poorly organized or completely unstructured.\n",
    "Then the acquired data is filtered to __remove corrupted data__ that has no value to our predictive analysis."
   ]
  },
  {
   "cell_type": "markdown",
   "metadata": {},
   "source": [
    "__Internal data acquisition__\n",
    "\n",
    "We were provided with an initial dataset about trading stocks"
   ]
  },
  {
   "cell_type": "code",
   "execution_count": 4,
   "metadata": {
    "tags": []
   },
   "outputs": [
    {
     "name": "stdout",
     "output_type": "stream",
     "text": [
      "(221046, 22)\n"
     ]
    },
    {
     "data": {
      "text/html": [
       "<div>\n",
       "<style scoped>\n",
       "    .dataframe tbody tr th:only-of-type {\n",
       "        vertical-align: middle;\n",
       "    }\n",
       "\n",
       "    .dataframe tbody tr th {\n",
       "        vertical-align: top;\n",
       "    }\n",
       "\n",
       "    .dataframe thead th {\n",
       "        text-align: right;\n",
       "    }\n",
       "</style>\n",
       "<table border=\"1\" class=\"dataframe\">\n",
       "  <thead>\n",
       "    <tr style=\"text-align: right;\">\n",
       "      <th></th>\n",
       "      <th>symbol</th>\n",
       "      <th>exchange</th>\n",
       "      <th>date</th>\n",
       "      <th>adjusted close</th>\n",
       "      <th>option symbol</th>\n",
       "      <th>expiration</th>\n",
       "      <th>strike</th>\n",
       "      <th>call/put</th>\n",
       "      <th>style</th>\n",
       "      <th>ask</th>\n",
       "      <th>...</th>\n",
       "      <th>iv</th>\n",
       "      <th>volume</th>\n",
       "      <th>open interest</th>\n",
       "      <th>stock price for iv</th>\n",
       "      <th>*</th>\n",
       "      <th>delta</th>\n",
       "      <th>vega</th>\n",
       "      <th>gamma</th>\n",
       "      <th>theta</th>\n",
       "      <th>rho</th>\n",
       "    </tr>\n",
       "  </thead>\n",
       "  <tbody>\n",
       "    <tr>\n",
       "      <th>0</th>\n",
       "      <td>SPY</td>\n",
       "      <td>NYSEArca</td>\n",
       "      <td>07/30/2021</td>\n",
       "      <td>438.51</td>\n",
       "      <td>SPY   210730C00215000</td>\n",
       "      <td>07/30/2021</td>\n",
       "      <td>215.0</td>\n",
       "      <td>C</td>\n",
       "      <td>A</td>\n",
       "      <td>224.56</td>\n",
       "      <td>...</td>\n",
       "      <td>-1.0</td>\n",
       "      <td>0</td>\n",
       "      <td>0</td>\n",
       "      <td>438.97</td>\n",
       "      <td>NaN</td>\n",
       "      <td>0.0</td>\n",
       "      <td>0.0</td>\n",
       "      <td>0.0</td>\n",
       "      <td>0.0</td>\n",
       "      <td>0.0</td>\n",
       "    </tr>\n",
       "    <tr>\n",
       "      <th>1</th>\n",
       "      <td>SPY</td>\n",
       "      <td>NYSEArca</td>\n",
       "      <td>07/30/2021</td>\n",
       "      <td>438.51</td>\n",
       "      <td>SPY   210730P00215000</td>\n",
       "      <td>07/30/2021</td>\n",
       "      <td>215.0</td>\n",
       "      <td>P</td>\n",
       "      <td>A</td>\n",
       "      <td>0.01</td>\n",
       "      <td>...</td>\n",
       "      <td>-1.0</td>\n",
       "      <td>0</td>\n",
       "      <td>1401</td>\n",
       "      <td>438.97</td>\n",
       "      <td>NaN</td>\n",
       "      <td>0.0</td>\n",
       "      <td>0.0</td>\n",
       "      <td>0.0</td>\n",
       "      <td>0.0</td>\n",
       "      <td>0.0</td>\n",
       "    </tr>\n",
       "    <tr>\n",
       "      <th>2</th>\n",
       "      <td>SPY</td>\n",
       "      <td>NYSEArca</td>\n",
       "      <td>07/30/2021</td>\n",
       "      <td>438.51</td>\n",
       "      <td>SPY   210730C00220000</td>\n",
       "      <td>07/30/2021</td>\n",
       "      <td>220.0</td>\n",
       "      <td>C</td>\n",
       "      <td>A</td>\n",
       "      <td>219.56</td>\n",
       "      <td>...</td>\n",
       "      <td>-1.0</td>\n",
       "      <td>0</td>\n",
       "      <td>1</td>\n",
       "      <td>438.97</td>\n",
       "      <td>NaN</td>\n",
       "      <td>0.0</td>\n",
       "      <td>0.0</td>\n",
       "      <td>0.0</td>\n",
       "      <td>0.0</td>\n",
       "      <td>0.0</td>\n",
       "    </tr>\n",
       "    <tr>\n",
       "      <th>3</th>\n",
       "      <td>SPY</td>\n",
       "      <td>NYSEArca</td>\n",
       "      <td>07/30/2021</td>\n",
       "      <td>438.51</td>\n",
       "      <td>SPY   210730P00220000</td>\n",
       "      <td>07/30/2021</td>\n",
       "      <td>220.0</td>\n",
       "      <td>P</td>\n",
       "      <td>A</td>\n",
       "      <td>0.01</td>\n",
       "      <td>...</td>\n",
       "      <td>-1.0</td>\n",
       "      <td>50</td>\n",
       "      <td>328</td>\n",
       "      <td>438.97</td>\n",
       "      <td>NaN</td>\n",
       "      <td>0.0</td>\n",
       "      <td>0.0</td>\n",
       "      <td>0.0</td>\n",
       "      <td>0.0</td>\n",
       "      <td>0.0</td>\n",
       "    </tr>\n",
       "    <tr>\n",
       "      <th>4</th>\n",
       "      <td>SPY</td>\n",
       "      <td>NYSEArca</td>\n",
       "      <td>07/30/2021</td>\n",
       "      <td>438.51</td>\n",
       "      <td>SPY   210730C00225000</td>\n",
       "      <td>07/30/2021</td>\n",
       "      <td>225.0</td>\n",
       "      <td>C</td>\n",
       "      <td>A</td>\n",
       "      <td>214.56</td>\n",
       "      <td>...</td>\n",
       "      <td>-1.0</td>\n",
       "      <td>0</td>\n",
       "      <td>0</td>\n",
       "      <td>438.97</td>\n",
       "      <td>NaN</td>\n",
       "      <td>0.0</td>\n",
       "      <td>0.0</td>\n",
       "      <td>0.0</td>\n",
       "      <td>0.0</td>\n",
       "      <td>0.0</td>\n",
       "    </tr>\n",
       "  </tbody>\n",
       "</table>\n",
       "<p>5 rows × 22 columns</p>\n",
       "</div>"
      ],
      "text/plain": [
       "  symbol  exchange        date  adjusted close          option symbol  \\\n",
       "0    SPY  NYSEArca  07/30/2021          438.51  SPY   210730C00215000   \n",
       "1    SPY  NYSEArca  07/30/2021          438.51  SPY   210730P00215000   \n",
       "2    SPY  NYSEArca  07/30/2021          438.51  SPY   210730C00220000   \n",
       "3    SPY  NYSEArca  07/30/2021          438.51  SPY   210730P00220000   \n",
       "4    SPY  NYSEArca  07/30/2021          438.51  SPY   210730C00225000   \n",
       "\n",
       "   expiration  strike call/put style     ask  ...   iv  volume  open interest  \\\n",
       "0  07/30/2021   215.0        C     A  224.56  ... -1.0       0              0   \n",
       "1  07/30/2021   215.0        P     A    0.01  ... -1.0       0           1401   \n",
       "2  07/30/2021   220.0        C     A  219.56  ... -1.0       0              1   \n",
       "3  07/30/2021   220.0        P     A    0.01  ... -1.0      50            328   \n",
       "4  07/30/2021   225.0        C     A  214.56  ... -1.0       0              0   \n",
       "\n",
       "   stock price for iv    *  delta vega  gamma  theta  rho  \n",
       "0              438.97  NaN    0.0  0.0    0.0    0.0  0.0  \n",
       "1              438.97  NaN    0.0  0.0    0.0    0.0  0.0  \n",
       "2              438.97  NaN    0.0  0.0    0.0    0.0  0.0  \n",
       "3              438.97  NaN    0.0  0.0    0.0    0.0  0.0  \n",
       "4              438.97  NaN    0.0  0.0    0.0    0.0  0.0  \n",
       "\n",
       "[5 rows x 22 columns]"
      ]
     },
     "execution_count": 4,
     "metadata": {},
     "output_type": "execute_result"
    }
   ],
   "source": [
    "# load dataset\n",
    "df = pd.read_csv('./dataset.csv')\n",
    "\n",
    "# rows and columns of the data\n",
    "print(df.shape)\n",
    "\n",
    "# visualize the dataset\n",
    "df.head()"
   ]
  },
  {
   "cell_type": "markdown",
   "metadata": {},
   "source": [
    "__External data acquisition__\n",
    "\n",
    "We will acquire data of underlying stocks from July 1st, 2021 to July 30, 2021 using the Yahoo Finance API as structured external data.\n",
    "\n",
    "The columns/attributes of our external data are:\n",
    "\n",
    "- Date - specifies trading date\n",
    "- Open - opening price\n",
    "- High - maximum price during the day\n",
    "- Low - minimum price during the day\n",
    "- Close - close price adjusted for splits\n",
    "- Adj Close - adjusted close price adjusted for both dividends and splits.\n",
    "- Volume - the number of shares that changed hands during a given day"
   ]
  },
  {
   "cell_type": "code",
   "execution_count": 5,
   "metadata": {
    "tags": []
   },
   "outputs": [
    {
     "name": "stdout",
     "output_type": "stream",
     "text": [
      "[*********************100%%**********************]  1 of 1 completed\n"
     ]
    },
    {
     "data": {
      "text/html": [
       "<div>\n",
       "<style scoped>\n",
       "    .dataframe tbody tr th:only-of-type {\n",
       "        vertical-align: middle;\n",
       "    }\n",
       "\n",
       "    .dataframe tbody tr th {\n",
       "        vertical-align: top;\n",
       "    }\n",
       "\n",
       "    .dataframe thead th {\n",
       "        text-align: right;\n",
       "    }\n",
       "</style>\n",
       "<table border=\"1\" class=\"dataframe\">\n",
       "  <thead>\n",
       "    <tr style=\"text-align: right;\">\n",
       "      <th></th>\n",
       "      <th>Date</th>\n",
       "      <th>Open</th>\n",
       "      <th>High</th>\n",
       "      <th>Low</th>\n",
       "      <th>Close</th>\n",
       "      <th>Adj Close</th>\n",
       "      <th>Volume</th>\n",
       "    </tr>\n",
       "  </thead>\n",
       "  <tbody>\n",
       "    <tr>\n",
       "      <th>0</th>\n",
       "      <td>2021-07-01</td>\n",
       "      <td>428.869995</td>\n",
       "      <td>430.600006</td>\n",
       "      <td>428.799988</td>\n",
       "      <td>430.429993</td>\n",
       "      <td>416.109253</td>\n",
       "      <td>53441000</td>\n",
       "    </tr>\n",
       "    <tr>\n",
       "      <th>1</th>\n",
       "      <td>2021-07-02</td>\n",
       "      <td>431.670013</td>\n",
       "      <td>434.100006</td>\n",
       "      <td>430.519989</td>\n",
       "      <td>433.720001</td>\n",
       "      <td>419.289764</td>\n",
       "      <td>57697700</td>\n",
       "    </tr>\n",
       "    <tr>\n",
       "      <th>2</th>\n",
       "      <td>2021-07-06</td>\n",
       "      <td>433.779999</td>\n",
       "      <td>434.010010</td>\n",
       "      <td>430.010010</td>\n",
       "      <td>432.929993</td>\n",
       "      <td>418.526062</td>\n",
       "      <td>68710400</td>\n",
       "    </tr>\n",
       "    <tr>\n",
       "      <th>3</th>\n",
       "      <td>2021-07-07</td>\n",
       "      <td>433.660004</td>\n",
       "      <td>434.760010</td>\n",
       "      <td>431.510010</td>\n",
       "      <td>434.459991</td>\n",
       "      <td>420.005157</td>\n",
       "      <td>63549500</td>\n",
       "    </tr>\n",
       "    <tr>\n",
       "      <th>4</th>\n",
       "      <td>2021-07-08</td>\n",
       "      <td>428.779999</td>\n",
       "      <td>431.730011</td>\n",
       "      <td>427.519989</td>\n",
       "      <td>430.920013</td>\n",
       "      <td>416.582977</td>\n",
       "      <td>97595200</td>\n",
       "    </tr>\n",
       "  </tbody>\n",
       "</table>\n",
       "</div>"
      ],
      "text/plain": [
       "        Date        Open        High         Low       Close   Adj Close  \\\n",
       "0 2021-07-01  428.869995  430.600006  428.799988  430.429993  416.109253   \n",
       "1 2021-07-02  431.670013  434.100006  430.519989  433.720001  419.289764   \n",
       "2 2021-07-06  433.779999  434.010010  430.010010  432.929993  418.526062   \n",
       "3 2021-07-07  433.660004  434.760010  431.510010  434.459991  420.005157   \n",
       "4 2021-07-08  428.779999  431.730011  427.519989  430.920013  416.582977   \n",
       "\n",
       "     Volume  \n",
       "0  53441000  \n",
       "1  57697700  \n",
       "2  68710400  \n",
       "3  63549500  \n",
       "4  97595200  "
      ]
     },
     "execution_count": 5,
     "metadata": {},
     "output_type": "execute_result"
    }
   ],
   "source": [
    "from pandas_datareader import data as pdr\n",
    "from datetime import date\n",
    "import yfinance as yf\n",
    "yf.pdr_override()\n",
    "\n",
    "# Getting Data From Yahoo Finance API\n",
    "\n",
    "ticker_list=['SPY'] # Underlying stock --> Value to get the same stock data\n",
    "start_date = date(year=2021,month=7,day=1) # Data should be from July 1st, 2021\n",
    "end_date=date(year=2021,month=7,day=30) # until July 30, 2021\n",
    "files=[]\n",
    "external_data = pdr.get_data_yahoo(ticker_list, start=start_date, end=end_date)\n",
    "external_data.reset_index(inplace=True)\n",
    "external_data.head()"
   ]
  },
  {
   "cell_type": "markdown",
   "metadata": {},
   "source": [
    "# Stage 4 - Data Extraction\n",
    "\n",
    "Data extraction is the process of __extracting__ disparate __data__ and __transforming it__ into a __usable format__ for the analysis.\n",
    "\n",
    "In this case, we need all our data in a __structured and tabular format__.\n",
    "\n",
    "As we will see, both our __internal__ and __external__ data are in __tabular format__, so we don't need to perform any further extraction to our data."
   ]
  },
  {
   "cell_type": "code",
   "execution_count": 6,
   "metadata": {
    "tags": []
   },
   "outputs": [
    {
     "name": "stdout",
     "output_type": "stream",
     "text": [
      "Internal dataset number of rows: \t221046\n",
      "Internal dataset number of columns: \t22\n",
      "Internal dataset shape (rows, columns): (221046, 22)\n"
     ]
    }
   ],
   "source": [
    "print(f\"Internal dataset number of rows: \\t{df.shape[0]}\")\n",
    "print(f\"Internal dataset number of columns: \\t{df.shape[1]}\")\n",
    "print(f\"Internal dataset shape (rows, columns): {df.shape}\")"
   ]
  },
  {
   "cell_type": "code",
   "execution_count": 7,
   "metadata": {
    "tags": []
   },
   "outputs": [
    {
     "name": "stdout",
     "output_type": "stream",
     "text": [
      "External dataset number of rows: \t20\n",
      "External dataset number of columns: \t7\n",
      "External dataset shape (rows, columns): (20, 7)\n"
     ]
    }
   ],
   "source": [
    "print(f\"External dataset number of rows: \\t{external_data.shape[0]}\")\n",
    "print(f\"External dataset number of columns: \\t{external_data.shape[1]}\")\n",
    "print(f\"External dataset shape (rows, columns): {external_data.shape}\")"
   ]
  },
  {
   "cell_type": "markdown",
   "metadata": {},
   "source": [
    "# Stage 5 -Data Validation and Cleansing\n",
    "On this stage we have to __establish validation rules__ and apply them on our datasets, __removing invalid data__.\n",
    "\n",
    "For both our internal and external data, we will look for __missing values__ and __null values__."
   ]
  },
  {
   "cell_type": "code",
   "execution_count": 8,
   "metadata": {
    "tags": []
   },
   "outputs": [
    {
     "name": "stdout",
     "output_type": "stream",
     "text": [
      "--Internal data null values--\n",
      "symbol                     0\n",
      "exchange                   0\n",
      "date                       0\n",
      "adjusted close             0\n",
      "option symbol              0\n",
      "expiration                 0\n",
      "strike                     0\n",
      "call/put                   0\n",
      "style                      0\n",
      "ask                        0\n",
      "bid                        0\n",
      "mean price                 0\n",
      "iv                         0\n",
      "volume                     0\n",
      "open interest              0\n",
      "stock price for iv         0\n",
      "*                     192007\n",
      "delta                      0\n",
      "vega                       0\n",
      "gamma                      0\n",
      "theta                      0\n",
      "rho                        0\n",
      "dtype: int64\n",
      "\n",
      "--External data null values--\n",
      "Date         0\n",
      "Open         0\n",
      "High         0\n",
      "Low          0\n",
      "Close        0\n",
      "Adj Close    0\n",
      "Volume       0\n",
      "dtype: int64\n"
     ]
    }
   ],
   "source": [
    "#Dataset : Data\n",
    "print(\"--Internal data null values--\")\n",
    "print(df.isnull().sum())\n",
    "print(\"\\n--External data null values--\")\n",
    "print(external_data.isnull().sum())"
   ]
  },
  {
   "cell_type": "markdown",
   "metadata": {},
   "source": [
    "Apparently the column __'*'__ presents __192,007 null values__.\n",
    "\n",
    "We will further analyze their unique values, as well as the total percentage null values"
   ]
  },
  {
   "cell_type": "code",
   "execution_count": 9,
   "metadata": {
    "tags": []
   },
   "outputs": [
    {
     "name": "stdout",
     "output_type": "stream",
     "text": [
      "[nan '*']\n",
      "*    29039\n",
      "Name: *, dtype: int64\n",
      "Count Null Values :  192007\n",
      "Percentage of Null Values :  86.86291541127186\n"
     ]
    }
   ],
   "source": [
    "# Analyzing * column\n",
    "print(df['*'].unique()) # unique values of the column\n",
    "print(df['*'].value_counts()) # counting values for each unique value of the column\n",
    "print(\"Count Null Values : \", df['*'].isnull().sum()) # counting null values\n",
    "print(\"Percentage of Null Values : \", df['*'].isnull().sum()/df.shape[0]*100) # percentage of null values from the total values"
   ]
  },
  {
   "cell_type": "markdown",
   "metadata": {},
   "source": [
    "As the column mostly presents __null values__ and __invalid data__, we will proceed with __removing the column '*'__"
   ]
  },
  {
   "cell_type": "code",
   "execution_count": 10,
   "metadata": {
    "tags": []
   },
   "outputs": [],
   "source": [
    "#Remove corructed column * from the dataset\n",
    "df.drop(['*'], axis=1, inplace=True) #Removing the * column just null values"
   ]
  },
  {
   "cell_type": "markdown",
   "metadata": {},
   "source": [
    "Now we can further analyze the rest of our __columns__ in our internal and external dataset."
   ]
  },
  {
   "cell_type": "code",
   "execution_count": 11,
   "metadata": {},
   "outputs": [
    {
     "name": "stdout",
     "output_type": "stream",
     "text": [
      "Information about our Internal Dataset columns\n",
      "<class 'pandas.core.frame.DataFrame'>\n",
      "RangeIndex: 221046 entries, 0 to 221045\n",
      "Data columns (total 21 columns):\n",
      " #   Column              Non-Null Count   Dtype  \n",
      "---  ------              --------------   -----  \n",
      " 0   symbol              221046 non-null  object \n",
      " 1   exchange            221046 non-null  object \n",
      " 2   date                221046 non-null  object \n",
      " 3   adjusted close      221046 non-null  float64\n",
      " 4   option symbol       221046 non-null  object \n",
      " 5   expiration          221046 non-null  object \n",
      " 6   strike              221046 non-null  float64\n",
      " 7   call/put            221046 non-null  object \n",
      " 8   style               221046 non-null  object \n",
      " 9   ask                 221046 non-null  float64\n",
      " 10  bid                 221046 non-null  float64\n",
      " 11  mean price          221046 non-null  float64\n",
      " 12  iv                  221046 non-null  float64\n",
      " 13  volume              221046 non-null  int64  \n",
      " 14  open interest       221046 non-null  int64  \n",
      " 15  stock price for iv  221046 non-null  float64\n",
      " 16  delta               221046 non-null  float64\n",
      " 17  vega                221046 non-null  float64\n",
      " 18  gamma               221046 non-null  float64\n",
      " 19  theta               221046 non-null  float64\n",
      " 20  rho                 221046 non-null  float64\n",
      "dtypes: float64(12), int64(2), object(7)\n",
      "memory usage: 35.4+ MB\n",
      "None\n",
      "Information about our External Dataset columns\n",
      "/n\n",
      "<class 'pandas.core.frame.DataFrame'>\n",
      "RangeIndex: 20 entries, 0 to 19\n",
      "Data columns (total 7 columns):\n",
      " #   Column     Non-Null Count  Dtype         \n",
      "---  ------     --------------  -----         \n",
      " 0   Date       20 non-null     datetime64[ns]\n",
      " 1   Open       20 non-null     float64       \n",
      " 2   High       20 non-null     float64       \n",
      " 3   Low        20 non-null     float64       \n",
      " 4   Close      20 non-null     float64       \n",
      " 5   Adj Close  20 non-null     float64       \n",
      " 6   Volume     20 non-null     int64         \n",
      "dtypes: datetime64[ns](1), float64(5), int64(1)\n",
      "memory usage: 1.2 KB\n",
      "None\n"
     ]
    }
   ],
   "source": [
    "print(\"Information about our Internal Dataset columns\")\n",
    "print(df.info())\n",
    "print(\"Information about our External Dataset columns\")\n",
    "print('/n')\n",
    "print(external_data.info())"
   ]
  },
  {
   "cell_type": "markdown",
   "metadata": {},
   "source": [
    "Let's perform a __string validation__ to identify the __numerical __and__ categorical columns__ of both dataset"
   ]
  },
  {
   "cell_type": "code",
   "execution_count": 12,
   "metadata": {},
   "outputs": [
    {
     "name": "stdout",
     "output_type": "stream",
     "text": [
      "Internal Data\n",
      "\tNumerical Columns: ['adjusted close', 'strike', 'ask', 'bid', 'mean price', 'iv', 'volume', 'open interest', 'stock price for iv', 'delta', 'vega', 'gamma', 'theta', 'rho']\n",
      "\tCategorical Columns: ['symbol', 'exchange', 'date', 'option symbol', 'expiration', 'call/put', 'style']\n",
      "External Data\n",
      "\tNumerical Columns: ['Date', 'Open', 'High', 'Low', 'Close', 'Adj Close', 'Volume']\n",
      "\tCategorical Columns: []\n"
     ]
    }
   ],
   "source": [
    "#Perform string Validation Categorical Columns\n",
    "\n",
    "# Internal Data\n",
    "vars_num_internal = [c for c in df.columns if df[c].dtypes!='O']\n",
    "vars_cat_internal = [c for c in df.columns if df[c].dtypes=='O']\n",
    "\n",
    "# External Data\n",
    "vars_num_external = [c for c in external_data.columns if external_data[c].dtypes!='O']\n",
    "vars_cat_external = [c for c in external_data.columns if external_data[c].dtypes=='O']\n",
    "\n",
    "\n",
    "print(\"Internal Data\")\n",
    "print(\"\\tNumerical Columns: \",end='')\n",
    "print(vars_num_internal)\n",
    "print(\"\\tCategorical Columns: \",end='')\n",
    "print(vars_cat_internal)\n",
    "print(\"External Data\")\n",
    "print(\"\\tNumerical Columns: \",end='')\n",
    "print(vars_num_external)\n",
    "print(\"\\tCategorical Columns: \",end='')\n",
    "print(vars_cat_external)"
   ]
  },
  {
   "cell_type": "markdown",
   "metadata": {
    "tags": []
   },
   "source": [
    "As we have identified our __categorical columns__, let's __delete leading and tailing white spaces__ on our categorical columns data."
   ]
  },
  {
   "cell_type": "code",
   "execution_count": 13,
   "metadata": {},
   "outputs": [
    {
     "name": "stdout",
     "output_type": "stream",
     "text": [
      "symbol ['SPY']\n",
      "exchange ['NYSEArca']\n",
      "date ['07/30/2021' '07/29/2021' '07/28/2021' '07/27/2021' '07/26/2021'\n",
      " '07/23/2021' '07/22/2021' '07/21/2021' '07/20/2021' '07/19/2021'\n",
      " '07/16/2021' '07/15/2021' '07/14/2021' '07/13/2021' '07/12/2021'\n",
      " '07/09/2021' '07/08/2021' '07/07/2021' '07/06/2021' '07/02/2021'\n",
      " '07/01/2021']\n",
      "option symbol ['SPY   210730C00215000' 'SPY   210730P00215000' 'SPY   210730C00220000'\n",
      " ... 'SPY   210702P00520000' 'SPY   210702C00530000'\n",
      " 'SPY   210702P00530000']\n",
      "expiration ['07/30/2021' '08/02/2021' '08/04/2021' '08/06/2021' '08/09/2021'\n",
      " '08/11/2021' '08/13/2021' '08/16/2021' '08/18/2021' '08/20/2021'\n",
      " '08/23/2021' '08/25/2021' '08/27/2021' '08/30/2021' '09/01/2021'\n",
      " '09/03/2021' '09/07/2021' '09/10/2021' '09/17/2021' '09/30/2021'\n",
      " '10/15/2021' '11/19/2021' '12/17/2021' '12/31/2021' '01/21/2022'\n",
      " '02/18/2022' '03/18/2022' '03/31/2022' '06/17/2022' '06/30/2022'\n",
      " '09/16/2022' '12/16/2022' '01/20/2023' '03/17/2023' '06/16/2023'\n",
      " '12/15/2023' '07/28/2021' '07/26/2021' '07/23/2021' '07/21/2021'\n",
      " '07/19/2021' '07/16/2021' '07/14/2021' '07/12/2021' '07/09/2021'\n",
      " '07/07/2021' '07/06/2021' '07/02/2021']\n",
      "call/put ['C' 'P']\n",
      "style ['A']\n",
      "\n"
     ]
    },
    {
     "data": {
      "text/plain": [
       "symbol                 object\n",
       "exchange               object\n",
       "date                   object\n",
       "adjusted close        float64\n",
       "option symbol          object\n",
       "expiration             object\n",
       "strike                float64\n",
       "call/put               object\n",
       "style                  object\n",
       "ask                   float64\n",
       "bid                   float64\n",
       "mean price            float64\n",
       "iv                    float64\n",
       "volume                  int64\n",
       "open interest           int64\n",
       "stock price for iv    float64\n",
       "delta                 float64\n",
       "vega                  float64\n",
       "gamma                 float64\n",
       "theta                 float64\n",
       "rho                   float64\n",
       "dtype: object"
      ]
     },
     "execution_count": 13,
     "metadata": {},
     "output_type": "execute_result"
    }
   ],
   "source": [
    "# Perform string validation on categorical columns\n",
    "for c in vars_cat_internal:\n",
    "    print(c, df[c].unique())\n",
    "\n",
    "#Apply strip to all categorical columns\n",
    "print()\n",
    "df['option symbol'] = df['option symbol'].str.strip()\n",
    "df.dtypes"
   ]
  },
  {
   "cell_type": "markdown",
   "metadata": {},
   "source": [
    "# Stage 6 - Data Aggregation and Representation\n",
    "\n",
    "As our data is spread in __two datasets__ (internal and external). We need to __integrate both__ datasets together __into a unified view__\n",
    "\n",
    "We will join both datasets based on the __date__ column as __common field__."
   ]
  },
  {
   "cell_type": "code",
   "execution_count": 14,
   "metadata": {
    "tags": []
   },
   "outputs": [],
   "source": [
    "#Joining the two datasets by date\n",
    "\n",
    "#Data-Internal\n",
    "df['date'] = pd.to_datetime(df['date'])\n",
    "df['expiration'] = pd.to_datetime(df['expiration'])\n",
    "df.columns = df.columns.str.lower()\n",
    "df.columns = df.columns.str.replace(' ', '_')\n",
    "\n",
    "\n",
    "#Data-External\n",
    "external_data['Date'] = pd.to_datetime(external_data['Date'])\n",
    "external_data.rename(columns={'Date': 'date' , 'Volume': 'Volume_Ext'}, inplace=True)\n",
    "external_data.columns = external_data.columns.str.lower()"
   ]
  },
  {
   "cell_type": "code",
   "execution_count": 15,
   "metadata": {},
   "outputs": [],
   "source": [
    "# Merging both datasets\n",
    "dataset = df.merge(external_data, on='date', how='left')"
   ]
  },
  {
   "cell_type": "markdown",
   "metadata": {},
   "source": [
    "Now we have __1 unified dataset__ with all our data. Let's check its number of rows and columns:"
   ]
  },
  {
   "cell_type": "code",
   "execution_count": 16,
   "metadata": {
    "tags": []
   },
   "outputs": [
    {
     "name": "stdout",
     "output_type": "stream",
     "text": [
      "Unified dataset number of rows: \t221046\n",
      "Unified dataset number of columns: \t27\n",
      "Unified dataset shape (rows, columns): (221046, 27)\n"
     ]
    },
    {
     "data": {
      "text/html": [
       "<div>\n",
       "<style scoped>\n",
       "    .dataframe tbody tr th:only-of-type {\n",
       "        vertical-align: middle;\n",
       "    }\n",
       "\n",
       "    .dataframe tbody tr th {\n",
       "        vertical-align: top;\n",
       "    }\n",
       "\n",
       "    .dataframe thead th {\n",
       "        text-align: right;\n",
       "    }\n",
       "</style>\n",
       "<table border=\"1\" class=\"dataframe\">\n",
       "  <thead>\n",
       "    <tr style=\"text-align: right;\">\n",
       "      <th></th>\n",
       "      <th>symbol</th>\n",
       "      <th>exchange</th>\n",
       "      <th>date</th>\n",
       "      <th>adjusted_close</th>\n",
       "      <th>option_symbol</th>\n",
       "      <th>expiration</th>\n",
       "      <th>strike</th>\n",
       "      <th>call/put</th>\n",
       "      <th>style</th>\n",
       "      <th>ask</th>\n",
       "      <th>...</th>\n",
       "      <th>vega</th>\n",
       "      <th>gamma</th>\n",
       "      <th>theta</th>\n",
       "      <th>rho</th>\n",
       "      <th>open</th>\n",
       "      <th>high</th>\n",
       "      <th>low</th>\n",
       "      <th>close</th>\n",
       "      <th>adj close</th>\n",
       "      <th>volume_ext</th>\n",
       "    </tr>\n",
       "  </thead>\n",
       "  <tbody>\n",
       "    <tr>\n",
       "      <th>221041</th>\n",
       "      <td>SPY</td>\n",
       "      <td>NYSEArca</td>\n",
       "      <td>2021-07-01</td>\n",
       "      <td>430.43</td>\n",
       "      <td>SPY   231215P00630000</td>\n",
       "      <td>2023-12-15</td>\n",
       "      <td>630.0</td>\n",
       "      <td>P</td>\n",
       "      <td>A</td>\n",
       "      <td>206.50</td>\n",
       "      <td>...</td>\n",
       "      <td>0.750370</td>\n",
       "      <td>0.001112</td>\n",
       "      <td>-0.011128</td>\n",
       "      <td>-14.857175</td>\n",
       "      <td>428.869995</td>\n",
       "      <td>430.600006</td>\n",
       "      <td>428.799988</td>\n",
       "      <td>430.429993</td>\n",
       "      <td>416.109253</td>\n",
       "      <td>53441000.0</td>\n",
       "    </tr>\n",
       "    <tr>\n",
       "      <th>221042</th>\n",
       "      <td>SPY</td>\n",
       "      <td>NYSEArca</td>\n",
       "      <td>2021-07-01</td>\n",
       "      <td>430.43</td>\n",
       "      <td>SPY   231215C00635000</td>\n",
       "      <td>2023-12-15</td>\n",
       "      <td>635.0</td>\n",
       "      <td>C</td>\n",
       "      <td>A</td>\n",
       "      <td>2.20</td>\n",
       "      <td>...</td>\n",
       "      <td>0.710649</td>\n",
       "      <td>0.001053</td>\n",
       "      <td>-0.005507</td>\n",
       "      <td>0.496773</td>\n",
       "      <td>428.869995</td>\n",
       "      <td>430.600006</td>\n",
       "      <td>428.799988</td>\n",
       "      <td>430.429993</td>\n",
       "      <td>416.109253</td>\n",
       "      <td>53441000.0</td>\n",
       "    </tr>\n",
       "    <tr>\n",
       "      <th>221043</th>\n",
       "      <td>SPY</td>\n",
       "      <td>NYSEArca</td>\n",
       "      <td>2021-07-01</td>\n",
       "      <td>430.43</td>\n",
       "      <td>SPY   231215P00635000</td>\n",
       "      <td>2023-12-15</td>\n",
       "      <td>635.0</td>\n",
       "      <td>P</td>\n",
       "      <td>A</td>\n",
       "      <td>211.50</td>\n",
       "      <td>...</td>\n",
       "      <td>0.710649</td>\n",
       "      <td>0.001053</td>\n",
       "      <td>-0.010792</td>\n",
       "      <td>-15.014119</td>\n",
       "      <td>428.869995</td>\n",
       "      <td>430.600006</td>\n",
       "      <td>428.799988</td>\n",
       "      <td>430.429993</td>\n",
       "      <td>416.109253</td>\n",
       "      <td>53441000.0</td>\n",
       "    </tr>\n",
       "    <tr>\n",
       "      <th>221044</th>\n",
       "      <td>SPY</td>\n",
       "      <td>NYSEArca</td>\n",
       "      <td>2021-07-01</td>\n",
       "      <td>430.43</td>\n",
       "      <td>SPY   231215C00640000</td>\n",
       "      <td>2023-12-15</td>\n",
       "      <td>640.0</td>\n",
       "      <td>C</td>\n",
       "      <td>A</td>\n",
       "      <td>2.73</td>\n",
       "      <td>...</td>\n",
       "      <td>0.672488</td>\n",
       "      <td>0.000997</td>\n",
       "      <td>-0.005217</td>\n",
       "      <td>0.463973</td>\n",
       "      <td>428.869995</td>\n",
       "      <td>430.600006</td>\n",
       "      <td>428.799988</td>\n",
       "      <td>430.429993</td>\n",
       "      <td>416.109253</td>\n",
       "      <td>53441000.0</td>\n",
       "    </tr>\n",
       "    <tr>\n",
       "      <th>221045</th>\n",
       "      <td>SPY</td>\n",
       "      <td>NYSEArca</td>\n",
       "      <td>2021-07-01</td>\n",
       "      <td>430.43</td>\n",
       "      <td>SPY   231215P00640000</td>\n",
       "      <td>2023-12-15</td>\n",
       "      <td>640.0</td>\n",
       "      <td>P</td>\n",
       "      <td>A</td>\n",
       "      <td>216.50</td>\n",
       "      <td>...</td>\n",
       "      <td>0.672488</td>\n",
       "      <td>0.000997</td>\n",
       "      <td>-0.010467</td>\n",
       "      <td>-15.169052</td>\n",
       "      <td>428.869995</td>\n",
       "      <td>430.600006</td>\n",
       "      <td>428.799988</td>\n",
       "      <td>430.429993</td>\n",
       "      <td>416.109253</td>\n",
       "      <td>53441000.0</td>\n",
       "    </tr>\n",
       "  </tbody>\n",
       "</table>\n",
       "<p>5 rows × 27 columns</p>\n",
       "</div>"
      ],
      "text/plain": [
       "       symbol  exchange       date  adjusted_close          option_symbol  \\\n",
       "221041    SPY  NYSEArca 2021-07-01          430.43  SPY   231215P00630000   \n",
       "221042    SPY  NYSEArca 2021-07-01          430.43  SPY   231215C00635000   \n",
       "221043    SPY  NYSEArca 2021-07-01          430.43  SPY   231215P00635000   \n",
       "221044    SPY  NYSEArca 2021-07-01          430.43  SPY   231215C00640000   \n",
       "221045    SPY  NYSEArca 2021-07-01          430.43  SPY   231215P00640000   \n",
       "\n",
       "       expiration  strike call/put style     ask  ...      vega     gamma  \\\n",
       "221041 2023-12-15   630.0        P     A  206.50  ...  0.750370  0.001112   \n",
       "221042 2023-12-15   635.0        C     A    2.20  ...  0.710649  0.001053   \n",
       "221043 2023-12-15   635.0        P     A  211.50  ...  0.710649  0.001053   \n",
       "221044 2023-12-15   640.0        C     A    2.73  ...  0.672488  0.000997   \n",
       "221045 2023-12-15   640.0        P     A  216.50  ...  0.672488  0.000997   \n",
       "\n",
       "           theta        rho        open        high         low       close  \\\n",
       "221041 -0.011128 -14.857175  428.869995  430.600006  428.799988  430.429993   \n",
       "221042 -0.005507   0.496773  428.869995  430.600006  428.799988  430.429993   \n",
       "221043 -0.010792 -15.014119  428.869995  430.600006  428.799988  430.429993   \n",
       "221044 -0.005217   0.463973  428.869995  430.600006  428.799988  430.429993   \n",
       "221045 -0.010467 -15.169052  428.869995  430.600006  428.799988  430.429993   \n",
       "\n",
       "         adj close  volume_ext  \n",
       "221041  416.109253  53441000.0  \n",
       "221042  416.109253  53441000.0  \n",
       "221043  416.109253  53441000.0  \n",
       "221044  416.109253  53441000.0  \n",
       "221045  416.109253  53441000.0  \n",
       "\n",
       "[5 rows x 27 columns]"
      ]
     },
     "execution_count": 16,
     "metadata": {},
     "output_type": "execute_result"
    }
   ],
   "source": [
    "print(f\"Unified dataset number of rows: \\t{dataset.shape[0]}\")\n",
    "print(f\"Unified dataset number of columns: \\t{dataset.shape[1]}\")\n",
    "print(f\"Unified dataset shape (rows, columns): {dataset.shape}\")\n",
    "dataset.tail()"
   ]
  },
  {
   "cell_type": "markdown",
   "metadata": {},
   "source": [
    "# Stage 7 - Data Analysis\n",
    "\n",
    "The dataset contains 221,046 rows and 27 columns or features.\n",
    "\n",
    "The variable we will try to predict is the column __'bid'__\n",
    "\n",
    "**We will analyse the following:**\n",
    "\n",
    "- 7.1 The target variable\n",
    "- 7.2 Variable types (categorical and numerical)\n",
    "- 7.3 Missing data\n",
    "- 7.4. Numerical variables\n",
    "\n",
    "\n",
    "## 7.1 Target\n",
    "\n",
    "Let's begin by exploring the target distribution.\n",
    "First we will __find__ the __unique values__ for every column."
   ]
  },
  {
   "cell_type": "code",
   "execution_count": 17,
   "metadata": {},
   "outputs": [
    {
     "data": {
      "text/plain": [
       "symbol                                                            [SPY]\n",
       "exchange                                                     [NYSEArca]\n",
       "date                  [2021-07-30T00:00:00.000000000, 2021-07-29T00:...\n",
       "adjusted_close        [438.51, 440.65, 438.83, 439.01, 441.02, 439.9...\n",
       "option_symbol         [SPY   210730C00215000, SPY   210730P00215000,...\n",
       "expiration            [2021-07-30T00:00:00.000000000, 2021-08-02T00:...\n",
       "strike                [215.0, 220.0, 225.0, 230.0, 235.0, 240.0, 245...\n",
       "call/put                                                         [C, P]\n",
       "style                                                               [A]\n",
       "ask                   [224.56, 0.01, 219.56, 214.56, 209.56, 204.56,...\n",
       "bid                   [223.35, 0.0, 218.35, 213.35, 208.35, 203.35, ...\n",
       "mean_price            [223.955, 0.0, 218.955, 213.955, 208.955, 203....\n",
       "iv                    [-1.0, 0.361599, 0.384595, 0.351977, 0.328632,...\n",
       "volume                [0, 50, 11, 2, 6, 13, 20, 14, 5, 4, 1, 3, 151,...\n",
       "open_interest         [0, 1401, 1, 328, 1996, 3764, 1361, 769, 6085,...\n",
       "stock_price_for_iv    [438.97, 440.13, 438.62, 438.14, 441.05, 439.6...\n",
       "delta                 [0.0, 1.0, 0.999999, -1e-06, 0.999995, -5e-06,...\n",
       "vega                  [0.0, 1e-06, 9e-06, 4.9e-05, 6.8e-05, 9.2e-05,...\n",
       "gamma                 [0.0, 2e-06, 9e-06, 1.2e-05, 1.6e-05, 2.2e-05,...\n",
       "theta                 [0.0, -0.000546, -0.000569, -0.000592, -0.0006...\n",
       "rho                   [0.0, 0.019726, 0.020548, 0.02137, 0.022192, 0...\n",
       "open                  [nan, 439.82000732421875, 439.67999267578125, ...\n",
       "high                  [nan, 441.79998779296875, 440.29998779296875, ...\n",
       "low                   [nan, 439.80999755859375, 437.30999755859375, ...\n",
       "close                 [nan, 440.6499938964844, 438.8299865722656, 43...\n",
       "adj close             [nan, 425.9892272949219, 424.2297668457031, 42...\n",
       "volume_ext            [nan, 47435300.0, 52472400.0, 67397100.0, 4371...\n",
       "dtype: object"
      ]
     },
     "execution_count": 17,
     "metadata": {},
     "output_type": "execute_result"
    }
   ],
   "source": [
    "dataset.apply(pd.unique)"
   ]
  },
  {
   "cell_type": "markdown",
   "metadata": {},
   "source": [
    "As we notice, the columns __symbol, exchange,__ and __style__ only have __one value__ throughout the whole dataset.\n",
    "\n",
    "The column __option_symbol__ has values that are __not relevant__ for our analysis.\n",
    "\n",
    "These __4 columns won't contribute__ to the analysis so we can proceed to __drop__ them."
   ]
  },
  {
   "cell_type": "code",
   "execution_count": 18,
   "metadata": {},
   "outputs": [
    {
     "data": {
      "text/plain": [
       "(221046, 23)"
      ]
     },
     "execution_count": 18,
     "metadata": {},
     "output_type": "execute_result"
    }
   ],
   "source": [
    "# drop symbol column\n",
    "dataset.drop('symbol', axis=1, inplace=True)\n",
    "#drop exchange\n",
    "dataset.drop('exchange', axis=1, inplace=True)\n",
    "#drop style\n",
    "dataset.drop('style', axis=1, inplace=True)\n",
    "#drop option_symbol\n",
    "dataset.drop('option_symbol', axis=1, inplace=True)\n",
    "\n",
    "dataset.shape"
   ]
  },
  {
   "cell_type": "markdown",
   "metadata": {},
   "source": [
    "Now we are left with __24 columns__:\n",
    "\n",
    "That is, __23 are predictive variables__ and __1__ is the __target variable__: __'bid'__\n",
    "\n",
    "Let's evaluate the __target distribution__ using a histogram."
   ]
  },
  {
   "cell_type": "code",
   "execution_count": 19,
   "metadata": {},
   "outputs": [
    {
     "data": {
      "image/png": "[encoded data removed]",
      "text/plain": [
       "<Figure size 640x480 with 1 Axes>"
      ]
     },
     "metadata": {},
     "output_type": "display_data"
    }
   ],
   "source": [
    "# histogran to evaluate target distribution\n",
    "dataset['bid'].hist(bins=50, density=True)\n",
    "plt.ylabel('Number of offers to buy')\n",
    "plt.xlabel('last offer to buy')\n",
    "plt.show()"
   ]
  },
  {
   "cell_type": "markdown",
   "metadata": {},
   "source": [
    "### 7.2 Variable Types\n",
    "\n",
    "Next, let's __identify__ the __categorical and numerical variables__ on our 23 predictive columns"
   ]
  },
  {
   "cell_type": "code",
   "execution_count": 20,
   "metadata": {},
   "outputs": [
    {
     "name": "stdout",
     "output_type": "stream",
     "text": [
      "Number of categorical variables:  1 \n",
      "\n",
      "['call/put']\n"
     ]
    }
   ],
   "source": [
    "# let's identify the categorical variables\n",
    "# we will capture those of type *object*\n",
    "\n",
    "cat_vars = [var for var in dataset.columns if dataset[var].dtype == 'O']\n",
    "\n",
    "# number of categorical variables\n",
    "print('Number of categorical variables: ', len(cat_vars), '\\n')\n",
    "print(cat_vars)"
   ]
  },
  {
   "cell_type": "code",
   "execution_count": 21,
   "metadata": {},
   "outputs": [
    {
     "name": "stdout",
     "output_type": "stream",
     "text": [
      "Number of categorical variables:  19 \n",
      "\n",
      "['stock_price_for_iv', 'theta', 'adj close', 'delta', 'strike', 'mean_price', 'vega', 'open_interest', 'open', 'low', 'volume_ext', 'gamma', 'ask', 'rho', 'iv', 'close', 'adjusted_close', 'high', 'volume']\n"
     ]
    }
   ],
   "source": [
    "# now let's identify the numerical variables\n",
    "tem_vars = ['date', 'expiration']\n",
    "\n",
    "num_vars = [\n",
    "    var for var in dataset.columns if var not in cat_vars and var != 'bid'\n",
    "]\n",
    "\n",
    "num_vars = list(set(num_vars) - set(tem_vars))\n",
    "# number of numerical variables\n",
    "print('Number of categorical variables: ', len(num_vars), '\\n')\n",
    "print(num_vars)"
   ]
  },
  {
   "cell_type": "markdown",
   "metadata": {},
   "source": [
    "### 7.3 Missing values\n",
    "\n",
    "Let's go ahead and find out __which variables/columns__ of the dataset __contain missing values__.\n",
    "\n",
    "We can also display the __percentage of missing values__ of these variables as follows."
   ]
  },
  {
   "cell_type": "code",
   "execution_count": 22,
   "metadata": {},
   "outputs": [
    {
     "data": {
      "text/plain": [
       "open          0.048524\n",
       "high          0.048524\n",
       "low           0.048524\n",
       "close         0.048524\n",
       "adj close     0.048524\n",
       "volume_ext    0.048524\n",
       "dtype: float64"
      ]
     },
     "execution_count": 22,
     "metadata": {},
     "output_type": "execute_result"
    }
   ],
   "source": [
    "# make a list of the variables that contain missing values\n",
    "vars_with_na = [var for var in dataset.columns if dataset[var].isnull().sum() > 0]\n",
    "\n",
    "# determine percentage of missing values (expressed as decimals)\n",
    "# and display the result ordered by % of missing data\n",
    "\n",
    "dataset[vars_with_na].isnull().mean().sort_values(ascending=False)"
   ]
  },
  {
   "cell_type": "markdown",
   "metadata": {},
   "source": [
    "Our dataset contains __6 variables__ with __missing values__\n",
    "\n",
    "This means that to train a machine learning model with this data set, we need to __deal with these varaibles__. (4%)\n",
    "\n",
    "To deal with them, we will __fill__ our __missing values with__ the __mean__ of each column."
   ]
  },
  {
   "cell_type": "code",
   "execution_count": 23,
   "metadata": {},
   "outputs": [],
   "source": [
    "#Missing values in numerical variables, with the mean\n",
    "for i in vars_with_na:\n",
    "    dataset[i].fillna(dataset[i].median(), inplace=True)"
   ]
  },
  {
   "cell_type": "markdown",
   "metadata": {},
   "source": [
    "### 7.4 Numerical Variables\n",
    "\n",
    "Now we can deal with the numerical variables.\n",
    "\n",
    "Let's plot the __last offer to buy__ vs __days__ of July 2021 (from 1 to 29)."
   ]
  },
  {
   "cell_type": "code",
   "execution_count": 24,
   "metadata": {},
   "outputs": [
    {
     "data": {
      "text/plain": [
       "Text(0, 0.5, 'last offer to buy')"
      ]
     },
     "execution_count": 24,
     "metadata": {},
     "output_type": "execute_result"
    },
    {
     "data": {
      "image/png": "[encoded data removed]",
      "text/plain": [
       "<Figure size 640x480 with 1 Axes>"
      ]
     },
     "metadata": {},
     "output_type": "display_data"
    }
   ],
   "source": [
    "# plot last offer to buy over time\n",
    "dataset.groupby('date')['bid'].median().plot()\n",
    "plt.ylabel('last offer to buy')"
   ]
  },
  {
   "cell_type": "markdown",
   "metadata": {},
   "source": [
    "We can plot multiple __histograms__, one for each of our __numerical continuous variables__."
   ]
  },
  {
   "cell_type": "code",
   "execution_count": 25,
   "metadata": {},
   "outputs": [
    {
     "name": "stdout",
     "output_type": "stream",
     "text": [
      "Number of continuous variables:  19\n"
     ]
    },
    {
     "data": {
      "image/png": "[encoded data removed]",
      "text/plain": [
       "<Figure size 1500x1500 with 20 Axes>"
      ]
     },
     "metadata": {},
     "output_type": "display_data"
    }
   ],
   "source": [
    "# lets plot histograms for all continuous variables\n",
    "# make list of continuous variables\n",
    "cont_vars = [\n",
    "    var for var in num_vars if var not in tem_vars]\n",
    "\n",
    "print('Number of continuous variables: ', len(cont_vars))\n",
    "\n",
    "dataset[cont_vars].hist(bins=30, figsize=(15,15))\n",
    "plt.show()"
   ]
  },
  {
   "cell_type": "markdown",
   "metadata": {},
   "source": [
    "Now let's __split__ our data in our __train__ and __test__ datasets.\n",
    "\n",
    "Remember we are __targeting__ the __'bid'__ column on July 30, 2021, based on the data from July 1 to 29."
   ]
  },
  {
   "cell_type": "code",
   "execution_count": 26,
   "metadata": {},
   "outputs": [
    {
     "name": "stdout",
     "output_type": "stream",
     "text": [
      "(210320, 23)\n",
      "(10726, 23)\n"
     ]
    }
   ],
   "source": [
    "X = dataset.loc[(dataset['date'] >= '2021-07-01')\n",
    "                     & (dataset['date'] <= '2021-07-29')]\n",
    "Y = dataset.loc[(dataset['date'] >= '2021-07-30')]\n",
    "\n",
    "print(X.shape)\n",
    "print(Y.shape)\n",
    "\n",
    "x_train = X.drop(['bid','date','expiration'], axis=1)\n",
    "y_train = X['bid']\n",
    "x_test = Y.drop(['bid','date','expiration'], axis=1)\n",
    "y_test = Y['bid']\n"
   ]
  },
  {
   "cell_type": "code",
   "execution_count": 27,
   "metadata": {},
   "outputs": [],
   "source": [
    "# re-map strings to numbers, which determine quality\n",
    "\n",
    "qual_mappings = {'C': 0, 'P': 1}\n",
    "\n",
    "for var in cat_vars:\n",
    "    x_train[var] = x_train[var].map(qual_mappings)\n",
    "    x_test[var] = x_test[var].map(qual_mappings)\n"
   ]
  },
  {
   "cell_type": "markdown",
   "metadata": {},
   "source": [
    "--\n",
    "\n",
    "Finally we __build__ our __Linear Regression model__ to __predict__ the value of __'bid'__ on __July 30, 2021__"
   ]
  },
  {
   "cell_type": "code",
   "execution_count": 28,
   "metadata": {},
   "outputs": [
    {
     "data": {
      "text/html": [
       "<style>#sk-container-id-1 {color: black;}#sk-container-id-1 pre{padding: 0;}#sk-container-id-1 div.sk-toggleable {background-color: white;}#sk-container-id-1 label.sk-toggleable__label {cursor: pointer;display: block;width: 100%;margin-bottom: 0;padding: 0.3em;box-sizing: border-box;text-align: center;}#sk-container-id-1 label.sk-toggleable__label-arrow:before {content: \"▸\";float: left;margin-right: 0.25em;color: #696969;}#sk-container-id-1 label.sk-toggleable__label-arrow:hover:before {color: black;}#sk-container-id-1 div.sk-estimator:hover label.sk-toggleable__label-arrow:before {color: black;}#sk-container-id-1 div.sk-toggleable__content {max-height: 0;max-width: 0;overflow: hidden;text-align: left;background-color: #f0f8ff;}#sk-container-id-1 div.sk-toggleable__content pre {margin: 0.2em;color: black;border-radius: 0.25em;background-color: #f0f8ff;}#sk-container-id-1 input.sk-toggleable__control:checked~div.sk-toggleable__content {max-height: 200px;max-width: 100%;overflow: auto;}#sk-container-id-1 input.sk-toggleable__control:checked~label.sk-toggleable__label-arrow:before {content: \"▾\";}#sk-container-id-1 div.sk-estimator input.sk-toggleable__control:checked~label.sk-toggleable__label {background-color: #d4ebff;}#sk-container-id-1 div.sk-label input.sk-toggleable__control:checked~label.sk-toggleable__label {background-color: #d4ebff;}#sk-container-id-1 input.sk-hidden--visually {border: 0;clip: rect(1px 1px 1px 1px);clip: rect(1px, 1px, 1px, 1px);height: 1px;margin: -1px;overflow: hidden;padding: 0;position: absolute;width: 1px;}#sk-container-id-1 div.sk-estimator {font-family: monospace;background-color: #f0f8ff;border: 1px dotted black;border-radius: 0.25em;box-sizing: border-box;margin-bottom: 0.5em;}#sk-container-id-1 div.sk-estimator:hover {background-color: #d4ebff;}#sk-container-id-1 div.sk-parallel-item::after {content: \"\";width: 100%;border-bottom: 1px solid gray;flex-grow: 1;}#sk-container-id-1 div.sk-label:hover label.sk-toggleable__label {background-color: #d4ebff;}#sk-container-id-1 div.sk-serial::before {content: \"\";position: absolute;border-left: 1px solid gray;box-sizing: border-box;top: 0;bottom: 0;left: 50%;z-index: 0;}#sk-container-id-1 div.sk-serial {display: flex;flex-direction: column;align-items: center;background-color: white;padding-right: 0.2em;padding-left: 0.2em;position: relative;}#sk-container-id-1 div.sk-item {position: relative;z-index: 1;}#sk-container-id-1 div.sk-parallel {display: flex;align-items: stretch;justify-content: center;background-color: white;position: relative;}#sk-container-id-1 div.sk-item::before, #sk-container-id-1 div.sk-parallel-item::before {content: \"\";position: absolute;border-left: 1px solid gray;box-sizing: border-box;top: 0;bottom: 0;left: 50%;z-index: -1;}#sk-container-id-1 div.sk-parallel-item {display: flex;flex-direction: column;z-index: 1;position: relative;background-color: white;}#sk-container-id-1 div.sk-parallel-item:first-child::after {align-self: flex-end;width: 50%;}#sk-container-id-1 div.sk-parallel-item:last-child::after {align-self: flex-start;width: 50%;}#sk-container-id-1 div.sk-parallel-item:only-child::after {width: 0;}#sk-container-id-1 div.sk-dashed-wrapped {border: 1px dashed gray;margin: 0 0.4em 0.5em 0.4em;box-sizing: border-box;padding-bottom: 0.4em;background-color: white;}#sk-container-id-1 div.sk-label label {font-family: monospace;font-weight: bold;display: inline-block;line-height: 1.2em;}#sk-container-id-1 div.sk-label-container {text-align: center;}#sk-container-id-1 div.sk-container {/* jupyter's `normalize.less` sets `[hidden] { display: none; }` but bootstrap.min.css set `[hidden] { display: none !important; }` so we also need the `!important` here to be able to override the default hidden behavior on the sphinx rendered scikit-learn.org. See: https://github.com/scikit-learn/scikit-learn/issues/21755 */display: inline-block !important;position: relative;}#sk-container-id-1 div.sk-text-repr-fallback {display: none;}</style><div id=\"sk-container-id-1\" class=\"sk-top-container\"><div class=\"sk-text-repr-fallback\"><pre>LinearRegression()</pre><b>In a Jupyter environment, please rerun this cell to show the HTML representation or trust the notebook. <br />On GitHub, the HTML representation is unable to render, please try loading this page with nbviewer.org.</b></div><div class=\"sk-container\" hidden><div class=\"sk-item\"><div class=\"sk-estimator sk-toggleable\"><input class=\"sk-toggleable__control sk-hidden--visually\" id=\"sk-estimator-id-1\" type=\"checkbox\" checked><label for=\"sk-estimator-id-1\" class=\"sk-toggleable__label sk-toggleable__label-arrow\">LinearRegression</label><div class=\"sk-toggleable__content\"><pre>LinearRegression()</pre></div></div></div></div></div>"
      ],
      "text/plain": [
       "LinearRegression()"
      ]
     },
     "execution_count": 28,
     "metadata": {},
     "output_type": "execute_result"
    }
   ],
   "source": [
    "model = LinearRegression()\n",
    "model.fit(x_train, y_train)"
   ]
  },
  {
   "cell_type": "code",
   "execution_count": 29,
   "metadata": {},
   "outputs": [],
   "source": [
    "y_pred = model.predict(x_test)"
   ]
  },
  {
   "cell_type": "markdown",
   "metadata": {},
   "source": [
    "# Stage 8 - Data Visualization\n",
    "\n",
    "We __communicate__ the __analysis results__ to the business users.\n",
    "\n",
    "In this case, we will __plot__ the __predicted value__ of __'bid'__, based on our linear regression model."
   ]
  },
  {
   "cell_type": "code",
   "execution_count": 30,
   "metadata": {},
   "outputs": [
    {
     "data": {
      "image/png": "[encoded data removed]",
      "text/plain": [
       "<Figure size 1000x400 with 1 Axes>"
      ]
     },
     "metadata": {},
     "output_type": "display_data"
    }
   ],
   "source": [
    "plt.figure(figsize=(10, 4))\n",
    "plt.style.use('dark_background')\n",
    "plt.title('Linear Regression', color=\"green\")\n",
    "plt.scatter(y_pred, y_test, color=\"#FFC0CB\")\n",
    "plt.scatter(y_test, y_test, color=\"red\")\n",
    "plt.plot(y_test, y_test, color=\"yellow\")\n",
    "plt.legend([\"Predicted_bid\", \"Actual_bid\", \"Regression Line\"], loc=\"lower right\", facecolor='green', labelcolor='white')\n",
    "\n",
    "plt.xlabel('Predicted bid')\n",
    "plt.ylabel('Actual bid')\n",
    "\n",
    "plt.show()"
   ]
  },
  {
   "cell_type": "markdown",
   "metadata": {},
   "source": [
    "As we can see, the __predicted bid values__ (line on the right) are very __far__ away from the __actual bid values__ (line on the left) from July 30, 2021\n",
    "\n",
    "; therefore showing a __low accuracy__ on our Linear Regression __model__\n",
    "\n",
    "This means that, __based on the stock market values__ from a month, we could __not predict__ the __last offer to buy (bid)__ (before accepting or rejecting the offer) on the stock market.\n",
    "\n",
    "The main reason for these results are:\n",
    "- There are many zero values on our dataset, which drag the mean and standard deviation values\n",
    "- Given that the mean and standard deviation values do not represent our dataset, there are many outliers on our data\n",
    "- These multiple outliers shrink our linear regression model, overfitting the prediction\n",
    "- We are not performing multiple iterations on our data analysis given the time for the analysis\n",
    "- For better results we could perform __imputations__ for these outliers and zero values on our unified dataset"
   ]
  },
  {
   "cell_type": "markdown",
   "metadata": {},
   "source": [
    "# Stage 9 - Utilization of Analysis Results\n",
    "\n"
   ]
  },
  {
   "cell_type": "markdown",
   "metadata": {},
   "source": [
    "Given the results, we would have to __perform more iterations__ on our data analysis __to accurately predict__ the __bid__ value on July 30, 2021.\n",
    "\n",
    "However, the prediction of our linear regression model is similar to the actual values, but __shrinked to the right with an offset__.\n",
    "\n",
    "By continue performing an __exploratory__ and __predictive analysis__, we could execute more tasks like:\n",
    "\n",
    "- __deleting zero values__\n",
    "-  identifying and deleting __outliers__\n",
    "\n",
    "to present better results to the business users.\n",
    "\n",
    "After we come with better results we could talk about __utilization of the analysis results__ in the following ways:\n",
    "\n",
    "- As we succeed in predicting the bid value for the stocks on July 30, the business could deploy this linear regression model on their production environment to get a new predicition every month.\n",
    "    \n",
    "- The results could mark a precedent for the subsequent month and business users could act accordingly before the last day of the month comes.\n",
    "\n",
    "- This will enhance the decision-making of traders, when buying stocks before they increase their last offer to buy.\n",
    "\n",
    "- When applying these practices, the business could significantly increase their monthly revenue.\n",
    "\n",
    "- As data scientists, we have to iteratively update the lineal regression model with newest datasets to have better and updated results."
   ]
  },
  {
   "cell_type": "markdown",
   "metadata": {},
   "source": [
    "# References\n",
    "\n",
    "- Sklearn Linear Regression Model Documentation\n",
    "\n",
    "https://scikit-learn.org/stable/modules/generated/sklearn.linear_model.LinearRegression.html\n",
    "\n",
    "- Stock Market Analysis and Prediction using LSTM\n",
    "\n",
    "https://www.kaggle.com/code/faressayah/stock-market-analysis-prediction-using-lstm\n",
    "\n",
    "- Stock Market Dataset\n",
    "\n",
    "https://www.kaggle.com/datasets/jacksoncrow/stock-market-dataset\n",
    "\n",
    "- Yahoo stock market, finance, and business\n",
    "\n",
    "https://ca.finance.yahoo.com/\n",
    "\n",
    "- Understanding Relationship between features in Machine Learning\n",
    "\n",
    "https://medium.com/@rameshkttr60/understanding-relationship-between-features-in-machine-learning-7c5f2e789b03"
   ]
  }
 ],
 "metadata": {
  "kernelspec": {
   "display_name": "Python 3 (ipykernel)",
   "language": "python",
   "name": "python3"
  },
  "language_info": {
   "codemirror_mode": {
    "name": "ipython",
    "version": 3
   },
   "file_extension": ".py",
   "mimetype": "text/x-python",
   "name": "python",
   "nbconvert_exporter": "python",
   "pygments_lexer": "ipython3",
   "version": "3.11.4"
  }
 },
 "nbformat": 4,
 "nbformat_minor": 4
}
