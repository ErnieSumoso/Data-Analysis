{
 "cells": [
  {
   "cell_type": "code",
   "execution_count": 1,
   "id": "c7d7c389-335c-4baa-8f41-f5cf819155e7",
   "metadata": {
    "tags": []
   },
   "outputs": [],
   "source": [
    "import re\n",
    "\n",
    "# to handle datasets\n",
    "import pandas as pd\n",
    "import numpy as np\n",
    "\n",
    "# for visualization\n",
    "import matplotlib.pyplot as plt\n",
    "\n",
    "# to divide train and test set\n",
    "from sklearn.model_selection import train_test_split\n",
    "\n",
    "# feature scaling\n",
    "from sklearn.preprocessing import StandardScaler\n",
    "\n",
    "# to build the models\n",
    "from sklearn.linear_model import LogisticRegression\n",
    "\n",
    "# to evaluate the models\n",
    "from sklearn.metrics import accuracy_score, roc_auc_score\n",
    "\n",
    "# to persist the model and the scaler\n",
    "import joblib\n",
    "\n"
   ]
  },
  {
   "cell_type": "code",
   "execution_count": 2,
   "id": "6005f93c-956a-4564-bf2b-ab73fd461ea7",
   "metadata": {
    "tags": []
   },
   "outputs": [
    {
     "name": "stdout",
     "output_type": "stream",
     "text": [
      "Index(['symbol', 'exchange', 'date', 'adjusted close', 'option symbol',\n",
      "       'expiration', 'strike', 'call/put', 'style', 'ask', 'bid', 'mean price',\n",
      "       'iv', 'volume', 'open interest', 'stock price for iv', '*', 'delta',\n",
      "       'vega', 'gamma', 'theta', 'rho'],\n",
      "      dtype='object')\n"
     ]
    }
   ],
   "source": [
    "# 4. Data Extraction\n",
    "df = pd.read_csv(r'data_download.csv') # we import the data\n",
    "print(df.columns) # showing columns"
   ]
  },
  {
   "cell_type": "code",
   "execution_count": 3,
   "id": "94ddd80d-3504-478e-b11e-459da0be0c9b",
   "metadata": {
    "tags": []
   },
   "outputs": [
    {
     "data": {
      "text/plain": [
       "symbol                                                            [SPY]\n",
       "exchange                                                     [NYSEArca]\n",
       "date                  [07/30/2021, 07/29/2021, 07/28/2021, 07/27/202...\n",
       "adjusted close        [438.51, 440.65, 438.83, 439.01, 441.02, 439.9...\n",
       "option symbol         [SPY   210730C00215000, SPY   210730P00215000,...\n",
       "expiration            [07/30/2021, 08/02/2021, 08/04/2021, 08/06/202...\n",
       "strike                [215.0, 220.0, 225.0, 230.0, 235.0, 240.0, 245...\n",
       "call/put                                                         [C, P]\n",
       "style                                                               [A]\n",
       "ask                   [224.56, 0.01, 219.56, 214.56, 209.56, 204.56,...\n",
       "bid                   [223.35, 0.0, 218.35, 213.35, 208.35, 203.35, ...\n",
       "mean price            [223.955, 0.0, 218.955, 213.955, 208.955, 203....\n",
       "iv                    [-1.0, 0.361599, 0.384595, 0.351977, 0.328632,...\n",
       "volume                [0, 50, 11, 2, 6, 13, 20, 14, 5, 4, 1, 3, 151,...\n",
       "open interest         [0, 1401, 1, 328, 1996, 3764, 1361, 769, 6085,...\n",
       "stock price for iv    [438.97, 440.13, 438.62, 438.14, 441.05, 439.6...\n",
       "*                                                              [nan, *]\n",
       "delta                 [0.0, 1.0, 0.999999, -1e-06, 0.999995, -5e-06,...\n",
       "vega                  [0.0, 1e-06, 9e-06, 4.9e-05, 6.8e-05, 9.2e-05,...\n",
       "gamma                 [0.0, 2e-06, 9e-06, 1.2e-05, 1.6e-05, 2.2e-05,...\n",
       "theta                 [0.0, -0.000546, -0.000569, -0.000592, -0.0006...\n",
       "rho                   [0.0, 0.019726, 0.020548, 0.02137, 0.022192, 0...\n",
       "dtype: object"
      ]
     },
     "execution_count": 3,
     "metadata": {},
     "output_type": "execute_result"
    }
   ],
   "source": [
    "# show unique values for each column\n",
    "df.apply(pd.unique)\n",
    "\n",
    "# We realize that the next columns are useless because they only have 1 value:\n",
    "# 'symbol', 'exchange', '*', and 'style'"
   ]
  },
  {
   "cell_type": "code",
   "execution_count": 4,
   "id": "685fe6b2-fdbb-43e6-968a-d3d0cb9fca87",
   "metadata": {
    "tags": []
   },
   "outputs": [
    {
     "data": {
      "text/plain": [
       "Index(['date', 'adjusted close', 'option symbol', 'expiration', 'strike',\n",
       "       'call/put', 'ask', 'bid', 'mean price', 'iv', 'volume', 'open interest',\n",
       "       'stock price for iv', 'delta', 'vega', 'gamma', 'theta', 'rho'],\n",
       "      dtype='object')"
      ]
     },
     "execution_count": 4,
     "metadata": {},
     "output_type": "execute_result"
    }
   ],
   "source": [
    "# We proceed to drop the 4 unnecessary columns\n",
    "df.drop(['symbol', 'exchange', '*','style'], axis=1, inplace=True)\n",
    "df.columns"
   ]
  },
  {
   "cell_type": "code",
   "execution_count": 5,
   "id": "3898ad67-e245-4473-8c53-e2b8d0741044",
   "metadata": {
    "tags": []
   },
   "outputs": [
    {
     "data": {
      "text/plain": [
       "Index(['date', 'adjusted close', 'expiration', 'strike', 'call/put', 'ask',\n",
       "       'bid', 'mean price', 'iv', 'volume', 'open interest',\n",
       "       'stock price for iv', 'delta', 'vega', 'gamma', 'theta', 'rho'],\n",
       "      dtype='object')"
      ]
     },
     "execution_count": 5,
     "metadata": {},
     "output_type": "execute_result"
    }
   ],
   "source": [
    "# 'option symbol' is a column that we do not need because it is just a label. We proceed to drop the column\n",
    "df.drop(['option symbol'], axis=1, inplace=True)\n",
    "df. columns"
   ]
  },
  {
   "cell_type": "code",
   "execution_count": 6,
   "id": "c4ca6ef3-6cb1-4061-81b1-9842e9266a77",
   "metadata": {
    "tags": []
   },
   "outputs": [
    {
     "name": "stdout",
     "output_type": "stream",
     "text": [
      "Number of numerical features: 14\n",
      "Number of categorical features: 3\n"
     ]
    }
   ],
   "source": [
    "# Find the number of numerical and categorical variables in our dataset\n",
    "vars_num = [c for c in df.columns if df[c].dtypes!='O']\n",
    "\n",
    "vars_cat = [c for c in df.columns if df[c].dtypes=='O']\n",
    "\n",
    "print('Number of numerical features: {}'.format(len(vars_num)))\n",
    "print('Number of categorical features: {}'.format(len(vars_cat)))"
   ]
  },
  {
   "cell_type": "code",
   "execution_count": 7,
   "id": "ecdccb50-0b7e-4202-8448-ed91fb5c34b0",
   "metadata": {
    "tags": []
   },
   "outputs": [
    {
     "name": "stdout",
     "output_type": "stream",
     "text": [
      "<class 'pandas.core.frame.DataFrame'>\n",
      "RangeIndex: 221046 entries, 0 to 221045\n",
      "Data columns (total 17 columns):\n",
      " #   Column              Non-Null Count   Dtype         \n",
      "---  ------              --------------   -----         \n",
      " 0   date                221046 non-null  datetime64[ns]\n",
      " 1   adjusted close      221046 non-null  float64       \n",
      " 2   expiration          221046 non-null  datetime64[ns]\n",
      " 3   strike              221046 non-null  float64       \n",
      " 4   call/put            221046 non-null  object        \n",
      " 5   ask                 221046 non-null  float64       \n",
      " 6   bid                 221046 non-null  float64       \n",
      " 7   mean price          221046 non-null  float64       \n",
      " 8   iv                  221046 non-null  float64       \n",
      " 9   volume              221046 non-null  int64         \n",
      " 10  open interest       221046 non-null  int64         \n",
      " 11  stock price for iv  221046 non-null  float64       \n",
      " 12  delta               221046 non-null  float64       \n",
      " 13  vega                221046 non-null  float64       \n",
      " 14  gamma               221046 non-null  float64       \n",
      " 15  theta               221046 non-null  float64       \n",
      " 16  rho                 221046 non-null  float64       \n",
      "dtypes: datetime64[ns](2), float64(12), int64(2), object(1)\n",
      "memory usage: 28.7+ MB\n"
     ]
    }
   ],
   "source": [
    "# Convert the 'date' column into datetime\n",
    "df['date'] = pd.to_datetime(df['date'])\n",
    "df['expiration'] = pd.to_datetime(df['expiration'])\n",
    "df.info()"
   ]
  },
  {
   "cell_type": "code",
   "execution_count": 8,
   "id": "3ca5444d-25bd-493a-ba1a-7d29b7de47b3",
   "metadata": {
    "tags": []
   },
   "outputs": [
    {
     "data": {
      "text/plain": [
       "date                  0\n",
       "adjusted close        0\n",
       "expiration            0\n",
       "strike                0\n",
       "call/put              0\n",
       "ask                   0\n",
       "bid                   0\n",
       "mean price            0\n",
       "iv                    0\n",
       "volume                0\n",
       "open interest         0\n",
       "stock price for iv    0\n",
       "delta                 0\n",
       "vega                  0\n",
       "gamma                 0\n",
       "theta                 0\n",
       "rho                   0\n",
       "dtype: int64"
      ]
     },
     "execution_count": 8,
     "metadata": {},
     "output_type": "execute_result"
    }
   ],
   "source": [
    "# 5. Data Validation and Cleansing\n",
    "df.isnull().sum() # We don't have null values"
   ]
  },
  {
   "cell_type": "code",
   "execution_count": 9,
   "id": "4a9289d0-e268-4af5-8e84-fd430d843372",
   "metadata": {
    "tags": []
   },
   "outputs": [],
   "source": [
    "# 6. Data Aggregation and Representation\n",
    "# We don't need to gather new features from other sources because we were provided with the dataset\n",
    "# Create day, month, and year columns\n",
    "\n",
    "df['day'] = df['date'].dt.day\n",
    "df['month'] = df['date'].dt.month\n",
    "df['year'] = df['date'].dt.year\n",
    "\n",
    "df['day_expiration'] = df['expiration'].dt.day\n",
    "df['month_expiration'] = df['expiration'].dt.month\n",
    "df['year_expiration'] = df['expiration'].dt.year"
   ]
  },
  {
   "cell_type": "code",
   "execution_count": 10,
   "id": "0328fc0d-5d58-451d-9db4-4d94d6e1733f",
   "metadata": {
    "tags": []
   },
   "outputs": [
    {
     "data": {
      "text/plain": [
       "Index(['adjusted close', 'strike', 'call/put', 'ask', 'bid', 'mean price',\n",
       "       'iv', 'volume', 'open interest', 'stock price for iv', 'delta', 'vega',\n",
       "       'gamma', 'theta', 'rho', 'day', 'month', 'year', 'day_expiration',\n",
       "       'month_expiration', 'year_expiration'],\n",
       "      dtype='object')"
      ]
     },
     "execution_count": 10,
     "metadata": {},
     "output_type": "execute_result"
    }
   ],
   "source": [
    "# Now we can drop 'date' column\n",
    "df.drop(['date'], axis=1, inplace=True)\n",
    "df.drop(['expiration'], axis=1, inplace=True)\n",
    "df.columns"
   ]
  },
  {
   "cell_type": "code",
   "execution_count": 11,
   "id": "fe4cda8f-973e-4829-bfdd-df8370b5e53e",
   "metadata": {
    "tags": []
   },
   "outputs": [
    {
     "data": {
      "text/plain": [
       "adjusted close        [438.51, 440.65, 438.83, 439.01, 441.02, 439.9...\n",
       "strike                [215.0, 220.0, 225.0, 230.0, 235.0, 240.0, 245...\n",
       "call/put                                                         [C, P]\n",
       "ask                   [224.56, 0.01, 219.56, 214.56, 209.56, 204.56,...\n",
       "bid                   [223.35, 0.0, 218.35, 213.35, 208.35, 203.35, ...\n",
       "mean price            [223.955, 0.0, 218.955, 213.955, 208.955, 203....\n",
       "iv                    [-1.0, 0.361599, 0.384595, 0.351977, 0.328632,...\n",
       "volume                [0, 50, 11, 2, 6, 13, 20, 14, 5, 4, 1, 3, 151,...\n",
       "open interest         [0, 1401, 1, 328, 1996, 3764, 1361, 769, 6085,...\n",
       "stock price for iv    [438.97, 440.13, 438.62, 438.14, 441.05, 439.6...\n",
       "delta                 [0.0, 1.0, 0.999999, -1e-06, 0.999995, -5e-06,...\n",
       "vega                  [0.0, 1e-06, 9e-06, 4.9e-05, 6.8e-05, 9.2e-05,...\n",
       "gamma                 [0.0, 2e-06, 9e-06, 1.2e-05, 1.6e-05, 2.2e-05,...\n",
       "theta                 [0.0, -0.000546, -0.000569, -0.000592, -0.0006...\n",
       "rho                   [0.0, 0.019726, 0.020548, 0.02137, 0.022192, 0...\n",
       "day                   [30, 29, 28, 27, 26, 23, 22, 21, 20, 19, 16, 1...\n",
       "month                                                               [7]\n",
       "year                                                             [2021]\n",
       "day_expiration        [30, 2, 4, 6, 9, 11, 13, 16, 18, 20, 23, 25, 2...\n",
       "month_expiration                      [7, 8, 9, 10, 11, 12, 1, 2, 3, 6]\n",
       "year_expiration                                      [2021, 2022, 2023]\n",
       "dtype: object"
      ]
     },
     "execution_count": 11,
     "metadata": {},
     "output_type": "execute_result"
    }
   ],
   "source": [
    "df.apply(pd.unique)\n",
    "# As the Month and Year only have 1 value, we can drop both columns"
   ]
  },
  {
   "cell_type": "code",
   "execution_count": 12,
   "id": "eb1f7a0d-9667-40fe-aec5-8dfd65f9d448",
   "metadata": {
    "tags": []
   },
   "outputs": [
    {
     "data": {
      "text/plain": [
       "Index(['adjusted close', 'strike', 'call/put', 'ask', 'bid', 'mean price',\n",
       "       'iv', 'volume', 'open interest', 'stock price for iv', 'delta', 'vega',\n",
       "       'gamma', 'theta', 'rho', 'day', 'day_expiration', 'month_expiration',\n",
       "       'year_expiration'],\n",
       "      dtype='object')"
      ]
     },
     "execution_count": 12,
     "metadata": {},
     "output_type": "execute_result"
    }
   ],
   "source": [
    "# We drop Month and Year columns because they only have 1 unique value\n",
    "df.drop(['month', 'year'], axis=1, inplace=True)\n",
    "df.columns"
   ]
  },
  {
   "cell_type": "code",
   "execution_count": 13,
   "id": "643b0752-e2a1-4a74-9d5b-789730292336",
   "metadata": {
    "tags": []
   },
   "outputs": [
    {
     "name": "stdout",
     "output_type": "stream",
     "text": [
      "['call/put']\n",
      "['C' 'P']\n"
     ]
    }
   ],
   "source": [
    "# As we only have 1 categorical variable (nominal)\n",
    "# we need to apply one-hot-encoding to this variable ('call/put' column)\n",
    "vars_num = [c for c in df.columns if df[c].dtypes!='O']\n",
    "\n",
    "vars_cat = [c for c in df.columns if df[c].dtypes=='O']\n",
    "\n",
    "print(vars_cat)\n",
    "print(df[vars_cat[0]].unique())"
   ]
  },
  {
   "cell_type": "code",
   "execution_count": 15,
   "id": "85d7c266-72a7-4577-a63f-11cbd859bee2",
   "metadata": {
    "tags": []
   },
   "outputs": [
    {
     "data": {
      "text/plain": [
       "Index(['adjusted close', 'strike', 'call/put', 'ask', 'bid', 'mean price',\n",
       "       'iv', 'volume', 'open interest', 'stock price for iv', 'delta', 'vega',\n",
       "       'gamma', 'theta', 'rho', 'day', 'day_expiration', 'month_expiration',\n",
       "       'year_expiration'],\n",
       "      dtype='object')"
      ]
     },
     "execution_count": 15,
     "metadata": {},
     "output_type": "execute_result"
    }
   ],
   "source": [
    "# So we have to create 2 columns: 'C' and 'P' with 0 and 1 corresponding values\n",
    "df.columns"
   ]
  },
  {
   "cell_type": "code",
   "execution_count": null,
   "id": "fd62b5a9-a637-488c-b3cd-5470dd48b710",
   "metadata": {
    "tags": []
   },
   "outputs": [],
   "source": [
    "# So we have to create 2 columns: 'C' and 'P' with 0 and 1 corresponding values\n",
    "from sklearn.preprocessing import OneHotEncoder  \n",
    "\n",
    "df2 = df.copy()\n",
    "\n",
    "\n",
    "# Converting type of columns to category\n",
    "df2['call/put'] = df2['call/put'].astype('category')\n",
    "\n",
    "\n",
    "# Assigning numerical values and storing it in another columns\n",
    "df2['c/p'] = df2['call/put'].cat.codes\n",
    "  \n",
    "# Create an instance of One-hot-encoder\n",
    "enc = OneHotEncoder()\n",
    "  \n",
    "# Passing encoded columns\n",
    "  \n",
    "enc_data = pd.DataFrame(enc.fit_transform(df2[['c/p']]).toarray())\n",
    "\n",
    "# Merge with main\n",
    "df = df.join(enc_data)\n",
    "\n",
    "df.rename(['0','1'], ['cp0','cp1'])\n",
    "df.columns"
   ]
  },
  {
   "cell_type": "code",
   "execution_count": null,
   "id": "3d1e1743-eca7-40ab-a22b-49d99d083613",
   "metadata": {
    "tags": []
   },
   "outputs": [],
   "source": [
    "# 7. Data Analysis\n",
    "df.shape"
   ]
  },
  {
   "cell_type": "code",
   "execution_count": null,
   "id": "9a8701bb-6416-43f7-827a-c5f96d99bb97",
   "metadata": {
    "tags": []
   },
   "outputs": [],
   "source": [
    "df.describe()"
   ]
  },
  {
   "cell_type": "code",
   "execution_count": null,
   "id": "3bf32492-9fcd-4c4e-a46a-7f893d35613e",
   "metadata": {
    "tags": []
   },
   "outputs": [],
   "source": []
  },
  {
   "cell_type": "code",
   "execution_count": null,
   "id": "e99d9ed7-4427-4650-b95f-95bb6053d296",
   "metadata": {},
   "outputs": [],
   "source": []
  },
  {
   "cell_type": "code",
   "execution_count": null,
   "id": "39740073-5a33-4ce7-bf87-fa897c3efbfe",
   "metadata": {},
   "outputs": [],
   "source": []
  },
  {
   "cell_type": "code",
   "execution_count": null,
   "id": "83b07876-96d5-4942-93cc-c3a5c0f83b79",
   "metadata": {},
   "outputs": [],
   "source": []
  },
  {
   "cell_type": "code",
   "execution_count": null,
   "id": "5470bc88-231e-433b-b8fe-eab7e3abc6e7",
   "metadata": {},
   "outputs": [],
   "source": []
  },
  {
   "cell_type": "code",
   "execution_count": null,
   "id": "9b26016f-6722-41fe-b2ce-bdc2662e50d4",
   "metadata": {},
   "outputs": [],
   "source": []
  },
  {
   "cell_type": "code",
   "execution_count": null,
   "id": "9da5c1e1-f06a-46d3-ad11-7981d6863e6a",
   "metadata": {},
   "outputs": [],
   "source": []
  }
 ],
 "metadata": {
  "kernelspec": {
   "display_name": "Python 3 (ipykernel)",
   "language": "python",
   "name": "python3"
  },
  "language_info": {
   "codemirror_mode": {
    "name": "ipython",
    "version": 3
   },
   "file_extension": ".py",
   "mimetype": "text/x-python",
   "name": "python",
   "nbconvert_exporter": "python",
   "pygments_lexer": "ipython3",
   "version": "3.11.4"
  }
 },
 "nbformat": 4,
 "nbformat_minor": 5
}
