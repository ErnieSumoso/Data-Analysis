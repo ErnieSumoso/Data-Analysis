{
 "cells": [
  {
   "cell_type": "code",
   "execution_count": null,
   "id": "d24a5d9c-73e7-4762-84e0-7b3573cbba41",
   "metadata": {},
   "outputs": [],
   "source": []
  },
  {
   "cell_type": "markdown",
   "id": "a3ff6720-ed8a-46a1-b8a6-905aff48aa44",
   "metadata": {},
   "source": [
    "### 1 & 2. Collecting, Saving Data, and basic Exploratory Data Analysis (EDA)"
   ]
  },
  {
   "cell_type": "code",
   "execution_count": 1,
   "id": "fd064986-9627-4575-9a62-075021a603c4",
   "metadata": {
    "tags": []
   },
   "outputs": [
    {
     "data": {
      "text/plain": [
       "['altcoin.csv',\n",
       " 'APPL.csv',\n",
       " 'bitcoin.csv',\n",
       " 'coindesk.csv',\n",
       " 'Cryptocurrency.csv',\n",
       " 'Gold.csv',\n",
       " 'GOOG.csv',\n",
       " 'YHOO.csv']"
      ]
     },
     "execution_count": 1,
     "metadata": {},
     "output_type": "execute_result"
    }
   ],
   "source": [
    "from os import listdir\n",
    "from os.path import isfile, join\n",
    "\n",
    "# get the list of file names from the data path\n",
    "data_path = 'data'\n",
    "files = [file for file in listdir(data_path) if isfile(join(data_path, file))]\n",
    "files"
   ]
  },
  {
   "cell_type": "code",
   "execution_count": 2,
   "id": "ba9845d4-3a13-4b93-84d9-b8fb25c8dc3b",
   "metadata": {
    "tags": []
   },
   "outputs": [
    {
     "name": "stdout",
     "output_type": "stream",
     "text": [
      "1. Sample data extracted from: 'altcoin.csv'\n"
     ]
    },
    {
     "data": {
      "text/html": [
       "<div>\n",
       "<style scoped>\n",
       "    .dataframe tbody tr th:only-of-type {\n",
       "        vertical-align: middle;\n",
       "    }\n",
       "\n",
       "    .dataframe tbody tr th {\n",
       "        vertical-align: top;\n",
       "    }\n",
       "\n",
       "    .dataframe thead th {\n",
       "        text-align: right;\n",
       "    }\n",
       "</style>\n",
       "<table border=\"1\" class=\"dataframe\">\n",
       "  <thead>\n",
       "    <tr style=\"text-align: right;\">\n",
       "      <th></th>\n",
       "      <th>Datetime</th>\n",
       "      <th>Tweet Id</th>\n",
       "      <th>Text</th>\n",
       "      <th>URL</th>\n",
       "      <th>User</th>\n",
       "    </tr>\n",
       "  </thead>\n",
       "  <tbody>\n",
       "    <tr>\n",
       "      <th>5000</th>\n",
       "      <td>2023-03-09 19:03:33+00:00</td>\n",
       "      <td>1633906384160034817</td>\n",
       "      <td>🔔 Public Company Accounting Oversight Board (P...</td>\n",
       "      <td>https://twitter.com/Altcoin_Alerts/status/1633...</td>\n",
       "      <td>https://twitter.com/Altcoin_Alerts</td>\n",
       "    </tr>\n",
       "  </tbody>\n",
       "</table>\n",
       "</div>"
      ],
      "text/plain": [
       "                       Datetime             Tweet Id  \\\n",
       "5000  2023-03-09 19:03:33+00:00  1633906384160034817   \n",
       "\n",
       "                                                   Text  \\\n",
       "5000  🔔 Public Company Accounting Oversight Board (P...   \n",
       "\n",
       "                                                    URL  \\\n",
       "5000  https://twitter.com/Altcoin_Alerts/status/1633...   \n",
       "\n",
       "                                    User  \n",
       "5000  https://twitter.com/Altcoin_Alerts  "
      ]
     },
     "metadata": {},
     "output_type": "display_data"
    },
    {
     "name": "stdout",
     "output_type": "stream",
     "text": [
      "2. Sample data extracted from: 'APPL.csv'\n"
     ]
    },
    {
     "data": {
      "text/html": [
       "<div>\n",
       "<style scoped>\n",
       "    .dataframe tbody tr th:only-of-type {\n",
       "        vertical-align: middle;\n",
       "    }\n",
       "\n",
       "    .dataframe tbody tr th {\n",
       "        vertical-align: top;\n",
       "    }\n",
       "\n",
       "    .dataframe thead th {\n",
       "        text-align: right;\n",
       "    }\n",
       "</style>\n",
       "<table border=\"1\" class=\"dataframe\">\n",
       "  <thead>\n",
       "    <tr style=\"text-align: right;\">\n",
       "      <th></th>\n",
       "      <th>Datetime</th>\n",
       "      <th>Tweet Id</th>\n",
       "      <th>Text</th>\n",
       "      <th>URL</th>\n",
       "      <th>User</th>\n",
       "    </tr>\n",
       "  </thead>\n",
       "  <tbody>\n",
       "    <tr>\n",
       "      <th>3180</th>\n",
       "      <td>2023-03-05 00:03:31+00:00</td>\n",
       "      <td>1632169937350303744</td>\n",
       "      <td>Apple’s Approval Process Delays Uniswap’s Mobi...</td>\n",
       "      <td>https://twitter.com/ZhotCrypto/status/16321699...</td>\n",
       "      <td>https://twitter.com/ZhotCrypto</td>\n",
       "    </tr>\n",
       "  </tbody>\n",
       "</table>\n",
       "</div>"
      ],
      "text/plain": [
       "                       Datetime             Tweet Id  \\\n",
       "3180  2023-03-05 00:03:31+00:00  1632169937350303744   \n",
       "\n",
       "                                                   Text  \\\n",
       "3180  Apple’s Approval Process Delays Uniswap’s Mobi...   \n",
       "\n",
       "                                                    URL  \\\n",
       "3180  https://twitter.com/ZhotCrypto/status/16321699...   \n",
       "\n",
       "                                User  \n",
       "3180  https://twitter.com/ZhotCrypto  "
      ]
     },
     "metadata": {},
     "output_type": "display_data"
    },
    {
     "name": "stdout",
     "output_type": "stream",
     "text": [
      "3. Sample data extracted from: 'bitcoin.csv'\n"
     ]
    },
    {
     "data": {
      "text/html": [
       "<div>\n",
       "<style scoped>\n",
       "    .dataframe tbody tr th:only-of-type {\n",
       "        vertical-align: middle;\n",
       "    }\n",
       "\n",
       "    .dataframe tbody tr th {\n",
       "        vertical-align: top;\n",
       "    }\n",
       "\n",
       "    .dataframe thead th {\n",
       "        text-align: right;\n",
       "    }\n",
       "</style>\n",
       "<table border=\"1\" class=\"dataframe\">\n",
       "  <thead>\n",
       "    <tr style=\"text-align: right;\">\n",
       "      <th></th>\n",
       "      <th>Datetime</th>\n",
       "      <th>Tweet Id</th>\n",
       "      <th>Text</th>\n",
       "      <th>URL</th>\n",
       "      <th>User</th>\n",
       "    </tr>\n",
       "  </thead>\n",
       "  <tbody>\n",
       "    <tr>\n",
       "      <th>5000</th>\n",
       "      <td>2023-03-10 22:03:06+00:00</td>\n",
       "      <td>1634313959904886786</td>\n",
       "      <td>@JulesXavier9 Obama didn’t take office until 2...</td>\n",
       "      <td>https://twitter.com/btc_liberates/status/16343...</td>\n",
       "      <td>https://twitter.com/btc_liberates</td>\n",
       "    </tr>\n",
       "  </tbody>\n",
       "</table>\n",
       "</div>"
      ],
      "text/plain": [
       "                       Datetime             Tweet Id  \\\n",
       "5000  2023-03-10 22:03:06+00:00  1634313959904886786   \n",
       "\n",
       "                                                   Text  \\\n",
       "5000  @JulesXavier9 Obama didn’t take office until 2...   \n",
       "\n",
       "                                                    URL  \\\n",
       "5000  https://twitter.com/btc_liberates/status/16343...   \n",
       "\n",
       "                                   User  \n",
       "5000  https://twitter.com/btc_liberates  "
      ]
     },
     "metadata": {},
     "output_type": "display_data"
    },
    {
     "name": "stdout",
     "output_type": "stream",
     "text": [
      "4. Sample data extracted from: 'coindesk.csv'\n"
     ]
    },
    {
     "data": {
      "text/html": [
       "<div>\n",
       "<style scoped>\n",
       "    .dataframe tbody tr th:only-of-type {\n",
       "        vertical-align: middle;\n",
       "    }\n",
       "\n",
       "    .dataframe tbody tr th {\n",
       "        vertical-align: top;\n",
       "    }\n",
       "\n",
       "    .dataframe thead th {\n",
       "        text-align: right;\n",
       "    }\n",
       "</style>\n",
       "<table border=\"1\" class=\"dataframe\">\n",
       "  <thead>\n",
       "    <tr style=\"text-align: right;\">\n",
       "      <th></th>\n",
       "      <th>Datetime</th>\n",
       "      <th>Tweet Id</th>\n",
       "      <th>Text</th>\n",
       "      <th>URL</th>\n",
       "      <th>User</th>\n",
       "    </tr>\n",
       "  </thead>\n",
       "  <tbody>\n",
       "    <tr>\n",
       "      <th>5000</th>\n",
       "      <td>2023-03-06 04:06:30+00:00</td>\n",
       "      <td>1632593471042142213</td>\n",
       "      <td>@milkyway16eth source coindesk -  Arca’s Hotz ...</td>\n",
       "      <td>https://twitter.com/hashtronaut207/status/1632...</td>\n",
       "      <td>https://twitter.com/hashtronaut207</td>\n",
       "    </tr>\n",
       "  </tbody>\n",
       "</table>\n",
       "</div>"
      ],
      "text/plain": [
       "                       Datetime             Tweet Id  \\\n",
       "5000  2023-03-06 04:06:30+00:00  1632593471042142213   \n",
       "\n",
       "                                                   Text  \\\n",
       "5000  @milkyway16eth source coindesk -  Arca’s Hotz ...   \n",
       "\n",
       "                                                    URL  \\\n",
       "5000  https://twitter.com/hashtronaut207/status/1632...   \n",
       "\n",
       "                                    User  \n",
       "5000  https://twitter.com/hashtronaut207  "
      ]
     },
     "metadata": {},
     "output_type": "display_data"
    },
    {
     "name": "stdout",
     "output_type": "stream",
     "text": [
      "5. Sample data extracted from: 'Cryptocurrency.csv'\n"
     ]
    },
    {
     "data": {
      "text/html": [
       "<div>\n",
       "<style scoped>\n",
       "    .dataframe tbody tr th:only-of-type {\n",
       "        vertical-align: middle;\n",
       "    }\n",
       "\n",
       "    .dataframe tbody tr th {\n",
       "        vertical-align: top;\n",
       "    }\n",
       "\n",
       "    .dataframe thead th {\n",
       "        text-align: right;\n",
       "    }\n",
       "</style>\n",
       "<table border=\"1\" class=\"dataframe\">\n",
       "  <thead>\n",
       "    <tr style=\"text-align: right;\">\n",
       "      <th></th>\n",
       "      <th>Datetime</th>\n",
       "      <th>Tweet Id</th>\n",
       "      <th>Text</th>\n",
       "      <th>URL</th>\n",
       "      <th>User</th>\n",
       "    </tr>\n",
       "  </thead>\n",
       "  <tbody>\n",
       "    <tr>\n",
       "      <th>5000</th>\n",
       "      <td>2023-03-10 14:44:37+00:00</td>\n",
       "      <td>1634203611403022336</td>\n",
       "      <td>Silvergate and Cryptocurrency😣😣</td>\n",
       "      <td>https://twitter.com/tamoinam/status/1634203611...</td>\n",
       "      <td>https://twitter.com/tamoinam</td>\n",
       "    </tr>\n",
       "  </tbody>\n",
       "</table>\n",
       "</div>"
      ],
      "text/plain": [
       "                       Datetime             Tweet Id  \\\n",
       "5000  2023-03-10 14:44:37+00:00  1634203611403022336   \n",
       "\n",
       "                                 Text  \\\n",
       "5000  Silvergate and Cryptocurrency😣😣   \n",
       "\n",
       "                                                    URL  \\\n",
       "5000  https://twitter.com/tamoinam/status/1634203611...   \n",
       "\n",
       "                              User  \n",
       "5000  https://twitter.com/tamoinam  "
      ]
     },
     "metadata": {},
     "output_type": "display_data"
    },
    {
     "name": "stdout",
     "output_type": "stream",
     "text": [
      "6. Sample data extracted from: 'Gold.csv'\n"
     ]
    },
    {
     "data": {
      "text/html": [
       "<div>\n",
       "<style scoped>\n",
       "    .dataframe tbody tr th:only-of-type {\n",
       "        vertical-align: middle;\n",
       "    }\n",
       "\n",
       "    .dataframe tbody tr th {\n",
       "        vertical-align: top;\n",
       "    }\n",
       "\n",
       "    .dataframe thead th {\n",
       "        text-align: right;\n",
       "    }\n",
       "</style>\n",
       "<table border=\"1\" class=\"dataframe\">\n",
       "  <thead>\n",
       "    <tr style=\"text-align: right;\">\n",
       "      <th></th>\n",
       "      <th>Datetime</th>\n",
       "      <th>Tweet Id</th>\n",
       "      <th>Text</th>\n",
       "      <th>URL</th>\n",
       "      <th>User</th>\n",
       "    </tr>\n",
       "  </thead>\n",
       "  <tbody>\n",
       "    <tr>\n",
       "      <th>5000</th>\n",
       "      <td>2023-03-10 22:37:01+00:00</td>\n",
       "      <td>1634322493056905217</td>\n",
       "      <td>Check out Vintage Bracelet Gold Tone Pink Ston...</td>\n",
       "      <td>https://twitter.com/ShopThar/status/1634322493...</td>\n",
       "      <td>https://twitter.com/ShopThar</td>\n",
       "    </tr>\n",
       "  </tbody>\n",
       "</table>\n",
       "</div>"
      ],
      "text/plain": [
       "                       Datetime             Tweet Id  \\\n",
       "5000  2023-03-10 22:37:01+00:00  1634322493056905217   \n",
       "\n",
       "                                                   Text  \\\n",
       "5000  Check out Vintage Bracelet Gold Tone Pink Ston...   \n",
       "\n",
       "                                                    URL  \\\n",
       "5000  https://twitter.com/ShopThar/status/1634322493...   \n",
       "\n",
       "                              User  \n",
       "5000  https://twitter.com/ShopThar  "
      ]
     },
     "metadata": {},
     "output_type": "display_data"
    },
    {
     "name": "stdout",
     "output_type": "stream",
     "text": [
      "7. Sample data extracted from: 'GOOG.csv'\n"
     ]
    },
    {
     "data": {
      "text/html": [
       "<div>\n",
       "<style scoped>\n",
       "    .dataframe tbody tr th:only-of-type {\n",
       "        vertical-align: middle;\n",
       "    }\n",
       "\n",
       "    .dataframe tbody tr th {\n",
       "        vertical-align: top;\n",
       "    }\n",
       "\n",
       "    .dataframe thead th {\n",
       "        text-align: right;\n",
       "    }\n",
       "</style>\n",
       "<table border=\"1\" class=\"dataframe\">\n",
       "  <thead>\n",
       "    <tr style=\"text-align: right;\">\n",
       "      <th></th>\n",
       "      <th>Datetime</th>\n",
       "      <th>Tweet Id</th>\n",
       "      <th>Text</th>\n",
       "      <th>URL</th>\n",
       "      <th>User</th>\n",
       "    </tr>\n",
       "  </thead>\n",
       "  <tbody>\n",
       "    <tr>\n",
       "      <th>5000</th>\n",
       "      <td>2023-03-05 12:01:20+00:00</td>\n",
       "      <td>1632350581569490946</td>\n",
       "      <td>Get instant updates and free trials join here ...</td>\n",
       "      <td>https://twitter.com/Smith28301/status/16323505...</td>\n",
       "      <td>https://twitter.com/Smith28301</td>\n",
       "    </tr>\n",
       "  </tbody>\n",
       "</table>\n",
       "</div>"
      ],
      "text/plain": [
       "                       Datetime             Tweet Id  \\\n",
       "5000  2023-03-05 12:01:20+00:00  1632350581569490946   \n",
       "\n",
       "                                                   Text  \\\n",
       "5000  Get instant updates and free trials join here ...   \n",
       "\n",
       "                                                    URL  \\\n",
       "5000  https://twitter.com/Smith28301/status/16323505...   \n",
       "\n",
       "                                User  \n",
       "5000  https://twitter.com/Smith28301  "
      ]
     },
     "metadata": {},
     "output_type": "display_data"
    },
    {
     "name": "stdout",
     "output_type": "stream",
     "text": [
      "8. Sample data extracted from: 'YHOO.csv'\n"
     ]
    },
    {
     "data": {
      "text/html": [
       "<div>\n",
       "<style scoped>\n",
       "    .dataframe tbody tr th:only-of-type {\n",
       "        vertical-align: middle;\n",
       "    }\n",
       "\n",
       "    .dataframe tbody tr th {\n",
       "        vertical-align: top;\n",
       "    }\n",
       "\n",
       "    .dataframe thead th {\n",
       "        text-align: right;\n",
       "    }\n",
       "</style>\n",
       "<table border=\"1\" class=\"dataframe\">\n",
       "  <thead>\n",
       "    <tr style=\"text-align: right;\">\n",
       "      <th></th>\n",
       "      <th>Datetime</th>\n",
       "      <th>Tweet Id</th>\n",
       "      <th>Text</th>\n",
       "      <th>URL</th>\n",
       "      <th>User</th>\n",
       "    </tr>\n",
       "  </thead>\n",
       "  <tbody>\n",
       "    <tr>\n",
       "      <th>3643</th>\n",
       "      <td>2023-03-05 00:00:48+00:00</td>\n",
       "      <td>1632169253079072768</td>\n",
       "      <td>@NguboAyimbathwa @ChristoThurston @ThuliMadons...</td>\n",
       "      <td>https://twitter.com/Bright_Afrika/status/16321...</td>\n",
       "      <td>https://twitter.com/Bright_Afrika</td>\n",
       "    </tr>\n",
       "  </tbody>\n",
       "</table>\n",
       "</div>"
      ],
      "text/plain": [
       "                       Datetime             Tweet Id  \\\n",
       "3643  2023-03-05 00:00:48+00:00  1632169253079072768   \n",
       "\n",
       "                                                   Text  \\\n",
       "3643  @NguboAyimbathwa @ChristoThurston @ThuliMadons...   \n",
       "\n",
       "                                                    URL  \\\n",
       "3643  https://twitter.com/Bright_Afrika/status/16321...   \n",
       "\n",
       "                                   User  \n",
       "3643  https://twitter.com/Bright_Afrika  "
      ]
     },
     "metadata": {},
     "output_type": "display_data"
    }
   ],
   "source": [
    "import pandas as pd\n",
    "\n",
    "# function to read multiple csv files from a path into a list of dataframes\n",
    "def read_csvs_from_path(data_path : str):\n",
    "    # get list of file names\n",
    "    files = [file for file in listdir(data_path) if isfile(join(data_path, file))]\n",
    "    dfs = []\n",
    "    \n",
    "    # loop through files, read the csv file and save the dataframe\n",
    "    for i, file in enumerate(files):\n",
    "        df = pd.read_csv(data_path + \"/\" + file)\n",
    "        print(str(i+1) + \". Sample data extracted from: '\" + file + \"'\")\n",
    "        display(df.tail(1))\n",
    "        dfs.append(df)\n",
    "        \n",
    "    # return the list of dataframes\n",
    "    return dfs\n",
    "\n",
    "dfs = read_csvs_from_path(data_path)"
   ]
  },
  {
   "cell_type": "code",
   "execution_count": 3,
   "id": "2389aa95-a20a-4e3a-bcfe-98396c7f7f6f",
   "metadata": {
    "tags": []
   },
   "outputs": [],
   "source": [
    "# function to verify a parameter type\n",
    "def verify_parameter(param, param_name, type_):\n",
    "    if not isinstance(param, type_):\n",
    "        raise ValueError(\"Parameter '\" + param_name + \"' must be a \" + str(type_))"
   ]
  },
  {
   "cell_type": "code",
   "execution_count": 4,
   "id": "48504f96-84cd-4065-823b-29f9559add52",
   "metadata": {
    "tags": []
   },
   "outputs": [],
   "source": [
    "# function to print a simple line of chars\n",
    "def print_lines(line:str = '-', n:int = 40):    \n",
    "    # verify parameters type\n",
    "    verify_parameter(line, 'line', str)\n",
    "    verify_parameter(n, 'n', int)\n",
    "\n",
    "    # print the line\n",
    "    print(line * n)"
   ]
  },
  {
   "cell_type": "code",
   "execution_count": 5,
   "id": "f50af51f-80d7-4815-be5f-b8f2b1fcb955",
   "metadata": {
    "tags": []
   },
   "outputs": [
    {
     "name": "stdout",
     "output_type": "stream",
     "text": [
      "----------------------------------------\n",
      "Dataframe from file: altcoin.csv\n",
      "Dataframe Rows: 5001\n",
      "Dataframe Columns: 5\n",
      "Column names: ['Datetime', 'Tweet Id', 'Text', 'URL', 'User']\n",
      "----------------------------------------\n",
      "Dataframe from file: APPL.csv\n",
      "Dataframe Rows: 3181\n",
      "Dataframe Columns: 5\n",
      "Column names: ['Datetime', 'Tweet Id', 'Text', 'URL', 'User']\n",
      "----------------------------------------\n",
      "Dataframe from file: bitcoin.csv\n",
      "Dataframe Rows: 5001\n",
      "Dataframe Columns: 5\n",
      "Column names: ['Datetime', 'Tweet Id', 'Text', 'URL', 'User']\n",
      "----------------------------------------\n",
      "Dataframe from file: coindesk.csv\n",
      "Dataframe Rows: 5001\n",
      "Dataframe Columns: 5\n",
      "Column names: ['Datetime', 'Tweet Id', 'Text', 'URL', 'User']\n",
      "----------------------------------------\n",
      "Dataframe from file: Cryptocurrency.csv\n",
      "Dataframe Rows: 5001\n",
      "Dataframe Columns: 5\n",
      "Column names: ['Datetime', 'Tweet Id', 'Text', 'URL', 'User']\n",
      "----------------------------------------\n",
      "Dataframe from file: Gold.csv\n",
      "Dataframe Rows: 5001\n",
      "Dataframe Columns: 5\n",
      "Column names: ['Datetime', 'Tweet Id', 'Text', 'URL', 'User']\n",
      "----------------------------------------\n",
      "Dataframe from file: GOOG.csv\n",
      "Dataframe Rows: 5001\n",
      "Dataframe Columns: 5\n",
      "Column names: ['Datetime', 'Tweet Id', 'Text', 'URL', 'User']\n",
      "----------------------------------------\n",
      "Dataframe from file: YHOO.csv\n",
      "Dataframe Rows: 3644\n",
      "Dataframe Columns: 5\n",
      "Column names: ['Datetime', 'Tweet Id', 'Text', 'URL', 'User']\n",
      "========================================\n",
      "TOTAL ROWS: 36831\n"
     ]
    }
   ],
   "source": [
    "class EDA:\n",
    "    def display_shape_and_colnames_df(self, df:pd.DataFrame, return_shape:bool = True):    \n",
    "        # verify parameters type\n",
    "        verify_parameter(df, 'df', pd.DataFrame)\n",
    "        verify_parameter(return_shape, 'return_shape', bool)\n",
    "            \n",
    "        # display dataframe shape and column names\n",
    "        print(\"Dataframe Rows:\", df.shape[0])\n",
    "        print(\"Dataframe Columns:\", df.shape[1])\n",
    "        print(\"Column names:\", df.columns.to_list())\n",
    "        \n",
    "        # return the shape if needed\n",
    "        if return_shape: return df.shape\n",
    "        \n",
    "    def display_shape_and_colnames_dfs(self, dfs:list, names:list):\n",
    "        # verify parameters type\n",
    "        verify_parameter(dfs, 'dfs', list)\n",
    "        verify_parameter(names, 'names', list)\n",
    "        assert len(names) == len(dfs), \"'dfs' and 'names' must have same length\"\n",
    "        \n",
    "        # display \n",
    "        total_rows = 0\n",
    "        for i, df in enumerate(dfs):\n",
    "            print_lines()\n",
    "            print(\"Dataframe from file:\", names[i])\n",
    "            df_shape = self.display_shape_and_colnames_df(df)\n",
    "            total_rows += df_shape[0]\n",
    "        print_lines(line='=')\n",
    "        print(\"TOTAL ROWS:\", total_rows)\n",
    "        \n",
    "eda = EDA()\n",
    "eda.display_shape_and_colnames_dfs(dfs, files)"
   ]
  },
  {
   "cell_type": "code",
   "execution_count": 6,
   "id": "e276f3fc-edad-4462-a34f-eff47145ea93",
   "metadata": {
    "tags": []
   },
   "outputs": [
    {
     "data": {
      "text/html": [
       "<div>\n",
       "<style scoped>\n",
       "    .dataframe tbody tr th:only-of-type {\n",
       "        vertical-align: middle;\n",
       "    }\n",
       "\n",
       "    .dataframe tbody tr th {\n",
       "        vertical-align: top;\n",
       "    }\n",
       "\n",
       "    .dataframe thead th {\n",
       "        text-align: right;\n",
       "    }\n",
       "</style>\n",
       "<table border=\"1\" class=\"dataframe\">\n",
       "  <thead>\n",
       "    <tr style=\"text-align: right;\">\n",
       "      <th></th>\n",
       "      <th>Datetime</th>\n",
       "      <th>Tweet Id</th>\n",
       "      <th>Text</th>\n",
       "      <th>URL</th>\n",
       "      <th>User</th>\n",
       "    </tr>\n",
       "  </thead>\n",
       "  <tbody>\n",
       "    <tr>\n",
       "      <th>36826</th>\n",
       "      <td>2023-03-05 00:14:38+00:00</td>\n",
       "      <td>1632172734581972992</td>\n",
       "      <td>Khosi did what 😂😂😂😤😤😤😤 yhoo ha.a Nana is dange...</td>\n",
       "      <td>https://twitter.com/MzuzwanaYamkela/status/163...</td>\n",
       "      <td>https://twitter.com/MzuzwanaYamkela</td>\n",
       "    </tr>\n",
       "    <tr>\n",
       "      <th>36827</th>\n",
       "      <td>2023-03-05 00:13:20+00:00</td>\n",
       "      <td>1632172404909789184</td>\n",
       "      <td>Yhoo Nana what is your business with Thabang y...</td>\n",
       "      <td>https://twitter.com/MzuzwanaYamkela/status/163...</td>\n",
       "      <td>https://twitter.com/MzuzwanaYamkela</td>\n",
       "    </tr>\n",
       "    <tr>\n",
       "      <th>36828</th>\n",
       "      <td>2023-03-05 00:07:45+00:00</td>\n",
       "      <td>1632170999515869184</td>\n",
       "      <td>Yes yhoo</td>\n",
       "      <td>https://twitter.com/Lissssativa/status/1632170...</td>\n",
       "      <td>https://twitter.com/Lissssativa</td>\n",
       "    </tr>\n",
       "    <tr>\n",
       "      <th>36829</th>\n",
       "      <td>2023-03-05 00:03:14+00:00</td>\n",
       "      <td>1632169864218435585</td>\n",
       "      <td>Yhoo I was about to go to bed 😭😭 #BBTitans</td>\n",
       "      <td>https://twitter.com/its_sommy/status/163216986...</td>\n",
       "      <td>https://twitter.com/its_sommy</td>\n",
       "    </tr>\n",
       "    <tr>\n",
       "      <th>36830</th>\n",
       "      <td>2023-03-05 00:00:48+00:00</td>\n",
       "      <td>1632169253079072768</td>\n",
       "      <td>@NguboAyimbathwa @ChristoThurston @ThuliMadons...</td>\n",
       "      <td>https://twitter.com/Bright_Afrika/status/16321...</td>\n",
       "      <td>https://twitter.com/Bright_Afrika</td>\n",
       "    </tr>\n",
       "  </tbody>\n",
       "</table>\n",
       "</div>"
      ],
      "text/plain": [
       "                        Datetime             Tweet Id  \\\n",
       "36826  2023-03-05 00:14:38+00:00  1632172734581972992   \n",
       "36827  2023-03-05 00:13:20+00:00  1632172404909789184   \n",
       "36828  2023-03-05 00:07:45+00:00  1632170999515869184   \n",
       "36829  2023-03-05 00:03:14+00:00  1632169864218435585   \n",
       "36830  2023-03-05 00:00:48+00:00  1632169253079072768   \n",
       "\n",
       "                                                    Text  \\\n",
       "36826  Khosi did what 😂😂😂😤😤😤😤 yhoo ha.a Nana is dange...   \n",
       "36827  Yhoo Nana what is your business with Thabang y...   \n",
       "36828                                           Yes yhoo   \n",
       "36829         Yhoo I was about to go to bed 😭😭 #BBTitans   \n",
       "36830  @NguboAyimbathwa @ChristoThurston @ThuliMadons...   \n",
       "\n",
       "                                                     URL  \\\n",
       "36826  https://twitter.com/MzuzwanaYamkela/status/163...   \n",
       "36827  https://twitter.com/MzuzwanaYamkela/status/163...   \n",
       "36828  https://twitter.com/Lissssativa/status/1632170...   \n",
       "36829  https://twitter.com/its_sommy/status/163216986...   \n",
       "36830  https://twitter.com/Bright_Afrika/status/16321...   \n",
       "\n",
       "                                      User  \n",
       "36826  https://twitter.com/MzuzwanaYamkela  \n",
       "36827  https://twitter.com/MzuzwanaYamkela  \n",
       "36828      https://twitter.com/Lissssativa  \n",
       "36829        https://twitter.com/its_sommy  \n",
       "36830    https://twitter.com/Bright_Afrika  "
      ]
     },
     "execution_count": 6,
     "metadata": {},
     "output_type": "execute_result"
    }
   ],
   "source": [
    "# applying a vertical concat on all our datasets\n",
    "df = pd.concat(dfs, axis=0).reset_index(drop=True)\n",
    "df.tail()"
   ]
  },
  {
   "cell_type": "code",
   "execution_count": 7,
   "id": "e843582d-613f-4459-9941-c4b2bca5016d",
   "metadata": {
    "tags": []
   },
   "outputs": [
    {
     "name": "stdout",
     "output_type": "stream",
     "text": [
      "Dataframe Rows: 36831\n",
      "Dataframe Columns: 5\n",
      "Column names: ['Datetime', 'Tweet Id', 'Text', 'URL', 'User']\n"
     ]
    }
   ],
   "source": [
    "eda.display_shape_and_colnames_df(df, return_shape=False)"
   ]
  },
  {
   "cell_type": "code",
   "execution_count": 8,
   "id": "d9c97899-9a08-4666-bfb2-23a4f5eca32a",
   "metadata": {
    "tags": []
   },
   "outputs": [
    {
     "name": "stdout",
     "output_type": "stream",
     "text": [
      "==============================\n",
      "# Missing values per column:\n"
     ]
    },
    {
     "data": {
      "text/plain": [
       "Datetime    0\n",
       "Tweet Id    0\n",
       "Text        0\n",
       "URL         0\n",
       "User        0\n",
       "dtype: int64"
      ]
     },
     "metadata": {},
     "output_type": "display_data"
    },
    {
     "name": "stdout",
     "output_type": "stream",
     "text": [
      "------------------------------\n",
      "% Missing values per column:\n"
     ]
    },
    {
     "data": {
      "text/plain": [
       "Datetime    0.0\n",
       "Tweet Id    0.0\n",
       "Text        0.0\n",
       "URL         0.0\n",
       "User        0.0\n",
       "dtype: float64"
      ]
     },
     "metadata": {},
     "output_type": "display_data"
    },
    {
     "name": "stdout",
     "output_type": "stream",
     "text": [
      "==============================\n",
      "==============================\n",
      "# Duplicated rows: 460\n",
      "------------------------------\n",
      "% Duplicated rows: 1.25\n",
      "==============================\n",
      "==============================\n",
      "# Unique values per column:\n"
     ]
    },
    {
     "data": {
      "text/plain": [
       "Datetime    29029\n",
       "Tweet Id    36371\n",
       "Text        35661\n",
       "URL         36371\n",
       "User        18564\n",
       "dtype: int64"
      ]
     },
     "metadata": {},
     "output_type": "display_data"
    },
    {
     "name": "stdout",
     "output_type": "stream",
     "text": [
      "------------------------------\n",
      "% Unique values per column (relative to total rows):\n"
     ]
    },
    {
     "data": {
      "text/plain": [
       "Datetime    78.82\n",
       "Tweet Id    98.75\n",
       "Text        96.82\n",
       "URL         98.75\n",
       "User        50.40\n",
       "dtype: float64"
      ]
     },
     "metadata": {},
     "output_type": "display_data"
    },
    {
     "name": "stdout",
     "output_type": "stream",
     "text": [
      "==============================\n"
     ]
    }
   ],
   "source": [
    "class EDA2():\n",
    "    def check_missing_values_df(self, df : pd.DataFrame):\n",
    "        # verify parameters type\n",
    "        verify_parameter(df, 'df', pd.DataFrame)\n",
    "        \n",
    "        # display missing values per column\n",
    "        print_lines(n=30, line='=')\n",
    "        print(\"# Missing values per column:\")\n",
    "        display(df.isna().sum())\n",
    "        print_lines(n=30)\n",
    "        print(\"% Missing values per column:\")\n",
    "        display(df.isna().mean() * 100)\n",
    "        print_lines(n=30, line='=')\n",
    "    \n",
    "    def check_duplicated_rows_df(self, df : pd.DataFrame):\n",
    "        # verify parameters type\n",
    "        verify_parameter(df, 'df', pd.DataFrame)\n",
    "        \n",
    "        # display duplicates from the dataset\n",
    "        print_lines(n=30, line='=')\n",
    "        print(\"# Duplicated rows:\", df.duplicated().sum())\n",
    "        print_lines(n=30)\n",
    "        print(\"% Duplicated rows:\", round(df.duplicated().mean() * 100, 2))\n",
    "        print_lines(n=30, line='=')\n",
    "    \n",
    "    def check_unique_values_df(self,df : pd.DataFrame):\n",
    "        # verify parameters type\n",
    "        verify_parameter(df, 'df', pd.DataFrame)\n",
    "            \n",
    "        # display unique values per column\n",
    "        print_lines(n=30, line='=')\n",
    "        print(\"# Unique values per column:\")\n",
    "        display(df.nunique())\n",
    "        print_lines(n=30)\n",
    "        print(\"% Unique values per column (relative to total rows):\")\n",
    "        display(round(df.nunique()*100 / df.shape[0], 2))\n",
    "        print_lines(n=30, line='=')\n",
    "    \n",
    "eda = EDA2()\n",
    "eda.check_missing_values_df(df)\n",
    "eda.check_duplicated_rows_df(df)\n",
    "eda.check_unique_values_df(df)"
   ]
  },
  {
   "cell_type": "markdown",
   "id": "899b8c6c-cf2b-442e-ab73-59f38d5e0e38",
   "metadata": {},
   "source": [
    "### 3. Cleaning Data"
   ]
  },
  {
   "cell_type": "code",
   "execution_count": 9,
   "id": "a564faee-ee33-4322-915c-19860caf9314",
   "metadata": {},
   "outputs": [],
   "source": [
    "import string\n",
    "import re\n",
    "\n",
    "class CleanData():\n",
    "    \n",
    "    def remove_duplicates_df(self, df : pd.DataFrame, reset_index : bool = True):\n",
    "        # verify parameters type\n",
    "        verify_parameter(df, 'df', pd.DataFrame)\n",
    "        verify_parameter(reset_index, 'reset_index', bool)\n",
    "        \n",
    "        # perform the duplicate removal on a copy of the dataframe\n",
    "        df_copy = df.copy()\n",
    "        \n",
    "        # check duplicates before and after removal\n",
    "        eda = EDA2()\n",
    "        print(\"Before Removal:\")\n",
    "        eda.check_duplicated_rows_df(df_copy)\n",
    "        \n",
    "        # actually remove the duplicates and reset index if specified\n",
    "        df_copy.drop_duplicates(inplace=True)\n",
    "        if reset_index: df_copy.reset_index(drop=True, inplace=True)\n",
    "        \n",
    "        # check duplicates before and after removal\n",
    "        print(\"After Removal:\")\n",
    "        eda.check_duplicated_rows_df(df_copy)\n",
    "        \n",
    "        return df_copy\n",
    "    \n",
    "\n",
    "    def remove_punctuation_string(self, text : str):\n",
    "        # verify parameters type\n",
    "        verify_parameter(text, 'text', str)\n",
    "         \n",
    "        # return the string value but without punctuation\n",
    "        return text.translate(str.maketrans('', '', string.punctuation))\n",
    "        \n",
    "    def remove_numbers_string(self, text : str):\n",
    "        # verify parameters type\n",
    "        verify_parameter(text, 'text', str)\n",
    "        \n",
    "        # return the string value but without numbers\n",
    "        return re.sub(r'\\d+', '', text)\n",
    "    \n",
    "cd = CleanData()"
   ]
  },
  {
   "cell_type": "code",
   "execution_count": 10,
   "id": "5fa8e32f-f493-4091-b9c6-afd3501a4275",
   "metadata": {
    "tags": []
   },
   "outputs": [
    {
     "name": "stdout",
     "output_type": "stream",
     "text": [
      "Before Removal:\n",
      "==============================\n",
      "# Duplicated rows: 460\n",
      "------------------------------\n",
      "% Duplicated rows: 1.25\n",
      "==============================\n",
      "After Removal:\n",
      "==============================\n",
      "# Duplicated rows: 0\n",
      "------------------------------\n",
      "% Duplicated rows: 0.0\n",
      "==============================\n"
     ]
    }
   ],
   "source": [
    "# remove duplicates\n",
    "df = cd.remove_duplicates_df(df)\n",
    "# remove punctuation in Text column\n",
    "df['Text'] = df['Text'].apply(cd.remove_punctuation_string)\n",
    "# remove numbers in Text column\n",
    "df['Text'] = df['Text'].apply(cd.remove_numbers_string)"
   ]
  },
  {
   "cell_type": "code",
   "execution_count": 11,
   "id": "f728d7c8-7dc6-4c9b-951f-0e28250c94fd",
   "metadata": {
    "tags": []
   },
   "outputs": [
    {
     "data": {
      "text/html": [
       "<div>\n",
       "<style scoped>\n",
       "    .dataframe tbody tr th:only-of-type {\n",
       "        vertical-align: middle;\n",
       "    }\n",
       "\n",
       "    .dataframe tbody tr th {\n",
       "        vertical-align: top;\n",
       "    }\n",
       "\n",
       "    .dataframe thead th {\n",
       "        text-align: right;\n",
       "    }\n",
       "</style>\n",
       "<table border=\"1\" class=\"dataframe\">\n",
       "  <thead>\n",
       "    <tr style=\"text-align: right;\">\n",
       "      <th></th>\n",
       "      <th>Datetime</th>\n",
       "      <th>Tweet Id</th>\n",
       "      <th>Text</th>\n",
       "      <th>URL</th>\n",
       "      <th>User</th>\n",
       "    </tr>\n",
       "  </thead>\n",
       "  <tbody>\n",
       "    <tr>\n",
       "      <th>36366</th>\n",
       "      <td>2023-03-05 00:14:38+00:00</td>\n",
       "      <td>1632172734581972992</td>\n",
       "      <td>Khosi did what 😂😂😂😤😤😤😤 yhoo haa Nana is danger...</td>\n",
       "      <td>https://twitter.com/MzuzwanaYamkela/status/163...</td>\n",
       "      <td>https://twitter.com/MzuzwanaYamkela</td>\n",
       "    </tr>\n",
       "    <tr>\n",
       "      <th>36367</th>\n",
       "      <td>2023-03-05 00:13:20+00:00</td>\n",
       "      <td>1632172404909789184</td>\n",
       "      <td>Yhoo Nana what is your business with Thabang y...</td>\n",
       "      <td>https://twitter.com/MzuzwanaYamkela/status/163...</td>\n",
       "      <td>https://twitter.com/MzuzwanaYamkela</td>\n",
       "    </tr>\n",
       "    <tr>\n",
       "      <th>36368</th>\n",
       "      <td>2023-03-05 00:07:45+00:00</td>\n",
       "      <td>1632170999515869184</td>\n",
       "      <td>Yes yhoo</td>\n",
       "      <td>https://twitter.com/Lissssativa/status/1632170...</td>\n",
       "      <td>https://twitter.com/Lissssativa</td>\n",
       "    </tr>\n",
       "    <tr>\n",
       "      <th>36369</th>\n",
       "      <td>2023-03-05 00:03:14+00:00</td>\n",
       "      <td>1632169864218435585</td>\n",
       "      <td>Yhoo I was about to go to bed 😭😭 BBTitans</td>\n",
       "      <td>https://twitter.com/its_sommy/status/163216986...</td>\n",
       "      <td>https://twitter.com/its_sommy</td>\n",
       "    </tr>\n",
       "    <tr>\n",
       "      <th>36370</th>\n",
       "      <td>2023-03-05 00:00:48+00:00</td>\n",
       "      <td>1632169253079072768</td>\n",
       "      <td>NguboAyimbathwa ChristoThurston ThuliMadonsela...</td>\n",
       "      <td>https://twitter.com/Bright_Afrika/status/16321...</td>\n",
       "      <td>https://twitter.com/Bright_Afrika</td>\n",
       "    </tr>\n",
       "  </tbody>\n",
       "</table>\n",
       "</div>"
      ],
      "text/plain": [
       "                        Datetime             Tweet Id  \\\n",
       "36366  2023-03-05 00:14:38+00:00  1632172734581972992   \n",
       "36367  2023-03-05 00:13:20+00:00  1632172404909789184   \n",
       "36368  2023-03-05 00:07:45+00:00  1632170999515869184   \n",
       "36369  2023-03-05 00:03:14+00:00  1632169864218435585   \n",
       "36370  2023-03-05 00:00:48+00:00  1632169253079072768   \n",
       "\n",
       "                                                    Text  \\\n",
       "36366  Khosi did what 😂😂😂😤😤😤😤 yhoo haa Nana is danger...   \n",
       "36367  Yhoo Nana what is your business with Thabang y...   \n",
       "36368                                           Yes yhoo   \n",
       "36369          Yhoo I was about to go to bed 😭😭 BBTitans   \n",
       "36370  NguboAyimbathwa ChristoThurston ThuliMadonsela...   \n",
       "\n",
       "                                                     URL  \\\n",
       "36366  https://twitter.com/MzuzwanaYamkela/status/163...   \n",
       "36367  https://twitter.com/MzuzwanaYamkela/status/163...   \n",
       "36368  https://twitter.com/Lissssativa/status/1632170...   \n",
       "36369  https://twitter.com/its_sommy/status/163216986...   \n",
       "36370  https://twitter.com/Bright_Afrika/status/16321...   \n",
       "\n",
       "                                      User  \n",
       "36366  https://twitter.com/MzuzwanaYamkela  \n",
       "36367  https://twitter.com/MzuzwanaYamkela  \n",
       "36368      https://twitter.com/Lissssativa  \n",
       "36369        https://twitter.com/its_sommy  \n",
       "36370    https://twitter.com/Bright_Afrika  "
      ]
     },
     "execution_count": 11,
     "metadata": {},
     "output_type": "execute_result"
    }
   ],
   "source": [
    "df.tail()"
   ]
  },
  {
   "cell_type": "code",
   "execution_count": 12,
   "id": "53a95648-0882-4c42-a316-058feaa72727",
   "metadata": {
    "tags": []
   },
   "outputs": [],
   "source": [
    "from nltk import word_tokenize\n",
    "\n",
    "class CleanData2():\n",
    "    \n",
    "    def get_words_len_n(self, df : pd.DataFrame, col : str, n : int, display : bool = False, return_list : bool = True):\n",
    "        # verify parameters type\n",
    "        verify_parameter(df, 'df', pd.DataFrame)\n",
    "        verify_parameter(col, 'col', str)\n",
    "        verify_parameter(n, 'n', int)\n",
    "        verify_parameter(display, 'display', bool)\n",
    "        verify_parameter(return_list, 'return_list', bool)\n",
    "        \n",
    "        # initialize list of words of len n\n",
    "        words = []\n",
    "\n",
    "        # loop through unique values of the specified column\n",
    "        for unique in df[col].unique():\n",
    "            \n",
    "            # get unique words len n from tokens of unique\n",
    "            words += [word for word in word_tokenize(unique) if len(word) == n]\n",
    "        \n",
    "        # sort and delete repeated values in the list\n",
    "        words = sorted(list(set(words)))\n",
    "        \n",
    "        if display:\n",
    "            print(\"Words of length\", n, \"from column '\" + col + \"'\")\n",
    "            print(words)\n",
    "        if return_list: return words\n",
    "    \n",
    "    def remove_words_df_col(self, df : pd.DataFrame, col : str, words : list):\n",
    "        # verify parameters type\n",
    "        verify_parameter(df, 'df', pd.DataFrame)\n",
    "        verify_parameter(col, 'col', str)\n",
    "        verify_parameter(words, 'words', list)\n",
    "        \n",
    "        # perform removal on a copy of the dataframe\n",
    "        df_copy = df.copy()\n",
    "        \n",
    "        # loop through unique values of the column\n",
    "        for unique in df[col].unique():\n",
    "            # tokenize the unique value from the column\n",
    "            tokens = word_tokenize(unique)\n",
    "\n",
    "            # remove the words from the tokens\n",
    "            tokens = [token for token in tokens if token not in words]\n",
    "            \n",
    "            # replace the new value in the df column\n",
    "            df_copy[col].replace(unique, ' '.join(tokens), inplace=True)\n",
    "        \n",
    "        return df_copy\n",
    "    \n",
    "    def remove_chars_df_col(self, df : pd.DataFrame, col : str, chars : list):\n",
    "        # verify parameters type\n",
    "        verify_parameter(df, 'df', pd.DataFrame)\n",
    "        verify_parameter(col, 'col', str)\n",
    "        verify_parameter(chars, 'chars', list)\n",
    "        \n",
    "        # perform removal on a copy of the dataframe\n",
    "        df_copy = df.copy()\n",
    "        \n",
    "        # remove all chars from the column values\n",
    "        for char in chars:\n",
    "            df_copy[col] = df_copy[col].str.replace(char, '', regex=False)\n",
    "        \n",
    "        return df_copy\n",
    "\n",
    "cd2 = CleanData2()"
   ]
  },
  {
   "cell_type": "code",
   "execution_count": 13,
   "id": "fd466f0f-90f3-4016-a677-7fdb3aea3e6e",
   "metadata": {
    "tags": []
   },
   "outputs": [
    {
     "name": "stdout",
     "output_type": "stream",
     "text": [
      "Words of length 1 from column 'Text'\n",
      "['A', 'B', 'C', 'D', 'E', 'F', 'G', 'H', 'I', 'J', 'K', 'L', 'M', 'N', 'O', 'P', 'Q', 'R', 'S', 'T', 'U', 'V', 'W', 'X', 'Y', 'Z', 'a', 'b', 'c', 'd', 'e', 'f', 'g', 'h', 'i', 'j', 'k', 'l', 'm', 'n', 'o', 'p', 'q', 'r', 's', 't', 'u', 'v', 'w', 'x', 'y', 'z', '¡', '£', '¥', '«', '¯', '°', '±', '´', '·', '»', '¿', 'À', 'È', 'É', 'Ö', 'à', 'á', 'å', 'è', 'é', 'ñ', 'ó', 'ü', 'ý', 'ı', '̀', '̫', '͒', 'Ξ', 'ή', 'η', 'ω', 'А', 'В', 'И', 'С', 'У', 'Я', 'а', 'в', 'з', 'и', 'о', 'п', 'с', 'у', 'я', 'і', '،', '؟', 'ب', 'د', 'ع', 'ف', 'م', 'و', 'ي', '٪', 'ۗ', 'ۚ', 'आ', 'न', 'ಠ', 'ಥ', 'ඉ', 'ด', 'อ', 'ื', '฿', 'ᐟ', 'ạ', 'ở', '\\u200b', '–', '—', '‘', '’', '“', '”', '„', '•', '‣', '…', '‧', '›', '‿', '\\u2060', '₦', '€', '₱', '₹', '₺', '₿', '⃣', '↑', '→', '↓', '∂', '−', '√', '∠', '⊂', '⊃', '⋆', '⌘', '⍃', '⏪', '⏫', '⏬', '⏰', '⏳', '─', '│', '┐', '║', '╥', '▅', '■', '▪', '▰', '▶', '▸', '►', '◆', '●', '◔', '◾', '★', '☆', '♟', '♡', '♥', '♦', '♪', '♫', '♾', '⚒', '⚔', '⚠', '⚡', '⚤', '⚽', '⛏', '⛓', '⛔', '⛵', '✅', '✊', '✌', '✍', '✔', '✨', '❌', '❓', '❟', '❤', '➕', '➖', '➡', '➤', '⟶', '⠀', '⦁', '⦿', '⧫', '⭐', '。', '【', '】', 'あ', 'え', 'っ', 'と', 'の', 'み', '・', 'ー', 'ㅋ', 'ㅤ', '与', '个', '億', '円', '和', '哎', '在', '夜', '将', '据', '日', '月', '来', '様', '歩', '猫', '町', '的', '腸', '話', '谈', '金', '鍵', '革', '黒', 'Ꝋ', '간', '갈', '걍', '거', '건', '것', '곳', '그', '꼭', '나', '날', '내', '넌', '년', '눈', '늘', '다', '더', '돈', '돼', '된', '등', '또', '막', '말', '몸', '뭐', '뭘', '미', '및', '배', '비', '수', '시', '싹', '썰', '아', '안', '앗', '약', '에', '온', '왜', '원', '으', '의', '이', '인', '일', '자', '잘', '저', '전', '제', '좀', '줄', '중', '짱', '참', '첩', '캐', '코', '큿', '키', '트', '폰', '한', '할', '해', '헉', '화', '후', '훗', '﴾', '﴿', 'ﷺ', '︿', '！', '＋', '，', '／', '：', '＼', '～', '｡', '￼', '𝐈', '𝐼', '𝑰', '🆒', '🆓', '🆕', '🆘', '🌃', '🌄', '🌆', '🌈', '🌊', '🌍', '🌎', '🌏', '🌐', '🌕', '🌙', '🌚', '🌛', '🌝', '🌞', '🌟', '🌠', '🌮', '🌱', '🌴', '🌷', '🌸', '🌹', '🌺', '🌽', '🍀', '🍄', '🍅', '🍌', '🍎', '🍑', '🍒', '🍓', '🍕', '🍜', '🍝', '🍡', '🍪', '🍫', '🍱', '🍴', '🍵', '🍹', '🍺', '🍻', '🍿', '🎁', '🎂', '🎉', '🎍', '🎏', '🎓', '🎙', '🎢', '🎣', '🎤', '🎥', '🎧', '🎨', '🎩', '🎫', '🎬', '🎮', '🎯', '🎰', '🎱', '🎲', '🎵', '🎶', '🎸', '🎼', '🎾', '🏀', '🏅', '🏆', '🏇', '🏏', '🏒', '🏗', '🏚', '🏢', '🏥', '🏦', '🏧', '🏫', '🏹', '🐁', '🐂', '🐇', '🐉', '🐋', '🐍', '🐎', '🐐', '🐕', '🐖', '🐝', '🐞', '🐟', '🐣', '🐦', '🐨', '🐬', '🐮', '🐯', '🐰', '🐱', '🐲', '🐳', '🐶', '🐸', '🐺', '🐻', '🐾', '👀', '👁', '👂', '👃', '👇', '👈', '👉', '👊', '👋', '👌', '👍', '👎', '👏', '👑', '👛', '👟', '👠', '👥', '👧', '👴', '👹', '👻', '👼', '👽', '👾', '💀', '💂', '💉', '💊', '💋', '💍', '💎', '💐', '💓', '💔', '💕', '💖', '💗', '💙', '💚', '💛', '💜', '💞', '💠', '💡', '💣', '💥', '💧', '💩', '💪', '💫', '💬', '💭', '💯', '💰', '💱', '💲', '💳', '💵', '💶', '💸', '💹', '💻', '💼', '💿', '📀', '📄', '📅', '📈', '📉', '📊', '📋', '📌', '📍', '📎', '📏', '📑', '📒', '📓', '📕', '📖', '📚', '📝', '📞', '📢', '📣', '📦', '📩', '📰', '📱', '📲', '📸', '📹', '📺', '📻', '🔁', '🔆', '🔊', '🔋', '🔌', '🔍', '🔎', '🔐', '🔑', '🔔', '🔖', '🔗', '🔜', '🔝', '🔞', '🔟', '🔥', '🔧', '🔫', '🔭', '🔮', '🔱', '🔲', '🔴', '🔵', '🔶', '🔷', '🔸', '🔹', '🔺', '🔻', '🔼', '🔽', '🕐', '🕒', '🕯', '🖇', '🖐', '🖕', '🖤', '🖥', '🖼', '🗑', '🗓', '🗞', '🗺', '🗼', '🗿', '😀', '😁', '😂', '😃', '😄', '😅', '😆', '😇', '😈', '😉', '😊', '😋', '😌', '😍', '😎', '😏', '😐', '😑', '😒', '😓', '😔', '😕', '😖', '😘', '😙', '😛', '😜', '😝', '😞', '😟', '😠', '😡', '😢', '😣', '😤', '😥', '😧', '😨', '😩', '😪', '😫', '😬', '😭', '😮', '😰', '😱', '😲', '😳', '😴', '😶', '😹', '😺', '😻', '😼', '🙁', '🙂', '🙃', '🙄', '🙆', '🙈', '🙉', '🙊', '🙋', '🙌', '🙏', '🚀', '🚂', '🚗', '🚨', '🚩', '🚫', '🚮', '🚿', '🛐', '🛒', '🛟', '🛠', '🛸', '🛻', '🟠', '🟡', '🟢', '🟣', '🟥', '🟦', '🟩', '🤌', '🤍', '🤎', '🤑', '🤒', '🤓', '🤔', '🤕', '🤖', '🤗', '🤘', '🤙', '🤝', '🤞', '🤟', '🤠', '🤡', '🤢', '🤣', '🤥', '🤦', '🤧', '🤨', '🤩', '🤪', '🤫', '🤬', '🤭', '🤮', '🤯', '🤲', '🤳', '🤴', '🤷', '🥀', '🥁', '🥂', '🥇', '🥈', '🥉', '🥊', '🥐', '🥑', '🥘', '🥞', '🥡', '🥣', '🥤', '🥰', '🥱', '🥲', '🥳', '🥴', '🥵', '🥶', '🥷', '🥸', '🥹', '🥺', '🥽', '🦄', '🦅', '🦇', '🦈', '🦉', '🦊', '🦍', '🦗', '🦘', '🦾', '🧀', '🧃', '🧊', '🧐', '🧙', '🧠', '🧡', '🧢', '🧧', '🧩', '🧪', '🧬', '🧱', '🧲', '🧵', '🧸', '🧹', '🧼', '🧿', '\\U0001fa77', '🩸', '🪂', '🪄', '🪙', '🪜', '🪞', '🪦', '🪩', '🪷', '🫂', '🫐', '🫠', '🫡', '🫢', '🫣', '🫥', '🫰', '🫴', '🫵', '🫶']\n"
     ]
    }
   ],
   "source": [
    "# save and display words of length 1 from column Text\n",
    "words = cd2.get_words_len_n(df, 'Text', 1, display=True)"
   ]
  },
  {
   "cell_type": "code",
   "execution_count": 14,
   "id": "3e32c636-9d5f-4fc3-bcd4-300c762eda60",
   "metadata": {
    "tags": []
   },
   "outputs": [],
   "source": [
    "# remove words of length 1 from column Text\n",
    "df = cd2.remove_words_df_col(df, 'Text', words)"
   ]
  },
  {
   "cell_type": "code",
   "execution_count": 15,
   "id": "1d3b72fa-091b-46b8-88f7-777b58310008",
   "metadata": {
    "tags": []
   },
   "outputs": [
    {
     "data": {
      "text/html": [
       "<div>\n",
       "<style scoped>\n",
       "    .dataframe tbody tr th:only-of-type {\n",
       "        vertical-align: middle;\n",
       "    }\n",
       "\n",
       "    .dataframe tbody tr th {\n",
       "        vertical-align: top;\n",
       "    }\n",
       "\n",
       "    .dataframe thead th {\n",
       "        text-align: right;\n",
       "    }\n",
       "</style>\n",
       "<table border=\"1\" class=\"dataframe\">\n",
       "  <thead>\n",
       "    <tr style=\"text-align: right;\">\n",
       "      <th></th>\n",
       "      <th>Datetime</th>\n",
       "      <th>Tweet Id</th>\n",
       "      <th>Text</th>\n",
       "      <th>URL</th>\n",
       "      <th>User</th>\n",
       "    </tr>\n",
       "  </thead>\n",
       "  <tbody>\n",
       "    <tr>\n",
       "      <th>36366</th>\n",
       "      <td>2023-03-05 00:14:38+00:00</td>\n",
       "      <td>1632172734581972992</td>\n",
       "      <td>Khosi did what 😂😂😂😤😤😤😤 yhoo haa Nana is danger...</td>\n",
       "      <td>https://twitter.com/MzuzwanaYamkela/status/163...</td>\n",
       "      <td>https://twitter.com/MzuzwanaYamkela</td>\n",
       "    </tr>\n",
       "    <tr>\n",
       "      <th>36367</th>\n",
       "      <td>2023-03-05 00:13:20+00:00</td>\n",
       "      <td>1632172404909789184</td>\n",
       "      <td>Yhoo Nana what is your business with Thabang y...</td>\n",
       "      <td>https://twitter.com/MzuzwanaYamkela/status/163...</td>\n",
       "      <td>https://twitter.com/MzuzwanaYamkela</td>\n",
       "    </tr>\n",
       "    <tr>\n",
       "      <th>36368</th>\n",
       "      <td>2023-03-05 00:07:45+00:00</td>\n",
       "      <td>1632170999515869184</td>\n",
       "      <td>Yes yhoo</td>\n",
       "      <td>https://twitter.com/Lissssativa/status/1632170...</td>\n",
       "      <td>https://twitter.com/Lissssativa</td>\n",
       "    </tr>\n",
       "    <tr>\n",
       "      <th>36369</th>\n",
       "      <td>2023-03-05 00:03:14+00:00</td>\n",
       "      <td>1632169864218435585</td>\n",
       "      <td>Yhoo was about to go to bed 😭😭 BBTitans</td>\n",
       "      <td>https://twitter.com/its_sommy/status/163216986...</td>\n",
       "      <td>https://twitter.com/its_sommy</td>\n",
       "    </tr>\n",
       "    <tr>\n",
       "      <th>36370</th>\n",
       "      <td>2023-03-05 00:00:48+00:00</td>\n",
       "      <td>1632169253079072768</td>\n",
       "      <td>NguboAyimbathwa ChristoThurston ThuliMadonsela...</td>\n",
       "      <td>https://twitter.com/Bright_Afrika/status/16321...</td>\n",
       "      <td>https://twitter.com/Bright_Afrika</td>\n",
       "    </tr>\n",
       "  </tbody>\n",
       "</table>\n",
       "</div>"
      ],
      "text/plain": [
       "                        Datetime             Tweet Id  \\\n",
       "36366  2023-03-05 00:14:38+00:00  1632172734581972992   \n",
       "36367  2023-03-05 00:13:20+00:00  1632172404909789184   \n",
       "36368  2023-03-05 00:07:45+00:00  1632170999515869184   \n",
       "36369  2023-03-05 00:03:14+00:00  1632169864218435585   \n",
       "36370  2023-03-05 00:00:48+00:00  1632169253079072768   \n",
       "\n",
       "                                                    Text  \\\n",
       "36366  Khosi did what 😂😂😂😤😤😤😤 yhoo haa Nana is danger...   \n",
       "36367  Yhoo Nana what is your business with Thabang y...   \n",
       "36368                                           Yes yhoo   \n",
       "36369            Yhoo was about to go to bed 😭😭 BBTitans   \n",
       "36370  NguboAyimbathwa ChristoThurston ThuliMadonsela...   \n",
       "\n",
       "                                                     URL  \\\n",
       "36366  https://twitter.com/MzuzwanaYamkela/status/163...   \n",
       "36367  https://twitter.com/MzuzwanaYamkela/status/163...   \n",
       "36368  https://twitter.com/Lissssativa/status/1632170...   \n",
       "36369  https://twitter.com/its_sommy/status/163216986...   \n",
       "36370  https://twitter.com/Bright_Afrika/status/16321...   \n",
       "\n",
       "                                      User  \n",
       "36366  https://twitter.com/MzuzwanaYamkela  \n",
       "36367  https://twitter.com/MzuzwanaYamkela  \n",
       "36368      https://twitter.com/Lissssativa  \n",
       "36369        https://twitter.com/its_sommy  \n",
       "36370    https://twitter.com/Bright_Afrika  "
      ]
     },
     "execution_count": 15,
     "metadata": {},
     "output_type": "execute_result"
    }
   ],
   "source": [
    "df.tail()"
   ]
  },
  {
   "cell_type": "code",
   "execution_count": null,
   "id": "a755bf9c-6c3c-412b-9ba1-32e429a8a286",
   "metadata": {
    "tags": []
   },
   "outputs": [],
   "source": [
    "# get non-alphabetic characters\n",
    "unique_chars = list(set(df['Text'].apply(list).sum()))\n",
    "non_alphabetic_chars = [char for char in unique_chars if not char.isalpha()]\n",
    "non_alphabetic_chars.remove(' ')\n",
    "\n",
    "# remove non-alphabetic characters from column Text\n",
    "df = cd2.remove_chars_df_col(df, 'Text', non_alphabetic_chars)"
   ]
  },
  {
   "cell_type": "code",
   "execution_count": null,
   "id": "d2074600-4cb4-4487-aae0-6ce67a4e4b38",
   "metadata": {
    "tags": []
   },
   "outputs": [],
   "source": [
    "df.tail()"
   ]
  },
  {
   "cell_type": "markdown",
   "id": "3d158ede-87a2-4020-81a8-9ec9f3e4f7eb",
   "metadata": {},
   "source": [
    "### 4. Visualizing Data"
   ]
  },
  {
   "cell_type": "code",
   "execution_count": null,
   "id": "0cc02335-5c41-4b1a-b4ab-40f2b797851e",
   "metadata": {},
   "outputs": [],
   "source": []
  },
  {
   "cell_type": "markdown",
   "id": "2e2d0078-8c56-4683-8d7c-5b2cba71e3d6",
   "metadata": {},
   "source": []
  }
 ],
 "metadata": {
  "kernelspec": {
   "display_name": "Python 3 (ipykernel)",
   "language": "python",
   "name": "python3"
  },
  "language_info": {
   "codemirror_mode": {
    "name": "ipython",
    "version": 3
   },
   "file_extension": ".py",
   "mimetype": "text/x-python",
   "name": "python",
   "nbconvert_exporter": "python",
   "pygments_lexer": "ipython3",
   "version": "3.11.4"
  }
 },
 "nbformat": 4,
 "nbformat_minor": 5
}
