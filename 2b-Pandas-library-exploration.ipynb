{
 "cells": [
  {
   "cell_type": "code",
   "execution_count": 1,
   "id": "1cac92bc-37c7-4e7f-9fec-0abe27e325e9",
   "metadata": {
    "tags": []
   },
   "outputs": [],
   "source": [
    "import pandas as pd\n",
    "import numpy as np"
   ]
  },
  {
   "cell_type": "code",
   "execution_count": 2,
   "id": "607dde6a-a0bf-4498-a218-f0a286167539",
   "metadata": {
    "tags": []
   },
   "outputs": [],
   "source": [
    "df = pd.read_csv(\"C://Users//USER//JupyterLab//president_polls_2016.csv\")"
   ]
  },
  {
   "cell_type": "code",
   "execution_count": 3,
   "id": "5d774d14-e315-4f38-bdfc-5b7feb9b60cb",
   "metadata": {
    "tags": []
   },
   "outputs": [
    {
     "name": "stdout",
     "output_type": "stream",
     "text": [
      "<class 'pandas.core.frame.DataFrame'>\n",
      "RangeIndex: 12624 entries, 0 to 12623\n",
      "Data columns (total 27 columns):\n",
      " #   Column            Non-Null Count  Dtype  \n",
      "---  ------            --------------  -----  \n",
      " 0   cycle             12624 non-null  int64  \n",
      " 1   branch            12624 non-null  object \n",
      " 2   type              12624 non-null  object \n",
      " 3   matchup           12624 non-null  object \n",
      " 4   forecastdate      12624 non-null  object \n",
      " 5   state             12624 non-null  object \n",
      " 6   startdate         12624 non-null  object \n",
      " 7   enddate           12624 non-null  object \n",
      " 8   pollster          12624 non-null  object \n",
      " 9   grade             11337 non-null  object \n",
      " 10  samplesize        12621 non-null  float64\n",
      " 11  population        12624 non-null  object \n",
      " 12  poll_wt           12624 non-null  float64\n",
      " 13  rawpoll_clinton   12624 non-null  float64\n",
      " 14  rawpoll_trump     12624 non-null  float64\n",
      " 15  rawpoll_johnson   8397 non-null   float64\n",
      " 16  rawpoll_mcmullin  90 non-null     float64\n",
      " 17  adjpoll_clinton   12624 non-null  float64\n",
      " 18  adjpoll_trump     12624 non-null  float64\n",
      " 19  adjpoll_johnson   8397 non-null   float64\n",
      " 20  adjpoll_mcmullin  90 non-null     float64\n",
      " 21  multiversions     36 non-null     object \n",
      " 22  url               12621 non-null  object \n",
      " 23  poll_id           12624 non-null  int64  \n",
      " 24  question_id       12624 non-null  int64  \n",
      " 25  createddate       12624 non-null  object \n",
      " 26  timestamp         12624 non-null  object \n",
      "dtypes: float64(10), int64(3), object(14)\n",
      "memory usage: 2.6+ MB\n"
     ]
    }
   ],
   "source": [
    "# object datatypes, we need to convert into timestamp\n",
    "df.info()"
   ]
  },
  {
   "cell_type": "code",
   "execution_count": 4,
   "id": "8e222497-d777-4810-8f7b-e45396e1727d",
   "metadata": {
    "tags": []
   },
   "outputs": [
    {
     "data": {
      "text/plain": [
       "Index(['cycle', 'branch', 'type', 'matchup', 'forecastdate', 'state',\n",
       "       'startdate', 'enddate', 'pollster', 'grade', 'samplesize', 'population',\n",
       "       'poll_wt', 'rawpoll_clinton', 'rawpoll_trump', 'rawpoll_johnson',\n",
       "       'rawpoll_mcmullin', 'adjpoll_clinton', 'adjpoll_trump',\n",
       "       'adjpoll_johnson', 'adjpoll_mcmullin', 'multiversions', 'url',\n",
       "       'poll_id', 'question_id', 'createddate', 'timestamp'],\n",
       "      dtype='object')"
      ]
     },
     "execution_count": 4,
     "metadata": {},
     "output_type": "execute_result"
    }
   ],
   "source": [
    "df.columns"
   ]
  },
  {
   "cell_type": "code",
   "execution_count": 5,
   "id": "e9de4ebf-4b09-4ef3-b714-c45189b94a27",
   "metadata": {
    "tags": []
   },
   "outputs": [
    {
     "name": "stdout",
     "output_type": "stream",
     "text": [
      "<class 'pandas.core.frame.DataFrame'>\n",
      "RangeIndex: 12624 entries, 0 to 12623\n",
      "Data columns (total 5 columns):\n",
      " #   Column        Non-Null Count  Dtype \n",
      "---  ------        --------------  ----- \n",
      " 0   forecastdate  12624 non-null  object\n",
      " 1   startdate     12624 non-null  object\n",
      " 2   enddate       12624 non-null  object\n",
      " 3   createddate   12624 non-null  object\n",
      " 4   timestamp     12624 non-null  object\n",
      "dtypes: object(5)\n",
      "memory usage: 493.3+ KB\n"
     ]
    }
   ],
   "source": [
    "date_cols = ['forecastdate', 'startdate', 'enddate', 'createddate', 'timestamp']\n",
    "\n",
    "df[date_cols].info()"
   ]
  },
  {
   "cell_type": "code",
   "execution_count": 6,
   "id": "458284c9-ad04-4c0e-a9ed-b90945c1478c",
   "metadata": {
    "tags": []
   },
   "outputs": [],
   "source": [
    "df[date_cols] = df[date_cols].apply(pd.to_datetime)"
   ]
  },
  {
   "cell_type": "code",
   "execution_count": 7,
   "id": "12406dea-a32b-4248-bd83-797034e7a94e",
   "metadata": {
    "tags": []
   },
   "outputs": [
    {
     "name": "stdout",
     "output_type": "stream",
     "text": [
      "<class 'pandas.core.frame.DataFrame'>\n",
      "RangeIndex: 12624 entries, 0 to 12623\n",
      "Data columns (total 5 columns):\n",
      " #   Column        Non-Null Count  Dtype         \n",
      "---  ------        --------------  -----         \n",
      " 0   forecastdate  12624 non-null  datetime64[ns]\n",
      " 1   startdate     12624 non-null  datetime64[ns]\n",
      " 2   enddate       12624 non-null  datetime64[ns]\n",
      " 3   createddate   12624 non-null  datetime64[ns]\n",
      " 4   timestamp     12624 non-null  datetime64[ns]\n",
      "dtypes: datetime64[ns](5)\n",
      "memory usage: 493.3 KB\n"
     ]
    }
   ],
   "source": [
    "df[date_cols].info()"
   ]
  },
  {
   "cell_type": "code",
   "execution_count": 9,
   "id": "b30a5c2e-69c8-4570-821a-cd4953f8e956",
   "metadata": {
    "tags": []
   },
   "outputs": [],
   "source": [
    "### Reading CSV with some columns as datetime\n",
    "df2 = pd.read_csv(\"C://Users//USER//JupyterLab//president_polls_2016.csv\", parse_dates=date_cols)"
   ]
  },
  {
   "cell_type": "code",
   "execution_count": 10,
   "id": "98dad970-1854-434c-8b9d-074d2aa3bc5b",
   "metadata": {
    "tags": []
   },
   "outputs": [
    {
     "name": "stdout",
     "output_type": "stream",
     "text": [
      "<class 'pandas.core.frame.DataFrame'>\n",
      "RangeIndex: 12624 entries, 0 to 12623\n",
      "Data columns (total 27 columns):\n",
      " #   Column            Non-Null Count  Dtype         \n",
      "---  ------            --------------  -----         \n",
      " 0   cycle             12624 non-null  int64         \n",
      " 1   branch            12624 non-null  object        \n",
      " 2   type              12624 non-null  object        \n",
      " 3   matchup           12624 non-null  object        \n",
      " 4   forecastdate      12624 non-null  datetime64[ns]\n",
      " 5   state             12624 non-null  object        \n",
      " 6   startdate         12624 non-null  datetime64[ns]\n",
      " 7   enddate           12624 non-null  datetime64[ns]\n",
      " 8   pollster          12624 non-null  object        \n",
      " 9   grade             11337 non-null  object        \n",
      " 10  samplesize        12621 non-null  float64       \n",
      " 11  population        12624 non-null  object        \n",
      " 12  poll_wt           12624 non-null  float64       \n",
      " 13  rawpoll_clinton   12624 non-null  float64       \n",
      " 14  rawpoll_trump     12624 non-null  float64       \n",
      " 15  rawpoll_johnson   8397 non-null   float64       \n",
      " 16  rawpoll_mcmullin  90 non-null     float64       \n",
      " 17  adjpoll_clinton   12624 non-null  float64       \n",
      " 18  adjpoll_trump     12624 non-null  float64       \n",
      " 19  adjpoll_johnson   8397 non-null   float64       \n",
      " 20  adjpoll_mcmullin  90 non-null     float64       \n",
      " 21  multiversions     36 non-null     object        \n",
      " 22  url               12621 non-null  object        \n",
      " 23  poll_id           12624 non-null  int64         \n",
      " 24  question_id       12624 non-null  int64         \n",
      " 25  createddate       12624 non-null  datetime64[ns]\n",
      " 26  timestamp         12624 non-null  datetime64[ns]\n",
      "dtypes: datetime64[ns](5), float64(10), int64(3), object(9)\n",
      "memory usage: 2.6+ MB\n"
     ]
    }
   ],
   "source": [
    "df2.info()"
   ]
  },
  {
   "cell_type": "code",
   "execution_count": 11,
   "id": "85cc9a62-41a5-4a5f-866b-66314b74a450",
   "metadata": {
    "tags": []
   },
   "outputs": [],
   "source": [
    "\n",
    "mdf = pd.read_csv(\"C://Users//USER//JupyterLab//mortality_missing_values.csv\")"
   ]
  },
  {
   "cell_type": "code",
   "execution_count": 12,
   "id": "01bb8982-0946-464c-9e92-67b4ceb8f956",
   "metadata": {
    "tags": []
   },
   "outputs": [
    {
     "data": {
      "text/html": [
       "<div>\n",
       "<style scoped>\n",
       "    .dataframe tbody tr th:only-of-type {\n",
       "        vertical-align: middle;\n",
       "    }\n",
       "\n",
       "    .dataframe tbody tr th {\n",
       "        vertical-align: top;\n",
       "    }\n",
       "\n",
       "    .dataframe thead th {\n",
       "        text-align: right;\n",
       "    }\n",
       "</style>\n",
       "<table border=\"1\" class=\"dataframe\">\n",
       "  <thead>\n",
       "    <tr style=\"text-align: right;\">\n",
       "      <th></th>\n",
       "      <th>Year</th>\n",
       "      <th>AgeGroup</th>\n",
       "      <th>DeathRate</th>\n",
       "    </tr>\n",
       "  </thead>\n",
       "  <tbody>\n",
       "    <tr>\n",
       "      <th>0</th>\n",
       "      <td>1900.0</td>\n",
       "      <td>01-04 Years</td>\n",
       "      <td>1983.8</td>\n",
       "    </tr>\n",
       "    <tr>\n",
       "      <th>1</th>\n",
       "      <td>NaN</td>\n",
       "      <td>01-04 Years</td>\n",
       "      <td>1695.0</td>\n",
       "    </tr>\n",
       "    <tr>\n",
       "      <th>2</th>\n",
       "      <td>1902.0</td>\n",
       "      <td>01-04 Years</td>\n",
       "      <td>NaN</td>\n",
       "    </tr>\n",
       "    <tr>\n",
       "      <th>3</th>\n",
       "      <td>1903.0</td>\n",
       "      <td>01-04 Years</td>\n",
       "      <td>1542.1</td>\n",
       "    </tr>\n",
       "    <tr>\n",
       "      <th>4</th>\n",
       "      <td>NaN</td>\n",
       "      <td>01-04 Years</td>\n",
       "      <td>NaN</td>\n",
       "    </tr>\n",
       "  </tbody>\n",
       "</table>\n",
       "</div>"
      ],
      "text/plain": [
       "     Year     AgeGroup  DeathRate\n",
       "0  1900.0  01-04 Years     1983.8\n",
       "1     NaN  01-04 Years     1695.0\n",
       "2  1902.0  01-04 Years        NaN\n",
       "3  1903.0  01-04 Years     1542.1\n",
       "4     NaN  01-04 Years        NaN"
      ]
     },
     "execution_count": 12,
     "metadata": {},
     "output_type": "execute_result"
    }
   ],
   "source": [
    "mdf.head()"
   ]
  },
  {
   "cell_type": "code",
   "execution_count": 14,
   "id": "88973e60-ba5d-486c-a126-f7061b9f1dfa",
   "metadata": {
    "tags": []
   },
   "outputs": [],
   "source": [
    "mdf.dropna(inplace=True)\n",
    "mdf['Year'] = mdf['Year'].astype(int)"
   ]
  },
  {
   "cell_type": "code",
   "execution_count": 18,
   "id": "229011b9-80e2-4c91-97fb-9e83e7e99559",
   "metadata": {
    "tags": []
   },
   "outputs": [
    {
     "data": {
      "text/html": [
       "<div>\n",
       "<style scoped>\n",
       "    .dataframe tbody tr th:only-of-type {\n",
       "        vertical-align: middle;\n",
       "    }\n",
       "\n",
       "    .dataframe tbody tr th {\n",
       "        vertical-align: top;\n",
       "    }\n",
       "\n",
       "    .dataframe thead th {\n",
       "        text-align: right;\n",
       "    }\n",
       "</style>\n",
       "<table border=\"1\" class=\"dataframe\">\n",
       "  <thead>\n",
       "    <tr style=\"text-align: right;\">\n",
       "      <th></th>\n",
       "      <th>Year</th>\n",
       "      <th>AgeGroup</th>\n",
       "      <th>DeathRate</th>\n",
       "    </tr>\n",
       "  </thead>\n",
       "  <tbody>\n",
       "    <tr>\n",
       "      <th>0</th>\n",
       "      <td>1900</td>\n",
       "      <td>01-04 Years</td>\n",
       "      <td>1983.8</td>\n",
       "    </tr>\n",
       "    <tr>\n",
       "      <th>3</th>\n",
       "      <td>1903</td>\n",
       "      <td>01-04 Years</td>\n",
       "      <td>1542.1</td>\n",
       "    </tr>\n",
       "    <tr>\n",
       "      <th>5</th>\n",
       "      <td>1905</td>\n",
       "      <td>01-04 Years</td>\n",
       "      <td>1498.9</td>\n",
       "    </tr>\n",
       "    <tr>\n",
       "      <th>8</th>\n",
       "      <td>1908</td>\n",
       "      <td>01-04 Years</td>\n",
       "      <td>1396.8</td>\n",
       "    </tr>\n",
       "    <tr>\n",
       "      <th>9</th>\n",
       "      <td>1909</td>\n",
       "      <td>01-04 Years</td>\n",
       "      <td>1348.9</td>\n",
       "    </tr>\n",
       "  </tbody>\n",
       "</table>\n",
       "</div>"
      ],
      "text/plain": [
       "   Year     AgeGroup  DeathRate\n",
       "0  1900  01-04 Years     1983.8\n",
       "3  1903  01-04 Years     1542.1\n",
       "5  1905  01-04 Years     1498.9\n",
       "8  1908  01-04 Years     1396.8\n",
       "9  1909  01-04 Years     1348.9"
      ]
     },
     "execution_count": 18,
     "metadata": {},
     "output_type": "execute_result"
    }
   ],
   "source": [
    "mdf.head()"
   ]
  },
  {
   "cell_type": "code",
   "execution_count": 22,
   "id": "6e32ccb7-4b7b-4ed2-b5e9-d1a9ff511c3e",
   "metadata": {
    "tags": []
   },
   "outputs": [
    {
     "data": {
      "text/html": [
       "<div>\n",
       "<style scoped>\n",
       "    .dataframe tbody tr th:only-of-type {\n",
       "        vertical-align: middle;\n",
       "    }\n",
       "\n",
       "    .dataframe tbody tr th {\n",
       "        vertical-align: top;\n",
       "    }\n",
       "\n",
       "    .dataframe thead th {\n",
       "        text-align: right;\n",
       "    }\n",
       "</style>\n",
       "<table border=\"1\" class=\"dataframe\">\n",
       "  <thead>\n",
       "    <tr style=\"text-align: right;\">\n",
       "      <th></th>\n",
       "      <th>Year</th>\n",
       "      <th>AgeGroup</th>\n",
       "      <th>DeathRate</th>\n",
       "    </tr>\n",
       "  </thead>\n",
       "  <tbody>\n",
       "    <tr>\n",
       "      <th>0</th>\n",
       "      <td>1900</td>\n",
       "      <td>01-04 Years</td>\n",
       "      <td>1983.8</td>\n",
       "    </tr>\n",
       "    <tr>\n",
       "      <th>3</th>\n",
       "      <td>1903</td>\n",
       "      <td>01-04 Years</td>\n",
       "      <td>1542.1</td>\n",
       "    </tr>\n",
       "    <tr>\n",
       "      <th>5</th>\n",
       "      <td>1905</td>\n",
       "      <td>01-04 Years</td>\n",
       "      <td>1498.9</td>\n",
       "    </tr>\n",
       "    <tr>\n",
       "      <th>8</th>\n",
       "      <td>1908</td>\n",
       "      <td>01-04 Years</td>\n",
       "      <td>1396.8</td>\n",
       "    </tr>\n",
       "    <tr>\n",
       "      <th>9</th>\n",
       "      <td>1909</td>\n",
       "      <td>01-04 Years</td>\n",
       "      <td>1348.9</td>\n",
       "    </tr>\n",
       "  </tbody>\n",
       "</table>\n",
       "</div>"
      ],
      "text/plain": [
       "   Year     AgeGroup  DeathRate\n",
       "0  1900  01-04 Years     1983.8\n",
       "3  1903  01-04 Years     1542.1\n",
       "5  1905  01-04 Years     1498.9\n",
       "8  1908  01-04 Years     1396.8\n",
       "9  1909  01-04 Years     1348.9"
      ]
     },
     "execution_count": 22,
     "metadata": {},
     "output_type": "execute_result"
    }
   ],
   "source": [
    "mdf[mdf['DeathRate'] > 500].head()"
   ]
  },
  {
   "cell_type": "code",
   "execution_count": 26,
   "id": "48584483-906c-4476-aec4-17064c4dbdbc",
   "metadata": {
    "tags": []
   },
   "outputs": [
    {
     "data": {
      "text/html": [
       "<div>\n",
       "<style scoped>\n",
       "    .dataframe tbody tr th:only-of-type {\n",
       "        vertical-align: middle;\n",
       "    }\n",
       "\n",
       "    .dataframe tbody tr th {\n",
       "        vertical-align: top;\n",
       "    }\n",
       "\n",
       "    .dataframe thead th {\n",
       "        text-align: right;\n",
       "    }\n",
       "</style>\n",
       "<table border=\"1\" class=\"dataframe\">\n",
       "  <thead>\n",
       "    <tr style=\"text-align: right;\">\n",
       "      <th></th>\n",
       "      <th>Year</th>\n",
       "      <th>AgeGroup</th>\n",
       "      <th>DeathRate</th>\n",
       "    </tr>\n",
       "  </thead>\n",
       "  <tbody>\n",
       "    <tr>\n",
       "      <th>0</th>\n",
       "      <td>1900</td>\n",
       "      <td>01-04 Years</td>\n",
       "      <td>1983.8</td>\n",
       "    </tr>\n",
       "    <tr>\n",
       "      <th>18</th>\n",
       "      <td>1918</td>\n",
       "      <td>01-04 Years</td>\n",
       "      <td>1573.5</td>\n",
       "    </tr>\n",
       "    <tr>\n",
       "      <th>3</th>\n",
       "      <td>1903</td>\n",
       "      <td>01-04 Years</td>\n",
       "      <td>1542.1</td>\n",
       "    </tr>\n",
       "    <tr>\n",
       "      <th>5</th>\n",
       "      <td>1905</td>\n",
       "      <td>01-04 Years</td>\n",
       "      <td>1498.9</td>\n",
       "    </tr>\n",
       "    <tr>\n",
       "      <th>10</th>\n",
       "      <td>1910</td>\n",
       "      <td>01-04 Years</td>\n",
       "      <td>1397.3</td>\n",
       "    </tr>\n",
       "  </tbody>\n",
       "</table>\n",
       "</div>"
      ],
      "text/plain": [
       "    Year     AgeGroup  DeathRate\n",
       "0   1900  01-04 Years     1983.8\n",
       "18  1918  01-04 Years     1573.5\n",
       "3   1903  01-04 Years     1542.1\n",
       "5   1905  01-04 Years     1498.9\n",
       "10  1910  01-04 Years     1397.3"
      ]
     },
     "execution_count": 26,
     "metadata": {},
     "output_type": "execute_result"
    }
   ],
   "source": [
    "mdf[mdf['DeathRate'] > 500].sort_values(by = 'DeathRate', ascending = False).head()"
   ]
  },
  {
   "cell_type": "code",
   "execution_count": 25,
   "id": "319bef1b-8b77-48e7-85ac-ecb1b964b17e",
   "metadata": {
    "tags": []
   },
   "outputs": [
    {
     "data": {
      "text/html": [
       "<div>\n",
       "<style scoped>\n",
       "    .dataframe tbody tr th:only-of-type {\n",
       "        vertical-align: middle;\n",
       "    }\n",
       "\n",
       "    .dataframe tbody tr th {\n",
       "        vertical-align: top;\n",
       "    }\n",
       "\n",
       "    .dataframe thead th {\n",
       "        text-align: right;\n",
       "    }\n",
       "</style>\n",
       "<table border=\"1\" class=\"dataframe\">\n",
       "  <thead>\n",
       "    <tr style=\"text-align: right;\">\n",
       "      <th></th>\n",
       "      <th>Year</th>\n",
       "      <th>AgeGroup</th>\n",
       "      <th>DeathRate</th>\n",
       "    </tr>\n",
       "  </thead>\n",
       "  <tbody>\n",
       "    <tr>\n",
       "      <th>0</th>\n",
       "      <td>1900</td>\n",
       "      <td>01-04 Years</td>\n",
       "      <td>1983.8</td>\n",
       "    </tr>\n",
       "    <tr>\n",
       "      <th>3</th>\n",
       "      <td>1903</td>\n",
       "      <td>01-04 Years</td>\n",
       "      <td>1542.1</td>\n",
       "    </tr>\n",
       "    <tr>\n",
       "      <th>5</th>\n",
       "      <td>1905</td>\n",
       "      <td>01-04 Years</td>\n",
       "      <td>1498.9</td>\n",
       "    </tr>\n",
       "    <tr>\n",
       "      <th>8</th>\n",
       "      <td>1908</td>\n",
       "      <td>01-04 Years</td>\n",
       "      <td>1396.8</td>\n",
       "    </tr>\n",
       "    <tr>\n",
       "      <th>9</th>\n",
       "      <td>1909</td>\n",
       "      <td>01-04 Years</td>\n",
       "      <td>1348.9</td>\n",
       "    </tr>\n",
       "    <tr>\n",
       "      <th>10</th>\n",
       "      <td>1910</td>\n",
       "      <td>01-04 Years</td>\n",
       "      <td>1397.3</td>\n",
       "    </tr>\n",
       "    <tr>\n",
       "      <th>11</th>\n",
       "      <td>1911</td>\n",
       "      <td>01-04 Years</td>\n",
       "      <td>1176.0</td>\n",
       "    </tr>\n",
       "    <tr>\n",
       "      <th>12</th>\n",
       "      <td>1912</td>\n",
       "      <td>01-04 Years</td>\n",
       "      <td>1094.1</td>\n",
       "    </tr>\n",
       "    <tr>\n",
       "      <th>13</th>\n",
       "      <td>1913</td>\n",
       "      <td>01-04 Years</td>\n",
       "      <td>1193.4</td>\n",
       "    </tr>\n",
       "    <tr>\n",
       "      <th>14</th>\n",
       "      <td>1914</td>\n",
       "      <td>01-04 Years</td>\n",
       "      <td>1024.2</td>\n",
       "    </tr>\n",
       "    <tr>\n",
       "      <th>15</th>\n",
       "      <td>1915</td>\n",
       "      <td>01-04 Years</td>\n",
       "      <td>924.2</td>\n",
       "    </tr>\n",
       "    <tr>\n",
       "      <th>16</th>\n",
       "      <td>1916</td>\n",
       "      <td>01-04 Years</td>\n",
       "      <td>1111.5</td>\n",
       "    </tr>\n",
       "    <tr>\n",
       "      <th>17</th>\n",
       "      <td>1917</td>\n",
       "      <td>01-04 Years</td>\n",
       "      <td>1066.0</td>\n",
       "    </tr>\n",
       "    <tr>\n",
       "      <th>375</th>\n",
       "      <td>1918</td>\n",
       "      <td>15-19 Years</td>\n",
       "      <td>777.4</td>\n",
       "    </tr>\n",
       "    <tr>\n",
       "      <th>18</th>\n",
       "      <td>1918</td>\n",
       "      <td>01-04 Years</td>\n",
       "      <td>1573.5</td>\n",
       "    </tr>\n",
       "    <tr>\n",
       "      <th>19</th>\n",
       "      <td>1919</td>\n",
       "      <td>01-04 Years</td>\n",
       "      <td>928.0</td>\n",
       "    </tr>\n",
       "    <tr>\n",
       "      <th>20</th>\n",
       "      <td>1920</td>\n",
       "      <td>01-04 Years</td>\n",
       "      <td>987.2</td>\n",
       "    </tr>\n",
       "    <tr>\n",
       "      <th>21</th>\n",
       "      <td>1921</td>\n",
       "      <td>01-04 Years</td>\n",
       "      <td>801.2</td>\n",
       "    </tr>\n",
       "    <tr>\n",
       "      <th>22</th>\n",
       "      <td>1922</td>\n",
       "      <td>01-04 Years</td>\n",
       "      <td>742.0</td>\n",
       "    </tr>\n",
       "    <tr>\n",
       "      <th>23</th>\n",
       "      <td>1923</td>\n",
       "      <td>01-04 Years</td>\n",
       "      <td>806.7</td>\n",
       "    </tr>\n",
       "    <tr>\n",
       "      <th>24</th>\n",
       "      <td>1924</td>\n",
       "      <td>01-04 Years</td>\n",
       "      <td>683.2</td>\n",
       "    </tr>\n",
       "    <tr>\n",
       "      <th>25</th>\n",
       "      <td>1925</td>\n",
       "      <td>01-04 Years</td>\n",
       "      <td>641.0</td>\n",
       "    </tr>\n",
       "    <tr>\n",
       "      <th>26</th>\n",
       "      <td>1926</td>\n",
       "      <td>01-04 Years</td>\n",
       "      <td>723.4</td>\n",
       "    </tr>\n",
       "    <tr>\n",
       "      <th>27</th>\n",
       "      <td>1927</td>\n",
       "      <td>01-04 Years</td>\n",
       "      <td>591.0</td>\n",
       "    </tr>\n",
       "    <tr>\n",
       "      <th>28</th>\n",
       "      <td>1928</td>\n",
       "      <td>01-04 Years</td>\n",
       "      <td>647.5</td>\n",
       "    </tr>\n",
       "    <tr>\n",
       "      <th>29</th>\n",
       "      <td>1929</td>\n",
       "      <td>01-04 Years</td>\n",
       "      <td>625.5</td>\n",
       "    </tr>\n",
       "    <tr>\n",
       "      <th>30</th>\n",
       "      <td>1930</td>\n",
       "      <td>01-04 Years</td>\n",
       "      <td>563.6</td>\n",
       "    </tr>\n",
       "    <tr>\n",
       "      <th>31</th>\n",
       "      <td>1931</td>\n",
       "      <td>01-04 Years</td>\n",
       "      <td>526.6</td>\n",
       "    </tr>\n",
       "    <tr>\n",
       "      <th>34</th>\n",
       "      <td>1934</td>\n",
       "      <td>01-04 Years</td>\n",
       "      <td>507.7</td>\n",
       "    </tr>\n",
       "  </tbody>\n",
       "</table>\n",
       "</div>"
      ],
      "text/plain": [
       "     Year     AgeGroup  DeathRate\n",
       "0    1900  01-04 Years     1983.8\n",
       "3    1903  01-04 Years     1542.1\n",
       "5    1905  01-04 Years     1498.9\n",
       "8    1908  01-04 Years     1396.8\n",
       "9    1909  01-04 Years     1348.9\n",
       "10   1910  01-04 Years     1397.3\n",
       "11   1911  01-04 Years     1176.0\n",
       "12   1912  01-04 Years     1094.1\n",
       "13   1913  01-04 Years     1193.4\n",
       "14   1914  01-04 Years     1024.2\n",
       "15   1915  01-04 Years      924.2\n",
       "16   1916  01-04 Years     1111.5\n",
       "17   1917  01-04 Years     1066.0\n",
       "375  1918  15-19 Years      777.4\n",
       "18   1918  01-04 Years     1573.5\n",
       "19   1919  01-04 Years      928.0\n",
       "20   1920  01-04 Years      987.2\n",
       "21   1921  01-04 Years      801.2\n",
       "22   1922  01-04 Years      742.0\n",
       "23   1923  01-04 Years      806.7\n",
       "24   1924  01-04 Years      683.2\n",
       "25   1925  01-04 Years      641.0\n",
       "26   1926  01-04 Years      723.4\n",
       "27   1927  01-04 Years      591.0\n",
       "28   1928  01-04 Years      647.5\n",
       "29   1929  01-04 Years      625.5\n",
       "30   1930  01-04 Years      563.6\n",
       "31   1931  01-04 Years      526.6\n",
       "34   1934  01-04 Years      507.7"
      ]
     },
     "execution_count": 25,
     "metadata": {},
     "output_type": "execute_result"
    }
   ],
   "source": [
    "mdf[mdf['DeathRate'] > 500].sort_values(by = 'Year', ascending = True)"
   ]
  },
  {
   "cell_type": "code",
   "execution_count": 29,
   "id": "c83d291f-acda-40ef-8326-8f97a596fc3a",
   "metadata": {
    "tags": []
   },
   "outputs": [
    {
     "data": {
      "text/html": [
       "<div>\n",
       "<style scoped>\n",
       "    .dataframe tbody tr th:only-of-type {\n",
       "        vertical-align: middle;\n",
       "    }\n",
       "\n",
       "    .dataframe tbody tr th {\n",
       "        vertical-align: top;\n",
       "    }\n",
       "\n",
       "    .dataframe thead th {\n",
       "        text-align: right;\n",
       "    }\n",
       "</style>\n",
       "<table border=\"1\" class=\"dataframe\">\n",
       "  <thead>\n",
       "    <tr style=\"text-align: right;\">\n",
       "      <th></th>\n",
       "      <th>Year</th>\n",
       "      <th>AgeGroup</th>\n",
       "      <th>DeathRate</th>\n",
       "    </tr>\n",
       "  </thead>\n",
       "  <tbody>\n",
       "    <tr>\n",
       "      <th>357</th>\n",
       "      <td>1900</td>\n",
       "      <td>15-19 Years</td>\n",
       "      <td>484.8</td>\n",
       "    </tr>\n",
       "    <tr>\n",
       "      <th>358</th>\n",
       "      <td>1901</td>\n",
       "      <td>15-19 Years</td>\n",
       "      <td>454.4</td>\n",
       "    </tr>\n",
       "    <tr>\n",
       "      <th>359</th>\n",
       "      <td>1902</td>\n",
       "      <td>15-19 Years</td>\n",
       "      <td>421.5</td>\n",
       "    </tr>\n",
       "    <tr>\n",
       "      <th>360</th>\n",
       "      <td>1903</td>\n",
       "      <td>15-19 Years</td>\n",
       "      <td>434.1</td>\n",
       "    </tr>\n",
       "    <tr>\n",
       "      <th>361</th>\n",
       "      <td>1904</td>\n",
       "      <td>15-19 Years</td>\n",
       "      <td>471.4</td>\n",
       "    </tr>\n",
       "    <tr>\n",
       "      <th>362</th>\n",
       "      <td>1905</td>\n",
       "      <td>15-19 Years</td>\n",
       "      <td>439.3</td>\n",
       "    </tr>\n",
       "    <tr>\n",
       "      <th>363</th>\n",
       "      <td>1906</td>\n",
       "      <td>15-19 Years</td>\n",
       "      <td>445.2</td>\n",
       "    </tr>\n",
       "    <tr>\n",
       "      <th>364</th>\n",
       "      <td>1907</td>\n",
       "      <td>15-19 Years</td>\n",
       "      <td>437.7</td>\n",
       "    </tr>\n",
       "    <tr>\n",
       "      <th>365</th>\n",
       "      <td>1908</td>\n",
       "      <td>15-19 Years</td>\n",
       "      <td>397.7</td>\n",
       "    </tr>\n",
       "    <tr>\n",
       "      <th>366</th>\n",
       "      <td>1909</td>\n",
       "      <td>15-19 Years</td>\n",
       "      <td>363.6</td>\n",
       "    </tr>\n",
       "    <tr>\n",
       "      <th>367</th>\n",
       "      <td>1910</td>\n",
       "      <td>15-19 Years</td>\n",
       "      <td>371.9</td>\n",
       "    </tr>\n",
       "    <tr>\n",
       "      <th>368</th>\n",
       "      <td>1911</td>\n",
       "      <td>15-19 Years</td>\n",
       "      <td>366.0</td>\n",
       "    </tr>\n",
       "    <tr>\n",
       "      <th>369</th>\n",
       "      <td>1912</td>\n",
       "      <td>15-19 Years</td>\n",
       "      <td>347.2</td>\n",
       "    </tr>\n",
       "    <tr>\n",
       "      <th>370</th>\n",
       "      <td>1913</td>\n",
       "      <td>15-19 Years</td>\n",
       "      <td>360.3</td>\n",
       "    </tr>\n",
       "    <tr>\n",
       "      <th>371</th>\n",
       "      <td>1914</td>\n",
       "      <td>15-19 Years</td>\n",
       "      <td>340.5</td>\n",
       "    </tr>\n",
       "    <tr>\n",
       "      <th>372</th>\n",
       "      <td>1915</td>\n",
       "      <td>15-19 Years</td>\n",
       "      <td>330.9</td>\n",
       "    </tr>\n",
       "    <tr>\n",
       "      <th>373</th>\n",
       "      <td>1916</td>\n",
       "      <td>15-19 Years</td>\n",
       "      <td>355.8</td>\n",
       "    </tr>\n",
       "    <tr>\n",
       "      <th>374</th>\n",
       "      <td>1917</td>\n",
       "      <td>15-19 Years</td>\n",
       "      <td>380.3</td>\n",
       "    </tr>\n",
       "    <tr>\n",
       "      <th>375</th>\n",
       "      <td>1918</td>\n",
       "      <td>15-19 Years</td>\n",
       "      <td>777.4</td>\n",
       "    </tr>\n",
       "    <tr>\n",
       "      <th>376</th>\n",
       "      <td>1919</td>\n",
       "      <td>15-19 Years</td>\n",
       "      <td>438.5</td>\n",
       "    </tr>\n",
       "    <tr>\n",
       "      <th>377</th>\n",
       "      <td>1920</td>\n",
       "      <td>15-19 Years</td>\n",
       "      <td>402.9</td>\n",
       "    </tr>\n",
       "    <tr>\n",
       "      <th>378</th>\n",
       "      <td>1921</td>\n",
       "      <td>15-19 Years</td>\n",
       "      <td>326.5</td>\n",
       "    </tr>\n",
       "    <tr>\n",
       "      <th>379</th>\n",
       "      <td>1922</td>\n",
       "      <td>15-19 Years</td>\n",
       "      <td>319.6</td>\n",
       "    </tr>\n",
       "    <tr>\n",
       "      <th>380</th>\n",
       "      <td>1923</td>\n",
       "      <td>15-19 Years</td>\n",
       "      <td>325.8</td>\n",
       "    </tr>\n",
       "    <tr>\n",
       "      <th>381</th>\n",
       "      <td>1924</td>\n",
       "      <td>15-19 Years</td>\n",
       "      <td>313.5</td>\n",
       "    </tr>\n",
       "  </tbody>\n",
       "</table>\n",
       "</div>"
      ],
      "text/plain": [
       "     Year     AgeGroup  DeathRate\n",
       "357  1900  15-19 Years      484.8\n",
       "358  1901  15-19 Years      454.4\n",
       "359  1902  15-19 Years      421.5\n",
       "360  1903  15-19 Years      434.1\n",
       "361  1904  15-19 Years      471.4\n",
       "362  1905  15-19 Years      439.3\n",
       "363  1906  15-19 Years      445.2\n",
       "364  1907  15-19 Years      437.7\n",
       "365  1908  15-19 Years      397.7\n",
       "366  1909  15-19 Years      363.6\n",
       "367  1910  15-19 Years      371.9\n",
       "368  1911  15-19 Years      366.0\n",
       "369  1912  15-19 Years      347.2\n",
       "370  1913  15-19 Years      360.3\n",
       "371  1914  15-19 Years      340.5\n",
       "372  1915  15-19 Years      330.9\n",
       "373  1916  15-19 Years      355.8\n",
       "374  1917  15-19 Years      380.3\n",
       "375  1918  15-19 Years      777.4\n",
       "376  1919  15-19 Years      438.5\n",
       "377  1920  15-19 Years      402.9\n",
       "378  1921  15-19 Years      326.5\n",
       "379  1922  15-19 Years      319.6\n",
       "380  1923  15-19 Years      325.8\n",
       "381  1924  15-19 Years      313.5"
      ]
     },
     "execution_count": 29,
     "metadata": {},
     "output_type": "execute_result"
    }
   ],
   "source": [
    "mdf[mdf['AgeGroup'] == \"15-19 Years\"].sort_values(by = 'Year', ascending = True).head(25)"
   ]
  },
  {
   "cell_type": "code",
   "execution_count": 31,
   "id": "a7d18dc3-eb95-44b5-b92d-db5012a01c14",
   "metadata": {
    "tags": []
   },
   "outputs": [],
   "source": [
    "tdf = mdf[mdf['AgeGroup'] == \"15-19 Years\"]"
   ]
  },
  {
   "cell_type": "code",
   "execution_count": 33,
   "id": "707e2445-6afd-4c37-b0ff-e408ffdf4e3c",
   "metadata": {
    "tags": []
   },
   "outputs": [
    {
     "data": {
      "text/plain": [
       "(119, 3)"
      ]
     },
     "execution_count": 33,
     "metadata": {},
     "output_type": "execute_result"
    }
   ],
   "source": [
    "tdf.shape"
   ]
  },
  {
   "cell_type": "code",
   "execution_count": 36,
   "id": "e074f62f-e68b-4d55-9cda-5644063f6deb",
   "metadata": {
    "tags": []
   },
   "outputs": [
    {
     "data": {
      "text/html": [
       "<div>\n",
       "<style scoped>\n",
       "    .dataframe tbody tr th:only-of-type {\n",
       "        vertical-align: middle;\n",
       "    }\n",
       "\n",
       "    .dataframe tbody tr th {\n",
       "        vertical-align: top;\n",
       "    }\n",
       "\n",
       "    .dataframe thead th {\n",
       "        text-align: right;\n",
       "    }\n",
       "</style>\n",
       "<table border=\"1\" class=\"dataframe\">\n",
       "  <thead>\n",
       "    <tr style=\"text-align: right;\">\n",
       "      <th></th>\n",
       "      <th>count</th>\n",
       "      <th>mean</th>\n",
       "      <th>std</th>\n",
       "      <th>min</th>\n",
       "      <th>25%</th>\n",
       "      <th>50%</th>\n",
       "      <th>75%</th>\n",
       "      <th>max</th>\n",
       "    </tr>\n",
       "  </thead>\n",
       "  <tbody>\n",
       "    <tr>\n",
       "      <th>Year</th>\n",
       "      <td>119.0</td>\n",
       "      <td>1959.00000</td>\n",
       "      <td>34.496377</td>\n",
       "      <td>1900.0</td>\n",
       "      <td>1929.50</td>\n",
       "      <td>1959.0</td>\n",
       "      <td>1988.50</td>\n",
       "      <td>2018.0</td>\n",
       "    </tr>\n",
       "    <tr>\n",
       "      <th>DeathRate</th>\n",
       "      <td>119.0</td>\n",
       "      <td>177.37479</td>\n",
       "      <td>138.362290</td>\n",
       "      <td>44.8</td>\n",
       "      <td>85.45</td>\n",
       "      <td>106.9</td>\n",
       "      <td>283.65</td>\n",
       "      <td>777.4</td>\n",
       "    </tr>\n",
       "  </tbody>\n",
       "</table>\n",
       "</div>"
      ],
      "text/plain": [
       "           count        mean         std     min      25%     50%      75%  \\\n",
       "Year       119.0  1959.00000   34.496377  1900.0  1929.50  1959.0  1988.50   \n",
       "DeathRate  119.0   177.37479  138.362290    44.8    85.45   106.9   283.65   \n",
       "\n",
       "              max  \n",
       "Year       2018.0  \n",
       "DeathRate   777.4  "
      ]
     },
     "execution_count": 36,
     "metadata": {},
     "output_type": "execute_result"
    }
   ],
   "source": [
    "tdf.describe().T"
   ]
  },
  {
   "cell_type": "code",
   "execution_count": 37,
   "id": "fe3412ca-393c-4dac-be19-0554f0c47917",
   "metadata": {
    "tags": []
   },
   "outputs": [
    {
     "data": {
      "text/html": [
       "<div>\n",
       "<style scoped>\n",
       "    .dataframe tbody tr th:only-of-type {\n",
       "        vertical-align: middle;\n",
       "    }\n",
       "\n",
       "    .dataframe tbody tr th {\n",
       "        vertical-align: top;\n",
       "    }\n",
       "\n",
       "    .dataframe thead th {\n",
       "        text-align: right;\n",
       "    }\n",
       "</style>\n",
       "<table border=\"1\" class=\"dataframe\">\n",
       "  <thead>\n",
       "    <tr style=\"text-align: right;\">\n",
       "      <th></th>\n",
       "      <th>Year</th>\n",
       "      <th>AgeGroup</th>\n",
       "      <th>DeathRate</th>\n",
       "    </tr>\n",
       "  </thead>\n",
       "  <tbody>\n",
       "    <tr>\n",
       "      <th>375</th>\n",
       "      <td>1918</td>\n",
       "      <td>15-19 Years</td>\n",
       "      <td>777.4</td>\n",
       "    </tr>\n",
       "  </tbody>\n",
       "</table>\n",
       "</div>"
      ],
      "text/plain": [
       "     Year     AgeGroup  DeathRate\n",
       "375  1918  15-19 Years      777.4"
      ]
     },
     "execution_count": 37,
     "metadata": {},
     "output_type": "execute_result"
    }
   ],
   "source": [
    "tdf[tdf['DeathRate'] > 500]"
   ]
  },
  {
   "cell_type": "code",
   "execution_count": 38,
   "id": "fe3a36a8-5df7-4b6b-bf03-187fae2f5232",
   "metadata": {
    "tags": []
   },
   "outputs": [
    {
     "data": {
      "text/plain": [
       "<Axes: xlabel='Year'>"
      ]
     },
     "execution_count": 38,
     "metadata": {},
     "output_type": "execute_result"
    },
    {
     "data": {
      "image/png": "[encoded data removed]",
      "text/plain": [
       "<Figure size 640x480 with 1 Axes>"
      ]
     },
     "metadata": {},
     "output_type": "display_data"
    }
   ],
   "source": [
    "tdf.plot(x='Year', y='DeathRate')"
   ]
  },
  {
   "cell_type": "code",
   "execution_count": 40,
   "id": "2626cb56-c120-4036-9c3d-dffacbf6576b",
   "metadata": {
    "tags": []
   },
   "outputs": [
    {
     "data": {
      "text/plain": [
       "177.3747899159664"
      ]
     },
     "execution_count": 40,
     "metadata": {},
     "output_type": "execute_result"
    }
   ],
   "source": [
    "tdf['DeathRate'].mean()"
   ]
  },
  {
   "cell_type": "code",
   "execution_count": 42,
   "id": "4397b5c4-7819-499a-af41-7ef74e3cd019",
   "metadata": {
    "tags": []
   },
   "outputs": [],
   "source": [
    "tdf.loc[tdf['DeathRate'] > 500, 'DeathRate'] = tdf['DeathRate'].mean()"
   ]
  },
  {
   "cell_type": "code",
   "execution_count": 43,
   "id": "bcc9bb1f-e649-4784-a80c-8bcc4e34a82c",
   "metadata": {
    "tags": []
   },
   "outputs": [
    {
     "data": {
      "text/html": [
       "<div>\n",
       "<style scoped>\n",
       "    .dataframe tbody tr th:only-of-type {\n",
       "        vertical-align: middle;\n",
       "    }\n",
       "\n",
       "    .dataframe tbody tr th {\n",
       "        vertical-align: top;\n",
       "    }\n",
       "\n",
       "    .dataframe thead th {\n",
       "        text-align: right;\n",
       "    }\n",
       "</style>\n",
       "<table border=\"1\" class=\"dataframe\">\n",
       "  <thead>\n",
       "    <tr style=\"text-align: right;\">\n",
       "      <th></th>\n",
       "      <th>Year</th>\n",
       "      <th>AgeGroup</th>\n",
       "      <th>DeathRate</th>\n",
       "    </tr>\n",
       "  </thead>\n",
       "  <tbody>\n",
       "    <tr>\n",
       "      <th>375</th>\n",
       "      <td>1918</td>\n",
       "      <td>15-19 Years</td>\n",
       "      <td>177.37479</td>\n",
       "    </tr>\n",
       "  </tbody>\n",
       "</table>\n",
       "</div>"
      ],
      "text/plain": [
       "     Year     AgeGroup  DeathRate\n",
       "375  1918  15-19 Years  177.37479"
      ]
     },
     "execution_count": 43,
     "metadata": {},
     "output_type": "execute_result"
    }
   ],
   "source": [
    "tdf[tdf['Year'] == 1918]"
   ]
  },
  {
   "cell_type": "markdown",
   "id": "d70a88f5-e48c-4dbf-b5aa-1a4db4e27cee",
   "metadata": {},
   "source": []
  },
  {
   "cell_type": "code",
   "execution_count": null,
   "id": "faebf758-4163-4f6d-8031-99d5dbd4ed28",
   "metadata": {},
   "outputs": [],
   "source": []
  },
  {
   "cell_type": "code",
   "execution_count": null,
   "id": "eb64a4ab-f327-4321-8779-0f960b82c28e",
   "metadata": {},
   "outputs": [],
   "source": []
  },
  {
   "cell_type": "code",
   "execution_count": null,
   "id": "2d3df70c-03b1-4261-a7cb-211b52ac0d5c",
   "metadata": {},
   "outputs": [],
   "source": []
  },
  {
   "cell_type": "code",
   "execution_count": null,
   "id": "b2e5ee43-d090-421f-b997-eef9174f9d11",
   "metadata": {},
   "outputs": [],
   "source": []
  },
  {
   "cell_type": "code",
   "execution_count": null,
   "id": "c37d9d27-0916-40cf-b850-b8064b54bea8",
   "metadata": {},
   "outputs": [],
   "source": []
  },
  {
   "cell_type": "code",
   "execution_count": null,
   "id": "9d6bdf83-1d22-4c70-aca1-66568cc7bc14",
   "metadata": {},
   "outputs": [],
   "source": []
  },
  {
   "cell_type": "code",
   "execution_count": null,
   "id": "f6cf2a4d-5dc2-4c48-82e8-65da83c3ce99",
   "metadata": {},
   "outputs": [],
   "source": []
  },
  {
   "cell_type": "code",
   "execution_count": null,
   "id": "6a16f309-df4f-4a0a-a264-d7dbe9c8c6f6",
   "metadata": {},
   "outputs": [],
   "source": []
  },
  {
   "cell_type": "code",
   "execution_count": null,
   "id": "f5065d87-5ea3-4ea9-a2a5-f908cabaf5b0",
   "metadata": {},
   "outputs": [],
   "source": []
  },
  {
   "cell_type": "code",
   "execution_count": null,
   "id": "68c6cd49-dde7-479e-b43b-0b4b7c5f7219",
   "metadata": {},
   "outputs": [],
   "source": []
  },
  {
   "cell_type": "code",
   "execution_count": null,
   "id": "e0b27a0b-95d4-4441-b906-c3041bfb12fb",
   "metadata": {},
   "outputs": [],
   "source": []
  },
  {
   "cell_type": "code",
   "execution_count": null,
   "id": "9e171608-07f7-4992-ab60-68a5b23b851e",
   "metadata": {},
   "outputs": [],
   "source": []
  },
  {
   "cell_type": "code",
   "execution_count": null,
   "id": "201e3f81-4fdf-4611-9f9b-c7ef211cb163",
   "metadata": {},
   "outputs": [],
   "source": []
  },
  {
   "cell_type": "code",
   "execution_count": null,
   "id": "58c493cc-3081-486f-ab42-521cfc280bd9",
   "metadata": {},
   "outputs": [],
   "source": []
  },
  {
   "cell_type": "code",
   "execution_count": null,
   "id": "cbe28625-c4a8-483e-8366-6ebad26c781a",
   "metadata": {},
   "outputs": [],
   "source": []
  },
  {
   "cell_type": "code",
   "execution_count": null,
   "id": "e1562d9d-a930-434a-80d0-2dd6f72fcb25",
   "metadata": {},
   "outputs": [],
   "source": []
  },
  {
   "cell_type": "code",
   "execution_count": null,
   "id": "576a501c-a274-4625-8e3a-4392e977a8d2",
   "metadata": {},
   "outputs": [],
   "source": []
  },
  {
   "cell_type": "code",
   "execution_count": null,
   "id": "3cbbd33b-80a3-46cb-93ff-fda0a811546d",
   "metadata": {},
   "outputs": [],
   "source": []
  }
 ],
 "metadata": {
  "kernelspec": {
   "display_name": "Python 3 (ipykernel)",
   "language": "python",
   "name": "python3"
  },
  "language_info": {
   "codemirror_mode": {
    "name": "ipython",
    "version": 3
   },
   "file_extension": ".py",
   "mimetype": "text/x-python",
   "name": "python",
   "nbconvert_exporter": "python",
   "pygments_lexer": "ipython3",
   "version": "3.11.4"
  }
 },
 "nbformat": 4,
 "nbformat_minor": 5
}
