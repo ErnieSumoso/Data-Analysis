{
 "cells": [
  {
   "cell_type": "markdown",
   "id": "e4e2d681-f897-47e2-a196-7f85e3a70e4d",
   "metadata": {},
   "source": [
    "# Assignment #1 - Salary Prediction\n",
    "\n",
    "Group 5 - Members\n",
    "- Aishlee C0913045\n",
    "- Ashick Rijo C0910364\n",
    "- Ernie Sumoso Vicuna C0881591\n",
    "- Danilo Diaz C0889539\n",
    "- Yogita Sharma C0913011\n",
    "\n",
    "We will perform a predictive analysis using most of the stages from the data analytics lifecycle (from third to last stage). We have choose a dataset that provides information about salaries in the job market based on the age, gender, education level, job title and years of experience. The salary values are what we are trying to predict using a machine learning regression algorithm."
   ]
  },
  {
   "cell_type": "markdown",
   "id": "1a22c04d-e1e5-4f89-82f1-8e25c8575222",
   "metadata": {},
   "source": [
    "# Dataset Description\n",
    "\n",
    "Our dataset was acquired on Kaggle and consists on salary information about employees at different companies around the world.\n",
    "Each row represents one unique employee currently working at a company on some job position. The features provided for each record are as follows:\n",
    "\n",
    "- __Age__: age of the person in years\n",
    "- __Gender__: gender of the person, both possible values are \"Male\" or \"Female\"\n",
    "- __Education Level__: education level of the person, the possible values are high school, bachelor's degree, master's degree, or PhD\n",
    "- __Job Title__: the person's job title, there are many possible values such as: manager, director, analyst, engineer, or administrator\n",
    "- __Years of Experience__: number of years of previous work experience\n",
    "- __Salary__: annual salary of the person in US dollars\n",
    "\n",
    "Predictive variables:\n",
    "- Age\n",
    "- Gender\n",
    "- Education Level\n",
    "- Job Title\n",
    "- Years of Experience\n",
    "\n",
    "Target variable:\n",
    "- Salary\n"
   ]
  },
  {
   "cell_type": "markdown",
   "id": "a49302b4-bbf9-4b6c-b0eb-af4b7a84dec6",
   "metadata": {},
   "source": [
    "# Stage 3 - Data Acquisition & Filtering\n",
    "\n",
    "Let's start with the data acquisition and __read__ our __dataset__ from the provided file in CSV format.\n",
    "\n",
    "In this case our __data source__ is Kaggle and will __gather data__ from this single source."
   ]
  },
  {
   "cell_type": "code",
   "execution_count": 1,
   "id": "f85ad94b",
   "metadata": {
    "tags": []
   },
   "outputs": [],
   "source": [
    "# import necessary libraries for the analysis lyfe-cycle\n",
    "import pandas as pd\n",
    "import numpy as np\n",
    "import matplotlib.pyplot as plt\n",
    "import seaborn as sns\n",
    "import sklearn"
   ]
  },
  {
   "cell_type": "code",
   "execution_count": 2,
   "id": "f651b59f",
   "metadata": {
    "tags": []
   },
   "outputs": [
    {
     "data": {
      "text/html": [
       "<div>\n",
       "<style scoped>\n",
       "    .dataframe tbody tr th:only-of-type {\n",
       "        vertical-align: middle;\n",
       "    }\n",
       "\n",
       "    .dataframe tbody tr th {\n",
       "        vertical-align: top;\n",
       "    }\n",
       "\n",
       "    .dataframe thead th {\n",
       "        text-align: right;\n",
       "    }\n",
       "</style>\n",
       "<table border=\"1\" class=\"dataframe\">\n",
       "  <thead>\n",
       "    <tr style=\"text-align: right;\">\n",
       "      <th></th>\n",
       "      <th>Age</th>\n",
       "      <th>Gender</th>\n",
       "      <th>Education Level</th>\n",
       "      <th>Job Title</th>\n",
       "      <th>Years of Experience</th>\n",
       "      <th>Salary</th>\n",
       "    </tr>\n",
       "  </thead>\n",
       "  <tbody>\n",
       "    <tr>\n",
       "      <th>0</th>\n",
       "      <td>32.0</td>\n",
       "      <td>Male</td>\n",
       "      <td>Bachelor's</td>\n",
       "      <td>Software Engineer</td>\n",
       "      <td>5.0</td>\n",
       "      <td>90000.0</td>\n",
       "    </tr>\n",
       "    <tr>\n",
       "      <th>1</th>\n",
       "      <td>28.0</td>\n",
       "      <td>Female</td>\n",
       "      <td>Master's</td>\n",
       "      <td>Data Analyst</td>\n",
       "      <td>3.0</td>\n",
       "      <td>65000.0</td>\n",
       "    </tr>\n",
       "    <tr>\n",
       "      <th>2</th>\n",
       "      <td>45.0</td>\n",
       "      <td>Male</td>\n",
       "      <td>PhD</td>\n",
       "      <td>Senior Manager</td>\n",
       "      <td>15.0</td>\n",
       "      <td>150000.0</td>\n",
       "    </tr>\n",
       "    <tr>\n",
       "      <th>3</th>\n",
       "      <td>36.0</td>\n",
       "      <td>Female</td>\n",
       "      <td>Bachelor's</td>\n",
       "      <td>Sales Associate</td>\n",
       "      <td>7.0</td>\n",
       "      <td>60000.0</td>\n",
       "    </tr>\n",
       "    <tr>\n",
       "      <th>4</th>\n",
       "      <td>52.0</td>\n",
       "      <td>Male</td>\n",
       "      <td>Master's</td>\n",
       "      <td>Director</td>\n",
       "      <td>20.0</td>\n",
       "      <td>200000.0</td>\n",
       "    </tr>\n",
       "  </tbody>\n",
       "</table>\n",
       "</div>"
      ],
      "text/plain": [
       "    Age  Gender Education Level          Job Title  Years of Experience  \\\n",
       "0  32.0    Male      Bachelor's  Software Engineer                  5.0   \n",
       "1  28.0  Female        Master's       Data Analyst                  3.0   \n",
       "2  45.0    Male             PhD     Senior Manager                 15.0   \n",
       "3  36.0  Female      Bachelor's    Sales Associate                  7.0   \n",
       "4  52.0    Male        Master's           Director                 20.0   \n",
       "\n",
       "     Salary  \n",
       "0   90000.0  \n",
       "1   65000.0  \n",
       "2  150000.0  \n",
       "3   60000.0  \n",
       "4  200000.0  "
      ]
     },
     "execution_count": 2,
     "metadata": {},
     "output_type": "execute_result"
    }
   ],
   "source": [
    "# load dataset\n",
    "df = pd.read_csv('Salary_Prediction_Data.csv')\n",
    "\n",
    "# visualize the dataset\n",
    "df.head()"
   ]
  },
  {
   "cell_type": "code",
   "execution_count": 3,
   "id": "4b612fb2-8e39-4c24-b32c-399012533a95",
   "metadata": {
    "tags": []
   },
   "outputs": [
    {
     "data": {
      "text/plain": [
       "(375, 6)"
      ]
     },
     "execution_count": 3,
     "metadata": {},
     "output_type": "execute_result"
    }
   ],
   "source": [
    "# number of rows and columns of the data\n",
    "df.shape"
   ]
  },
  {
   "cell_type": "markdown",
   "id": "37b415d3-449c-4e3f-b92a-8dee56ba8d49",
   "metadata": {},
   "source": [
    "As we can see, our dataset has __375 rows__ and __6 columns__ including our target variable.\n",
    "\n",
    "Let's check our variables data types and __look for corrupted data__ that we can filter out."
   ]
  },
  {
   "cell_type": "code",
   "execution_count": 4,
   "id": "2e8d50cb",
   "metadata": {
    "tags": []
   },
   "outputs": [
    {
     "name": "stdout",
     "output_type": "stream",
     "text": [
      "<class 'pandas.core.frame.DataFrame'>\n",
      "RangeIndex: 375 entries, 0 to 374\n",
      "Data columns (total 6 columns):\n",
      " #   Column               Non-Null Count  Dtype  \n",
      "---  ------               --------------  -----  \n",
      " 0   Age                  373 non-null    float64\n",
      " 1   Gender               373 non-null    object \n",
      " 2   Education Level      373 non-null    object \n",
      " 3   Job Title            373 non-null    object \n",
      " 4   Years of Experience  373 non-null    float64\n",
      " 5   Salary               373 non-null    float64\n",
      "dtypes: float64(3), object(3)\n",
      "memory usage: 17.7+ KB\n"
     ]
    }
   ],
   "source": [
    "# data types of each colummn of our dataset\n",
    "df.info()"
   ]
  },
  {
   "cell_type": "code",
   "execution_count": 5,
   "id": "2055cecc",
   "metadata": {
    "tags": []
   },
   "outputs": [
    {
     "data": {
      "text/plain": [
       "Age                    2\n",
       "Gender                 2\n",
       "Education Level        2\n",
       "Job Title              2\n",
       "Years of Experience    2\n",
       "Salary                 2\n",
       "dtype: int64"
      ]
     },
     "execution_count": 5,
     "metadata": {},
     "output_type": "execute_result"
    }
   ],
   "source": [
    "# checking for null or missing values\n",
    "df.isnull().sum()"
   ]
  },
  {
   "cell_type": "code",
   "execution_count": 6,
   "id": "0d353aea",
   "metadata": {
    "tags": []
   },
   "outputs": [
    {
     "data": {
      "text/html": [
       "<div>\n",
       "<style scoped>\n",
       "    .dataframe tbody tr th:only-of-type {\n",
       "        vertical-align: middle;\n",
       "    }\n",
       "\n",
       "    .dataframe tbody tr th {\n",
       "        vertical-align: top;\n",
       "    }\n",
       "\n",
       "    .dataframe thead th {\n",
       "        text-align: right;\n",
       "    }\n",
       "</style>\n",
       "<table border=\"1\" class=\"dataframe\">\n",
       "  <thead>\n",
       "    <tr style=\"text-align: right;\">\n",
       "      <th></th>\n",
       "      <th>Age</th>\n",
       "      <th>Gender</th>\n",
       "      <th>Education Level</th>\n",
       "      <th>Job Title</th>\n",
       "      <th>Years of Experience</th>\n",
       "      <th>Salary</th>\n",
       "    </tr>\n",
       "  </thead>\n",
       "  <tbody>\n",
       "    <tr>\n",
       "      <th>172</th>\n",
       "      <td>NaN</td>\n",
       "      <td>NaN</td>\n",
       "      <td>NaN</td>\n",
       "      <td>NaN</td>\n",
       "      <td>NaN</td>\n",
       "      <td>NaN</td>\n",
       "    </tr>\n",
       "    <tr>\n",
       "      <th>260</th>\n",
       "      <td>NaN</td>\n",
       "      <td>NaN</td>\n",
       "      <td>NaN</td>\n",
       "      <td>NaN</td>\n",
       "      <td>NaN</td>\n",
       "      <td>NaN</td>\n",
       "    </tr>\n",
       "  </tbody>\n",
       "</table>\n",
       "</div>"
      ],
      "text/plain": [
       "     Age Gender Education Level Job Title  Years of Experience  Salary\n",
       "172  NaN    NaN             NaN       NaN                  NaN     NaN\n",
       "260  NaN    NaN             NaN       NaN                  NaN     NaN"
      ]
     },
     "execution_count": 6,
     "metadata": {},
     "output_type": "execute_result"
    }
   ],
   "source": [
    "# printing the rows with corrupted data or missing values\n",
    "df[df.isna().any(axis = 1)]"
   ]
  },
  {
   "cell_type": "markdown",
   "id": "66d2d053-8f6f-44b5-b86d-01ade8b80b40",
   "metadata": {},
   "source": [
    "So there are __2 rows__ with corrupted data that has __no value__ to our data analysis.\n",
    "\n",
    "We must proceed to __eliminate or filter__ these unnecessary rows."
   ]
  },
  {
   "cell_type": "code",
   "execution_count": 7,
   "id": "476c939c",
   "metadata": {
    "tags": []
   },
   "outputs": [],
   "source": [
    "# dropping rows contain missing values (corrupted data)\n",
    "df.dropna(axis = 0, how = 'any', inplace = True)"
   ]
  },
  {
   "cell_type": "code",
   "execution_count": 8,
   "id": "2a0e7207",
   "metadata": {
    "tags": []
   },
   "outputs": [
    {
     "data": {
      "text/plain": [
       "Age                    0\n",
       "Gender                 0\n",
       "Education Level        0\n",
       "Job Title              0\n",
       "Years of Experience    0\n",
       "Salary                 0\n",
       "dtype: int64"
      ]
     },
     "execution_count": 8,
     "metadata": {},
     "output_type": "execute_result"
    }
   ],
   "source": [
    "# checking again for null or missing values\n",
    "df.isna().sum()"
   ]
  },
  {
   "cell_type": "markdown",
   "id": "4b0b874a-eb4f-4c4d-bb61-b07f61a94db8",
   "metadata": {},
   "source": [
    "As there are no more missing values,\n",
    "\n",
    "we have succesfully __acquired__ our dataset (Salary prediction) from our data source (Kaggle) and __filter__ any corrupted data."
   ]
  },
  {
   "cell_type": "markdown",
   "id": "cdf9f27e-2100-4330-8135-1f7d4eb97425",
   "metadata": {},
   "source": [
    "# Stage 4 - Data extraction\n",
    "\n",
    "On this stage we __extract__ disparate __data__ and __transform__ it into a __usable format__ for the analysis.\n",
    "\n",
    "In this case, we need all the data in a structured __tabular format__.\n",
    "\n",
    "As we can see, our dataset is already in tabular format, and we do __not need to perform__ any further __extraction__ steps."
   ]
  },
  {
   "cell_type": "code",
   "execution_count": 9,
   "id": "0649b90d-62d6-4797-9415-818285324d78",
   "metadata": {
    "tags": []
   },
   "outputs": [
    {
     "name": "stdout",
     "output_type": "stream",
     "text": [
      "Dataset number of rows: \t373\n",
      "Dataset number of columns: \t6\n",
      "Dataset shape (rows, columns): (373, 6)\n"
     ]
    }
   ],
   "source": [
    "# Print the number of rows, columns and shape (rows, columns) of our dataset\n",
    "print(f\"Dataset number of rows: \\t{df.shape[0]}\")\n",
    "print(f\"Dataset number of columns: \\t{df.shape[1]}\")\n",
    "print(f\"Dataset shape (rows, columns): {df.shape}\")"
   ]
  },
  {
   "cell_type": "markdown",
   "id": "ef6bd78c-ab8f-4433-84ac-53fed1813db1",
   "metadata": {},
   "source": [
    "# Stage 5 - Validation and Cleansing\n",
    "\n",
    "Now we have to __establish validation rules__ and apply them on our dataset to __remove invalid data__.\n",
    "\n",
    "First, let's __check__ for __duplicated rows__ and __remove__ them, as these won't add value to our analysis."
   ]
  },
  {
   "cell_type": "code",
   "execution_count": 10,
   "id": "d5545610",
   "metadata": {
    "tags": []
   },
   "outputs": [
    {
     "data": {
      "text/plain": [
       "49"
      ]
     },
     "execution_count": 10,
     "metadata": {},
     "output_type": "execute_result"
    }
   ],
   "source": [
    "# count the number of duplicated rows\n",
    "df[df.duplicated].shape[0]"
   ]
  },
  {
   "cell_type": "code",
   "execution_count": 11,
   "id": "9f071835-abb9-4bc1-afdd-141bb0f0779c",
   "metadata": {
    "tags": []
   },
   "outputs": [
    {
     "data": {
      "text/html": [
       "<div>\n",
       "<style scoped>\n",
       "    .dataframe tbody tr th:only-of-type {\n",
       "        vertical-align: middle;\n",
       "    }\n",
       "\n",
       "    .dataframe tbody tr th {\n",
       "        vertical-align: top;\n",
       "    }\n",
       "\n",
       "    .dataframe thead th {\n",
       "        text-align: right;\n",
       "    }\n",
       "</style>\n",
       "<table border=\"1\" class=\"dataframe\">\n",
       "  <thead>\n",
       "    <tr style=\"text-align: right;\">\n",
       "      <th></th>\n",
       "      <th>Age</th>\n",
       "      <th>Gender</th>\n",
       "      <th>Education Level</th>\n",
       "      <th>Job Title</th>\n",
       "      <th>Years of Experience</th>\n",
       "      <th>Salary</th>\n",
       "    </tr>\n",
       "  </thead>\n",
       "  <tbody>\n",
       "    <tr>\n",
       "      <th>195</th>\n",
       "      <td>28.0</td>\n",
       "      <td>Male</td>\n",
       "      <td>Bachelor's</td>\n",
       "      <td>Junior Business Analyst</td>\n",
       "      <td>2.0</td>\n",
       "      <td>40000.0</td>\n",
       "    </tr>\n",
       "    <tr>\n",
       "      <th>250</th>\n",
       "      <td>30.0</td>\n",
       "      <td>Female</td>\n",
       "      <td>Bachelor's</td>\n",
       "      <td>Junior Marketing Coordinator</td>\n",
       "      <td>2.0</td>\n",
       "      <td>40000.0</td>\n",
       "    </tr>\n",
       "    <tr>\n",
       "      <th>251</th>\n",
       "      <td>38.0</td>\n",
       "      <td>Male</td>\n",
       "      <td>Master's</td>\n",
       "      <td>Senior IT Consultant</td>\n",
       "      <td>9.0</td>\n",
       "      <td>110000.0</td>\n",
       "    </tr>\n",
       "    <tr>\n",
       "      <th>252</th>\n",
       "      <td>45.0</td>\n",
       "      <td>Female</td>\n",
       "      <td>PhD</td>\n",
       "      <td>Senior Product Designer</td>\n",
       "      <td>15.0</td>\n",
       "      <td>150000.0</td>\n",
       "    </tr>\n",
       "    <tr>\n",
       "      <th>253</th>\n",
       "      <td>28.0</td>\n",
       "      <td>Male</td>\n",
       "      <td>Bachelor's</td>\n",
       "      <td>Junior Business Development Associate</td>\n",
       "      <td>2.0</td>\n",
       "      <td>40000.0</td>\n",
       "    </tr>\n",
       "  </tbody>\n",
       "</table>\n",
       "</div>"
      ],
      "text/plain": [
       "      Age  Gender Education Level                              Job Title  \\\n",
       "195  28.0    Male      Bachelor's                Junior Business Analyst   \n",
       "250  30.0  Female      Bachelor's           Junior Marketing Coordinator   \n",
       "251  38.0    Male        Master's                   Senior IT Consultant   \n",
       "252  45.0  Female             PhD                Senior Product Designer   \n",
       "253  28.0    Male      Bachelor's  Junior Business Development Associate   \n",
       "\n",
       "     Years of Experience    Salary  \n",
       "195                  2.0   40000.0  \n",
       "250                  2.0   40000.0  \n",
       "251                  9.0  110000.0  \n",
       "252                 15.0  150000.0  \n",
       "253                  2.0   40000.0  "
      ]
     },
     "execution_count": 11,
     "metadata": {},
     "output_type": "execute_result"
    }
   ],
   "source": [
    "# display some of the duplicated rows\n",
    "df[df.duplicated].head()"
   ]
  },
  {
   "cell_type": "code",
   "execution_count": 12,
   "id": "dd33ad9a-0175-433a-9ed7-c5b62c6a7ddb",
   "metadata": {
    "tags": []
   },
   "outputs": [
    {
     "data": {
      "text/plain": [
       "(324, 6)"
      ]
     },
     "execution_count": 12,
     "metadata": {},
     "output_type": "execute_result"
    }
   ],
   "source": [
    "# drop duplicated rows\n",
    "df.drop_duplicates(inplace=True)\n",
    "\n",
    "df.shape"
   ]
  },
  {
   "cell_type": "markdown",
   "id": "754c1b6a-1d92-4683-b3fc-2c912d5ff554",
   "metadata": {},
   "source": [
    "After eliminating the duplicated rows we are left with 324 rows.\n",
    "\n",
    "Let's __identify__ our __numerical__ and __categorical variables__ so we can perform different validations upon them."
   ]
  },
  {
   "cell_type": "code",
   "execution_count": 13,
   "id": "2eaee72a-cd1e-481c-b9db-a66dc6695ef9",
   "metadata": {
    "tags": []
   },
   "outputs": [
    {
     "data": {
      "text/plain": [
       "Index(['Age', 'Gender', 'Education Level', 'Job Title', 'Years of Experience',\n",
       "       'Salary'],\n",
       "      dtype='object')"
      ]
     },
     "execution_count": 13,
     "metadata": {},
     "output_type": "execute_result"
    }
   ],
   "source": [
    "# display columnns of our dataset\n",
    "df.columns"
   ]
  },
  {
   "cell_type": "code",
   "execution_count": 14,
   "id": "f83c1178-3f4d-4791-85de-bdbb7e42ee1b",
   "metadata": {
    "tags": []
   },
   "outputs": [
    {
     "name": "stdout",
     "output_type": "stream",
     "text": [
      "Numerical Features:   ['Age', 'Years of Experience', 'Salary']\n",
      "Categorical Features: ['Gender', 'Education Level', 'Job Title']\n"
     ]
    }
   ],
   "source": [
    "numerical_columns = [col for col in df.columns if df[col].dtypes!='O']\n",
    "categorical_columns = [col for col in df.columns if df[col].dtypes=='O']\n",
    "\n",
    "print(\"Numerical Features:   \", end = '')\n",
    "print(numerical_columns)\n",
    "print(\"Categorical Features: \", end = '')\n",
    "print(categorical_columns)"
   ]
  },
  {
   "cell_type": "markdown",
   "id": "bb9b0cb1-712a-407b-98e1-e8ac61aeb960",
   "metadata": {},
   "source": [
    "Our __numerical__ variables are:\n",
    "- Age\n",
    "- Years of Experience\n",
    "- Salary\n",
    "\n",
    "Meanwhile, our __categorical__ variables are:\n",
    "- Gender\n",
    "- Education Level\n",
    "- Job Title\n",
    "\n",
    "Now that we know our variable types, we could perform a __string validation__ on our categorical variables and a __range validation__ on our numerical variables."
   ]
  },
  {
   "cell_type": "code",
   "execution_count": 15,
   "id": "258b2f96-89b8-4973-9192-ab4bce212284",
   "metadata": {
    "tags": []
   },
   "outputs": [
    {
     "data": {
      "text/plain": [
       "Gender                                                [Male, Female]\n",
       "Education Level                          [Bachelor's, Master's, PhD]\n",
       "Job Title          [Software Engineer, Data Analyst, Senior Manag...\n",
       "dtype: object"
      ]
     },
     "execution_count": 15,
     "metadata": {},
     "output_type": "execute_result"
    }
   ],
   "source": [
    "# Unique values of our categorical variables\n",
    "df[categorical_columns].apply(pd.unique)"
   ]
  },
  {
   "cell_type": "markdown",
   "id": "f95b6bc3-d5c4-4cef-915b-2882758ab1c1",
   "metadata": {},
   "source": [
    "There are many unique values for our Job Title column, as we can't check each value manually we have to perform a __string validation__ on our 3 categorical variables by __deleting leading and tailing white spaces__."
   ]
  },
  {
   "cell_type": "code",
   "execution_count": 16,
   "id": "49b27140-7728-4192-9247-eb92156c9bd1",
   "metadata": {
    "tags": []
   },
   "outputs": [],
   "source": [
    "# Apply strip to all our categorical columns\n",
    "for column in categorical_columns:\n",
    "    df[column] = df[column].str.strip()"
   ]
  },
  {
   "cell_type": "markdown",
   "id": "34654431-934f-4efc-a6b1-e453901c6c83",
   "metadata": {},
   "source": [
    "Now let's check the __unique values__ for our __numerical variables__."
   ]
  },
  {
   "cell_type": "code",
   "execution_count": 17,
   "id": "b5dbab75-f8f2-451c-8324-036f2517ee51",
   "metadata": {
    "tags": []
   },
   "outputs": [
    {
     "data": {
      "text/plain": [
       "Age                    [32.0, 28.0, 45.0, 36.0, 52.0, 29.0, 42.0, 31....\n",
       "Years of Experience    [5.0, 3.0, 15.0, 7.0, 20.0, 2.0, 12.0, 4.0, 1....\n",
       "Salary                 [90000.0, 65000.0, 150000.0, 60000.0, 200000.0...\n",
       "dtype: object"
      ]
     },
     "execution_count": 17,
     "metadata": {},
     "output_type": "execute_result"
    }
   ],
   "source": [
    "# Unique values of our categorical variables\n",
    "df[numerical_columns].apply(pd.unique)"
   ]
  },
  {
   "cell_type": "markdown",
   "id": "26632f3a-555d-4d0c-a879-d5bf3619ffb8",
   "metadata": {},
   "source": [
    "There are quite a few invalid values for our numerical variables.\n",
    "\n",
    "Let's perform a __range validation__ to __delete negative values__ on any column or __delete zero values__ in the Age or Salary columns."
   ]
  },
  {
   "cell_type": "code",
   "execution_count": 18,
   "id": "c1b6d001-3b52-41d8-bcf2-fda8088e7ca7",
   "metadata": {
    "tags": []
   },
   "outputs": [
    {
     "data": {
      "text/plain": [
       "(324, 6)"
      ]
     },
     "execution_count": 18,
     "metadata": {},
     "output_type": "execute_result"
    }
   ],
   "source": [
    "for column in numerical_columns:\n",
    "    if column in ['Age', 'Salary']:\n",
    "        df.drop(df[df[column] <= 0].index, inplace=True)\n",
    "    else:\n",
    "        df.drop(df[df[column] < 0].index, inplace=True)\n",
    "        \n",
    "df.shape"
   ]
  },
  {
   "cell_type": "markdown",
   "id": "a1c84524-60e5-4638-beb1-9fac75fab296",
   "metadata": {},
   "source": [
    "Now we will __check__ our columns __data types__ one more time to make sure they have the correct data types."
   ]
  },
  {
   "cell_type": "code",
   "execution_count": 19,
   "id": "3ef61ab9-734e-49b5-a6ac-2b870ecc02f9",
   "metadata": {
    "tags": []
   },
   "outputs": [
    {
     "data": {
      "text/plain": [
       "Age                    float64\n",
       "Gender                  object\n",
       "Education Level         object\n",
       "Job Title               object\n",
       "Years of Experience    float64\n",
       "Salary                 float64\n",
       "dtype: object"
      ]
     },
     "execution_count": 19,
     "metadata": {},
     "output_type": "execute_result"
    }
   ],
   "source": [
    "df.dtypes"
   ]
  },
  {
   "cell_type": "markdown",
   "id": "de64bbbd-eaf8-4caf-8e15-be429ec111f4",
   "metadata": {},
   "source": [
    "Age and Salary columns have a float data type.\n",
    "\n",
    "We can convert both into integer columns to reduce complexity.\n",
    "\n",
    "- Age decimals: months or days\n",
    "- Salary decimals: cents differences on the salaries\n",
    "\n",
    "Given both contexts, eliminating decimals on these columns will not imply a significant difference in our analysis results.\n",
    "\n",
    "Finally we convert both columns into integer data types."
   ]
  },
  {
   "cell_type": "code",
   "execution_count": 20,
   "id": "b8397032-e858-4a43-b518-ea38a7b63417",
   "metadata": {
    "tags": []
   },
   "outputs": [
    {
     "data": {
      "text/plain": [
       "Age                      int32\n",
       "Gender                  object\n",
       "Education Level         object\n",
       "Job Title               object\n",
       "Years of Experience    float64\n",
       "Salary                   int32\n",
       "dtype: object"
      ]
     },
     "execution_count": 20,
     "metadata": {},
     "output_type": "execute_result"
    }
   ],
   "source": [
    "df[['Age', 'Salary']] = df[['Age', 'Salary']].astype(int)\n",
    "\n",
    "df.dtypes"
   ]
  },
  {
   "cell_type": "markdown",
   "id": "197ebe56-f6ad-4e04-8d78-57a76d05048c",
   "metadata": {},
   "source": [
    "# Stage 6 - Data aggregation & Representation\n",
    "\n",
    "With our data validated and cleaned we can proceed to __integrate__ our datasets together into a __unified view__\n",
    "\n",
    "However, we are working with only __one dataset__ gathered from a single source (Kaggle).\n",
    "\n",
    "So there is no need to perform further aggregation or representation steps.\n",
    "\n",
    "If we had two or more datasets we would have to integrate them together into a single unified view using a common field among the different datasets."
   ]
  },
  {
   "cell_type": "markdown",
   "id": "29ce218a-42cf-492a-93f1-ecb8e867375c",
   "metadata": {},
   "source": [
    "# Stage 7 - Data Analysis\n",
    "\n",
    "Let's start with our data analysis to __predict__ the __salary__ value based on our predictive variables.\n",
    "\n",
    "Remember that our target variable is the Salary column. So we can start finding and deleting outliers that could affect our desired regression model.\n",
    "\n",
    "To find outliers we can __plot__ our variable __values and distributions__."
   ]
  },
  {
   "cell_type": "code",
   "execution_count": 21,
   "id": "5f7715e3-e415-4035-9a2a-e0973544661c",
   "metadata": {
    "tags": []
   },
   "outputs": [
    {
     "data": {
      "text/html": [
       "<div>\n",
       "<style scoped>\n",
       "    .dataframe tbody tr th:only-of-type {\n",
       "        vertical-align: middle;\n",
       "    }\n",
       "\n",
       "    .dataframe tbody tr th {\n",
       "        vertical-align: top;\n",
       "    }\n",
       "\n",
       "    .dataframe thead th {\n",
       "        text-align: right;\n",
       "    }\n",
       "</style>\n",
       "<table border=\"1\" class=\"dataframe\">\n",
       "  <thead>\n",
       "    <tr style=\"text-align: right;\">\n",
       "      <th></th>\n",
       "      <th>count</th>\n",
       "      <th>mean</th>\n",
       "      <th>std</th>\n",
       "      <th>min</th>\n",
       "      <th>25%</th>\n",
       "      <th>50%</th>\n",
       "      <th>75%</th>\n",
       "      <th>max</th>\n",
       "    </tr>\n",
       "  </thead>\n",
       "  <tbody>\n",
       "    <tr>\n",
       "      <th>Age</th>\n",
       "      <td>324.0</td>\n",
       "      <td>37.382716</td>\n",
       "      <td>7.185844</td>\n",
       "      <td>23.0</td>\n",
       "      <td>31.0</td>\n",
       "      <td>36.5</td>\n",
       "      <td>44.0</td>\n",
       "      <td>53.0</td>\n",
       "    </tr>\n",
       "    <tr>\n",
       "      <th>Years of Experience</th>\n",
       "      <td>324.0</td>\n",
       "      <td>10.058642</td>\n",
       "      <td>6.650470</td>\n",
       "      <td>0.0</td>\n",
       "      <td>4.0</td>\n",
       "      <td>9.0</td>\n",
       "      <td>16.0</td>\n",
       "      <td>25.0</td>\n",
       "    </tr>\n",
       "    <tr>\n",
       "      <th>Salary</th>\n",
       "      <td>324.0</td>\n",
       "      <td>99985.648148</td>\n",
       "      <td>48652.271440</td>\n",
       "      <td>350.0</td>\n",
       "      <td>55000.0</td>\n",
       "      <td>95000.0</td>\n",
       "      <td>140000.0</td>\n",
       "      <td>250000.0</td>\n",
       "    </tr>\n",
       "  </tbody>\n",
       "</table>\n",
       "</div>"
      ],
      "text/plain": [
       "                     count          mean           std    min      25%  \\\n",
       "Age                  324.0     37.382716      7.185844   23.0     31.0   \n",
       "Years of Experience  324.0     10.058642      6.650470    0.0      4.0   \n",
       "Salary               324.0  99985.648148  48652.271440  350.0  55000.0   \n",
       "\n",
       "                         50%       75%       max  \n",
       "Age                     36.5      44.0      53.0  \n",
       "Years of Experience      9.0      16.0      25.0  \n",
       "Salary               95000.0  140000.0  250000.0  "
      ]
     },
     "execution_count": 21,
     "metadata": {},
     "output_type": "execute_result"
    }
   ],
   "source": [
    "# viewing statistical information about our dataset (only numerical values)\n",
    "df.describe().T"
   ]
  },
  {
   "cell_type": "code",
   "execution_count": 22,
   "id": "ef5d4c90-9ada-47dc-9728-b4bf011ab449",
   "metadata": {
    "tags": []
   },
   "outputs": [
    {
     "data": {
      "text/plain": [
       "<Axes: xlabel='Years of Experience', ylabel='Salary'>"
      ]
     },
     "execution_count": 22,
     "metadata": {},
     "output_type": "execute_result"
    },
    {
     "data": {
      "image/png": "[encoded data removed]",
      "text/plain": [
       "<Figure size 600x400 with 1 Axes>"
      ]
     },
     "metadata": {},
     "output_type": "display_data"
    }
   ],
   "source": [
    "# Scatter plot of Years of experience (X) vs Salary (Y)\n",
    "df.plot.scatter(x='Years of Experience', y='Salary', figsize=(6,4))"
   ]
  },
  {
   "cell_type": "code",
   "execution_count": 23,
   "id": "baa2929b-8370-4615-aef3-7467d637f8f5",
   "metadata": {
    "tags": []
   },
   "outputs": [
    {
     "data": {
      "text/plain": [
       "<Axes: xlabel='Age', ylabel='Salary'>"
      ]
     },
     "execution_count": 23,
     "metadata": {},
     "output_type": "execute_result"
    },
    {
     "data": {
      "image/png": "[encoded data removed]",
      "text/plain": [
       "<Figure size 600x400 with 1 Axes>"
      ]
     },
     "metadata": {},
     "output_type": "display_data"
    }
   ],
   "source": [
    "# Scatter plot of Age (X) vs Salary (Y)\n",
    "df.plot.scatter(x='Age', y='Salary', figsize=(6,4)) "
   ]
  },
  {
   "cell_type": "code",
   "execution_count": 24,
   "id": "2fbe7ee4-0c4b-4480-8630-35c9f12adf2e",
   "metadata": {
    "tags": []
   },
   "outputs": [
    {
     "data": {
      "text/plain": [
       "<Axes: xlabel='Gender', ylabel='Salary'>"
      ]
     },
     "execution_count": 24,
     "metadata": {},
     "output_type": "execute_result"
    },
    {
     "data": {
      "image/png": "[encoded data removed]",
      "text/plain": [
       "<Figure size 600x400 with 1 Axes>"
      ]
     },
     "metadata": {},
     "output_type": "display_data"
    }
   ],
   "source": [
    "# Scatter plot of Gender (X) vs Salary (Y)\n",
    "df.plot.scatter(x='Gender', y='Salary', figsize=(6,4)) "
   ]
  },
  {
   "cell_type": "code",
   "execution_count": 25,
   "id": "72c47e1a-4926-4729-82d5-d1ac58625087",
   "metadata": {
    "tags": []
   },
   "outputs": [
    {
     "data": {
      "text/plain": [
       "<Axes: xlabel='Education Level', ylabel='Salary'>"
      ]
     },
     "execution_count": 25,
     "metadata": {},
     "output_type": "execute_result"
    },
    {
     "data": {
      "image/png": "[encoded data removed]",
      "text/plain": [
       "<Figure size 600x400 with 1 Axes>"
      ]
     },
     "metadata": {},
     "output_type": "display_data"
    }
   ],
   "source": [
    "# Scatter plot of Education Level (X) vs Salary (Y)\n",
    "df.plot.scatter(x='Education Level', y='Salary', figsize=(6,4)) "
   ]
  },
  {
   "cell_type": "code",
   "execution_count": 37,
   "id": "dc4d1297-d1aa-4041-b267-40adfccda861",
   "metadata": {
    "tags": []
   },
   "outputs": [
    {
     "data": {
      "text/plain": [
       "<Axes: xlabel='Job Title', ylabel='Salary'>"
      ]
     },
     "execution_count": 37,
     "metadata": {},
     "output_type": "execute_result"
    },
    {
     "data": {
      "image/png": "[encoded data removed]",
      "text/plain": [
       "<Figure size 600x400 with 1 Axes>"
      ]
     },
     "metadata": {},
     "output_type": "display_data"
    }
   ],
   "source": [
    "# Scatter plot of Job Title (X) vs Salary (Y)\n",
    "df.plot.scatter(x='Job Title', y='Salary', figsize=(6,4))"
   ]
  },
  {
   "cell_type": "code",
   "execution_count": 27,
   "id": "c6c626ee-82cf-409d-8b70-41c6ba478d42",
   "metadata": {
    "tags": []
   },
   "outputs": [
    {
     "data": {
      "text/plain": [
       "array([[<Axes: title={'center': 'Age'}>,\n",
       "        <Axes: title={'center': 'Years of Experience'}>],\n",
       "       [<Axes: title={'center': 'Salary'}>, <Axes: >]], dtype=object)"
      ]
     },
     "execution_count": 27,
     "metadata": {},
     "output_type": "execute_result"
    },
    {
     "data": {
      "image/png": "[encoded data removed]",
      "text/plain": [
       "<Figure size 640x480 with 4 Axes>"
      ]
     },
     "metadata": {},
     "output_type": "display_data"
    }
   ],
   "source": [
    "# display histograms for all numerical variables\n",
    "df.hist()"
   ]
  },
  {
   "cell_type": "code",
   "execution_count": 28,
   "id": "a8475411",
   "metadata": {},
   "outputs": [
    {
     "data": {
      "text/html": [
       "<div>\n",
       "<style scoped>\n",
       "    .dataframe tbody tr th:only-of-type {\n",
       "        vertical-align: middle;\n",
       "    }\n",
       "\n",
       "    .dataframe tbody tr th {\n",
       "        vertical-align: top;\n",
       "    }\n",
       "\n",
       "    .dataframe thead th {\n",
       "        text-align: right;\n",
       "    }\n",
       "</style>\n",
       "<table border=\"1\" class=\"dataframe\">\n",
       "  <thead>\n",
       "    <tr style=\"text-align: right;\">\n",
       "      <th></th>\n",
       "      <th>Age</th>\n",
       "      <th>Gender</th>\n",
       "      <th>Education Level</th>\n",
       "      <th>Job Title</th>\n",
       "      <th>Years of Experience</th>\n",
       "      <th>Salary</th>\n",
       "    </tr>\n",
       "  </thead>\n",
       "  <tbody>\n",
       "    <tr>\n",
       "      <th>30</th>\n",
       "      <td>50</td>\n",
       "      <td>Male</td>\n",
       "      <td>Bachelor's</td>\n",
       "      <td>CEO</td>\n",
       "      <td>25.0</td>\n",
       "      <td>250000</td>\n",
       "    </tr>\n",
       "    <tr>\n",
       "      <th>83</th>\n",
       "      <td>52</td>\n",
       "      <td>Male</td>\n",
       "      <td>PhD</td>\n",
       "      <td>Chief Technology Officer</td>\n",
       "      <td>24.0</td>\n",
       "      <td>250000</td>\n",
       "    </tr>\n",
       "    <tr>\n",
       "      <th>105</th>\n",
       "      <td>44</td>\n",
       "      <td>Male</td>\n",
       "      <td>PhD</td>\n",
       "      <td>Chief Data Officer</td>\n",
       "      <td>16.0</td>\n",
       "      <td>220000</td>\n",
       "    </tr>\n",
       "  </tbody>\n",
       "</table>\n",
       "</div>"
      ],
      "text/plain": [
       "     Age Gender Education Level                 Job Title  \\\n",
       "30    50   Male      Bachelor's                       CEO   \n",
       "83    52   Male             PhD  Chief Technology Officer   \n",
       "105   44   Male             PhD        Chief Data Officer   \n",
       "\n",
       "     Years of Experience  Salary  \n",
       "30                  25.0  250000  \n",
       "83                  24.0  250000  \n",
       "105                 16.0  220000  "
      ]
     },
     "execution_count": 28,
     "metadata": {},
     "output_type": "execute_result"
    }
   ],
   "source": [
    "# Right outliers, with salaries over $200,000 annually\n",
    "df[df['Salary'] > 200000].sort_values(by = 'Salary', ascending = False)"
   ]
  },
  {
   "cell_type": "code",
   "execution_count": 29,
   "id": "2a8a36a7-7f24-40c5-b495-4a7ead1f6f9a",
   "metadata": {
    "tags": []
   },
   "outputs": [
    {
     "data": {
      "text/html": [
       "<div>\n",
       "<style scoped>\n",
       "    .dataframe tbody tr th:only-of-type {\n",
       "        vertical-align: middle;\n",
       "    }\n",
       "\n",
       "    .dataframe tbody tr th {\n",
       "        vertical-align: top;\n",
       "    }\n",
       "\n",
       "    .dataframe thead th {\n",
       "        text-align: right;\n",
       "    }\n",
       "</style>\n",
       "<table border=\"1\" class=\"dataframe\">\n",
       "  <thead>\n",
       "    <tr style=\"text-align: right;\">\n",
       "      <th></th>\n",
       "      <th>Age</th>\n",
       "      <th>Gender</th>\n",
       "      <th>Education Level</th>\n",
       "      <th>Job Title</th>\n",
       "      <th>Years of Experience</th>\n",
       "      <th>Salary</th>\n",
       "    </tr>\n",
       "  </thead>\n",
       "  <tbody>\n",
       "    <tr>\n",
       "      <th>259</th>\n",
       "      <td>29</td>\n",
       "      <td>Male</td>\n",
       "      <td>Bachelor's</td>\n",
       "      <td>Junior Business Operations Analyst</td>\n",
       "      <td>1.5</td>\n",
       "      <td>350</td>\n",
       "    </tr>\n",
       "  </tbody>\n",
       "</table>\n",
       "</div>"
      ],
      "text/plain": [
       "     Age Gender Education Level                           Job Title  \\\n",
       "259   29   Male      Bachelor's  Junior Business Operations Analyst   \n",
       "\n",
       "     Years of Experience  Salary  \n",
       "259                  1.5     350  "
      ]
     },
     "execution_count": 29,
     "metadata": {},
     "output_type": "execute_result"
    }
   ],
   "source": [
    "# Left outliers, with salaries less than $30,000 annually\n",
    "df[df['Salary'] < 30000].sort_values(by = 'Salary', ascending = False)"
   ]
  },
  {
   "cell_type": "markdown",
   "id": "97acd575-c9e7-4674-984b-b049435cf6d6",
   "metadata": {
    "tags": []
   },
   "source": [
    "As we have identified __4__ total __outliers__ on the __Salary column__\n",
    "\n",
    "- 3 outliers with salaries over $200,000 annually\n",
    "\n",
    "- 1 outlier with salary below $30,000 annually\n",
    "\n",
    "We will proceed to __delete__ these __extreme values__ on our dataset."
   ]
  },
  {
   "cell_type": "code",
   "execution_count": 30,
   "id": "bc0e20c1",
   "metadata": {},
   "outputs": [
    {
     "data": {
      "text/plain": [
       "(320, 6)"
      ]
     },
     "execution_count": 30,
     "metadata": {},
     "output_type": "execute_result"
    }
   ],
   "source": [
    "# Deleting outliers on the Salary column\n",
    "df.drop(df[df['Salary'] > 200000].index, inplace=True)\n",
    "df.drop(df[df['Salary'] < 30000].index, inplace=True)\n",
    "\n",
    "df.shape"
   ]
  },
  {
   "cell_type": "markdown",
   "id": "0fc063cf-9ea4-4196-9e35-5c83b410cb8a",
   "metadata": {},
   "source": [
    "Now we have to __split__ our __dataset__ into:\n",
    "- __X__: predictive features\n",
    "- __Y__: target feature"
   ]
  },
  {
   "cell_type": "code",
   "execution_count": 31,
   "id": "9a92a597",
   "metadata": {},
   "outputs": [],
   "source": [
    "# Separate features (X) and target (y)\n",
    "x = df.iloc[:, :-1].values\n",
    "y = df.iloc[:, -1].values"
   ]
  },
  {
   "cell_type": "markdown",
   "id": "6e267056-e0ba-4692-8765-bc072e959557",
   "metadata": {},
   "source": [
    "As we have splitted our data, we have to apply a __standard scaling__ to our __numerical variables__\n",
    "\n",
    "Our __predictive numerical columns__ are:\n",
    "    \n",
    "- Age\n",
    "- Years of Experience\n",
    "\n",
    "Let's apply a __standard scaling__ to both of them."
   ]
  },
  {
   "cell_type": "code",
   "execution_count": 32,
   "id": "b2d7d880",
   "metadata": {},
   "outputs": [
    {
     "data": {
      "text/html": [
       "<div>\n",
       "<style scoped>\n",
       "    .dataframe tbody tr th:only-of-type {\n",
       "        vertical-align: middle;\n",
       "    }\n",
       "\n",
       "    .dataframe tbody tr th {\n",
       "        vertical-align: top;\n",
       "    }\n",
       "\n",
       "    .dataframe thead th {\n",
       "        text-align: right;\n",
       "    }\n",
       "</style>\n",
       "<table border=\"1\" class=\"dataframe\">\n",
       "  <thead>\n",
       "    <tr style=\"text-align: right;\">\n",
       "      <th></th>\n",
       "      <th>0</th>\n",
       "      <th>1</th>\n",
       "      <th>2</th>\n",
       "      <th>3</th>\n",
       "      <th>4</th>\n",
       "    </tr>\n",
       "  </thead>\n",
       "  <tbody>\n",
       "    <tr>\n",
       "      <th>0</th>\n",
       "      <td>-0.745571</td>\n",
       "      <td>Male</td>\n",
       "      <td>Bachelor's</td>\n",
       "      <td>Software Engineer</td>\n",
       "      <td>-0.758986</td>\n",
       "    </tr>\n",
       "    <tr>\n",
       "      <th>1</th>\n",
       "      <td>-1.307934</td>\n",
       "      <td>Female</td>\n",
       "      <td>Master's</td>\n",
       "      <td>Data Analyst</td>\n",
       "      <td>-1.06401</td>\n",
       "    </tr>\n",
       "    <tr>\n",
       "      <th>2</th>\n",
       "      <td>1.08211</td>\n",
       "      <td>Male</td>\n",
       "      <td>PhD</td>\n",
       "      <td>Senior Manager</td>\n",
       "      <td>0.766135</td>\n",
       "    </tr>\n",
       "    <tr>\n",
       "      <th>3</th>\n",
       "      <td>-0.183207</td>\n",
       "      <td>Female</td>\n",
       "      <td>Bachelor's</td>\n",
       "      <td>Sales Associate</td>\n",
       "      <td>-0.453962</td>\n",
       "    </tr>\n",
       "    <tr>\n",
       "      <th>4</th>\n",
       "      <td>2.066246</td>\n",
       "      <td>Male</td>\n",
       "      <td>Master's</td>\n",
       "      <td>Director</td>\n",
       "      <td>1.528695</td>\n",
       "    </tr>\n",
       "    <tr>\n",
       "      <th>...</th>\n",
       "      <td>...</td>\n",
       "      <td>...</td>\n",
       "      <td>...</td>\n",
       "      <td>...</td>\n",
       "      <td>...</td>\n",
       "    </tr>\n",
       "    <tr>\n",
       "      <th>315</th>\n",
       "      <td>-1.307934</td>\n",
       "      <td>Female</td>\n",
       "      <td>Bachelor's</td>\n",
       "      <td>Junior Operations Manager</td>\n",
       "      <td>-1.369034</td>\n",
       "    </tr>\n",
       "    <tr>\n",
       "      <th>316</th>\n",
       "      <td>-0.183207</td>\n",
       "      <td>Male</td>\n",
       "      <td>Bachelor's</td>\n",
       "      <td>Senior Business Development Manager</td>\n",
       "      <td>-0.30145</td>\n",
       "    </tr>\n",
       "    <tr>\n",
       "      <th>317</th>\n",
       "      <td>0.941519</td>\n",
       "      <td>Female</td>\n",
       "      <td>PhD</td>\n",
       "      <td>Senior Data Scientist</td>\n",
       "      <td>0.918647</td>\n",
       "    </tr>\n",
       "    <tr>\n",
       "      <th>318</th>\n",
       "      <td>-0.886162</td>\n",
       "      <td>Male</td>\n",
       "      <td>Bachelor's</td>\n",
       "      <td>Junior Marketing Coordinator</td>\n",
       "      <td>-1.06401</td>\n",
       "    </tr>\n",
       "    <tr>\n",
       "      <th>319</th>\n",
       "      <td>0.800928</td>\n",
       "      <td>Male</td>\n",
       "      <td>Master's</td>\n",
       "      <td>Director of Operations</td>\n",
       "      <td>1.376183</td>\n",
       "    </tr>\n",
       "  </tbody>\n",
       "</table>\n",
       "<p>320 rows × 5 columns</p>\n",
       "</div>"
      ],
      "text/plain": [
       "            0       1           2                                    3  \\\n",
       "0   -0.745571    Male  Bachelor's                    Software Engineer   \n",
       "1   -1.307934  Female    Master's                         Data Analyst   \n",
       "2     1.08211    Male         PhD                       Senior Manager   \n",
       "3   -0.183207  Female  Bachelor's                      Sales Associate   \n",
       "4    2.066246    Male    Master's                             Director   \n",
       "..        ...     ...         ...                                  ...   \n",
       "315 -1.307934  Female  Bachelor's            Junior Operations Manager   \n",
       "316 -0.183207    Male  Bachelor's  Senior Business Development Manager   \n",
       "317  0.941519  Female         PhD                Senior Data Scientist   \n",
       "318 -0.886162    Male  Bachelor's         Junior Marketing Coordinator   \n",
       "319  0.800928    Male    Master's               Director of Operations   \n",
       "\n",
       "            4  \n",
       "0   -0.758986  \n",
       "1    -1.06401  \n",
       "2    0.766135  \n",
       "3   -0.453962  \n",
       "4    1.528695  \n",
       "..        ...  \n",
       "315 -1.369034  \n",
       "316  -0.30145  \n",
       "317  0.918647  \n",
       "318  -1.06401  \n",
       "319  1.376183  \n",
       "\n",
       "[320 rows x 5 columns]"
      ]
     },
     "execution_count": 32,
     "metadata": {},
     "output_type": "execute_result"
    }
   ],
   "source": [
    "from sklearn.preprocessing import StandardScaler\n",
    "\n",
    "# Create a StandardScaler\n",
    "scaler = StandardScaler()\n",
    "\n",
    "# Select the first and fifth columns \n",
    "columns_to_scale = [0, 4]\n",
    "\n",
    "# Fit and transform the selected columns in X\n",
    "x[:, columns_to_scale] = scaler.fit_transform(x[:, columns_to_scale])\n",
    "\n",
    "# Now, the first and fifth columns in X are standardized\n",
    "df_x = pd.DataFrame(x)\n",
    "df_x"
   ]
  },
  {
   "cell_type": "markdown",
   "id": "b069e51c-c51b-42bb-b971-78f6bf0af696",
   "metadata": {},
   "source": [
    "As we can see our numerical values have been standarized.\n",
    "\n",
    "Now the __mean__ will become a value of __zero__.\n",
    "\n",
    "Then, each __unit variance__ from the mean will add or subtract __one__ from the new standarized value.\n",
    "\n",
    "Now we can apply a __One Hot Encoding__ technique to our __categorical variables__ to turn them into __numerical variables__.\n",
    "\n",
    "Our __predictive categorical columns__ are:\n",
    "    \n",
    "- Gender\n",
    "- Education Level\n",
    "- Job Title\n",
    "\n",
    "Let's apply a __One Hot Encoding__ only on the first 2."
   ]
  },
  {
   "cell_type": "code",
   "execution_count": 36,
   "id": "4997096e",
   "metadata": {},
   "outputs": [
    {
     "data": {
      "text/html": [
       "<div>\n",
       "<style scoped>\n",
       "    .dataframe tbody tr th:only-of-type {\n",
       "        vertical-align: middle;\n",
       "    }\n",
       "\n",
       "    .dataframe tbody tr th {\n",
       "        vertical-align: top;\n",
       "    }\n",
       "\n",
       "    .dataframe thead th {\n",
       "        text-align: right;\n",
       "    }\n",
       "</style>\n",
       "<table border=\"1\" class=\"dataframe\">\n",
       "  <thead>\n",
       "    <tr style=\"text-align: right;\">\n",
       "      <th></th>\n",
       "      <th>0</th>\n",
       "      <th>3</th>\n",
       "      <th>4</th>\n",
       "      <th>1_Female</th>\n",
       "      <th>1_Male</th>\n",
       "      <th>2_Bachelor's</th>\n",
       "      <th>2_Master's</th>\n",
       "      <th>2_PhD</th>\n",
       "    </tr>\n",
       "  </thead>\n",
       "  <tbody>\n",
       "    <tr>\n",
       "      <th>0</th>\n",
       "      <td>-0.745571</td>\n",
       "      <td>Software Engineer</td>\n",
       "      <td>-0.758986</td>\n",
       "      <td>0</td>\n",
       "      <td>1</td>\n",
       "      <td>1</td>\n",
       "      <td>0</td>\n",
       "      <td>0</td>\n",
       "    </tr>\n",
       "    <tr>\n",
       "      <th>1</th>\n",
       "      <td>-1.307934</td>\n",
       "      <td>Data Analyst</td>\n",
       "      <td>-1.06401</td>\n",
       "      <td>1</td>\n",
       "      <td>0</td>\n",
       "      <td>0</td>\n",
       "      <td>1</td>\n",
       "      <td>0</td>\n",
       "    </tr>\n",
       "    <tr>\n",
       "      <th>2</th>\n",
       "      <td>1.08211</td>\n",
       "      <td>Senior Manager</td>\n",
       "      <td>0.766135</td>\n",
       "      <td>0</td>\n",
       "      <td>1</td>\n",
       "      <td>0</td>\n",
       "      <td>0</td>\n",
       "      <td>1</td>\n",
       "    </tr>\n",
       "    <tr>\n",
       "      <th>3</th>\n",
       "      <td>-0.183207</td>\n",
       "      <td>Sales Associate</td>\n",
       "      <td>-0.453962</td>\n",
       "      <td>1</td>\n",
       "      <td>0</td>\n",
       "      <td>1</td>\n",
       "      <td>0</td>\n",
       "      <td>0</td>\n",
       "    </tr>\n",
       "    <tr>\n",
       "      <th>4</th>\n",
       "      <td>2.066246</td>\n",
       "      <td>Director</td>\n",
       "      <td>1.528695</td>\n",
       "      <td>0</td>\n",
       "      <td>1</td>\n",
       "      <td>0</td>\n",
       "      <td>1</td>\n",
       "      <td>0</td>\n",
       "    </tr>\n",
       "    <tr>\n",
       "      <th>...</th>\n",
       "      <td>...</td>\n",
       "      <td>...</td>\n",
       "      <td>...</td>\n",
       "      <td>...</td>\n",
       "      <td>...</td>\n",
       "      <td>...</td>\n",
       "      <td>...</td>\n",
       "      <td>...</td>\n",
       "    </tr>\n",
       "    <tr>\n",
       "      <th>315</th>\n",
       "      <td>-1.307934</td>\n",
       "      <td>Junior Operations Manager</td>\n",
       "      <td>-1.369034</td>\n",
       "      <td>1</td>\n",
       "      <td>0</td>\n",
       "      <td>1</td>\n",
       "      <td>0</td>\n",
       "      <td>0</td>\n",
       "    </tr>\n",
       "    <tr>\n",
       "      <th>316</th>\n",
       "      <td>-0.183207</td>\n",
       "      <td>Senior Business Development Manager</td>\n",
       "      <td>-0.30145</td>\n",
       "      <td>0</td>\n",
       "      <td>1</td>\n",
       "      <td>1</td>\n",
       "      <td>0</td>\n",
       "      <td>0</td>\n",
       "    </tr>\n",
       "    <tr>\n",
       "      <th>317</th>\n",
       "      <td>0.941519</td>\n",
       "      <td>Senior Data Scientist</td>\n",
       "      <td>0.918647</td>\n",
       "      <td>1</td>\n",
       "      <td>0</td>\n",
       "      <td>0</td>\n",
       "      <td>0</td>\n",
       "      <td>1</td>\n",
       "    </tr>\n",
       "    <tr>\n",
       "      <th>318</th>\n",
       "      <td>-0.886162</td>\n",
       "      <td>Junior Marketing Coordinator</td>\n",
       "      <td>-1.06401</td>\n",
       "      <td>0</td>\n",
       "      <td>1</td>\n",
       "      <td>1</td>\n",
       "      <td>0</td>\n",
       "      <td>0</td>\n",
       "    </tr>\n",
       "    <tr>\n",
       "      <th>319</th>\n",
       "      <td>0.800928</td>\n",
       "      <td>Director of Operations</td>\n",
       "      <td>1.376183</td>\n",
       "      <td>0</td>\n",
       "      <td>1</td>\n",
       "      <td>0</td>\n",
       "      <td>1</td>\n",
       "      <td>0</td>\n",
       "    </tr>\n",
       "  </tbody>\n",
       "</table>\n",
       "<p>320 rows × 8 columns</p>\n",
       "</div>"
      ],
      "text/plain": [
       "            0                                    3         4  1_Female  \\\n",
       "0   -0.745571                    Software Engineer -0.758986         0   \n",
       "1   -1.307934                         Data Analyst  -1.06401         1   \n",
       "2     1.08211                       Senior Manager  0.766135         0   \n",
       "3   -0.183207                      Sales Associate -0.453962         1   \n",
       "4    2.066246                             Director  1.528695         0   \n",
       "..        ...                                  ...       ...       ...   \n",
       "315 -1.307934            Junior Operations Manager -1.369034         1   \n",
       "316 -0.183207  Senior Business Development Manager  -0.30145         0   \n",
       "317  0.941519                Senior Data Scientist  0.918647         1   \n",
       "318 -0.886162         Junior Marketing Coordinator  -1.06401         0   \n",
       "319  0.800928               Director of Operations  1.376183         0   \n",
       "\n",
       "     1_Male  2_Bachelor's  2_Master's  2_PhD  \n",
       "0         1             1           0      0  \n",
       "1         0             0           1      0  \n",
       "2         1             0           0      1  \n",
       "3         0             1           0      0  \n",
       "4         1             0           1      0  \n",
       "..      ...           ...         ...    ...  \n",
       "315       0             1           0      0  \n",
       "316       1             1           0      0  \n",
       "317       0             0           0      1  \n",
       "318       1             1           0      0  \n",
       "319       1             0           1      0  \n",
       "\n",
       "[320 rows x 8 columns]"
      ]
     },
     "execution_count": 36,
     "metadata": {},
     "output_type": "execute_result"
    }
   ],
   "source": [
    "# Perform one-hot encoding on Gender and Education Level\n",
    "columns_to_encode = [1, 2]\n",
    "x = pd.get_dummies(pd.DataFrame(x), columns=columns_to_encode)\n",
    "\n",
    "# Now, x contains the one-hot encoded columns\n",
    "df_x = pd.DataFrame(x)\n",
    "df_x"
   ]
  },
  {
   "cell_type": "markdown",
   "id": "e728b559-0f89-4175-aaea-20cfba3f74a7",
   "metadata": {},
   "source": [
    "As of our __Job Title__ column, using a scatter plot we can deduct that __both variables__ (Salary and Job Title) __are not correlated__ as the values are distributed accross most job titles, not following a linear behaviour.\n",
    "\n",
    "So in this analysis we have decided to __drop__ this column, as it won't help our regression model."
   ]
  },
  {
   "cell_type": "code",
   "execution_count": 38,
   "id": "836033a4-c689-4719-9554-ff0d83de4f7a",
   "metadata": {
    "tags": []
   },
   "outputs": [
    {
     "data": {
      "text/plain": [
       "<Axes: xlabel='Job Title', ylabel='Salary'>"
      ]
     },
     "execution_count": 38,
     "metadata": {},
     "output_type": "execute_result"
    },
    {
     "data": {
      "image/png": "[encoded data removed]",
      "text/plain": [
       "<Figure size 600x400 with 1 Axes>"
      ]
     },
     "metadata": {},
     "output_type": "display_data"
    }
   ],
   "source": [
    "# Scatter plot of Job Title (X) vs Salary (Y)\n",
    "df.plot.scatter(x='Job Title', y='Salary', figsize=(6,4))"
   ]
  },
  {
   "cell_type": "code",
   "execution_count": 44,
   "id": "15c2302d-3881-4649-a215-cb1c18cb2c09",
   "metadata": {
    "tags": []
   },
   "outputs": [
    {
     "data": {
      "text/html": [
       "<div>\n",
       "<style scoped>\n",
       "    .dataframe tbody tr th:only-of-type {\n",
       "        vertical-align: middle;\n",
       "    }\n",
       "\n",
       "    .dataframe tbody tr th {\n",
       "        vertical-align: top;\n",
       "    }\n",
       "\n",
       "    .dataframe thead th {\n",
       "        text-align: right;\n",
       "    }\n",
       "</style>\n",
       "<table border=\"1\" class=\"dataframe\">\n",
       "  <thead>\n",
       "    <tr style=\"text-align: right;\">\n",
       "      <th></th>\n",
       "      <th>0</th>\n",
       "      <th>4</th>\n",
       "      <th>1_Female</th>\n",
       "      <th>1_Male</th>\n",
       "      <th>2_Bachelor's</th>\n",
       "      <th>2_Master's</th>\n",
       "      <th>2_PhD</th>\n",
       "    </tr>\n",
       "  </thead>\n",
       "  <tbody>\n",
       "    <tr>\n",
       "      <th>0</th>\n",
       "      <td>-0.745571</td>\n",
       "      <td>-0.758986</td>\n",
       "      <td>0</td>\n",
       "      <td>1</td>\n",
       "      <td>1</td>\n",
       "      <td>0</td>\n",
       "      <td>0</td>\n",
       "    </tr>\n",
       "    <tr>\n",
       "      <th>1</th>\n",
       "      <td>-1.307934</td>\n",
       "      <td>-1.06401</td>\n",
       "      <td>1</td>\n",
       "      <td>0</td>\n",
       "      <td>0</td>\n",
       "      <td>1</td>\n",
       "      <td>0</td>\n",
       "    </tr>\n",
       "    <tr>\n",
       "      <th>2</th>\n",
       "      <td>1.08211</td>\n",
       "      <td>0.766135</td>\n",
       "      <td>0</td>\n",
       "      <td>1</td>\n",
       "      <td>0</td>\n",
       "      <td>0</td>\n",
       "      <td>1</td>\n",
       "    </tr>\n",
       "    <tr>\n",
       "      <th>3</th>\n",
       "      <td>-0.183207</td>\n",
       "      <td>-0.453962</td>\n",
       "      <td>1</td>\n",
       "      <td>0</td>\n",
       "      <td>1</td>\n",
       "      <td>0</td>\n",
       "      <td>0</td>\n",
       "    </tr>\n",
       "    <tr>\n",
       "      <th>4</th>\n",
       "      <td>2.066246</td>\n",
       "      <td>1.528695</td>\n",
       "      <td>0</td>\n",
       "      <td>1</td>\n",
       "      <td>0</td>\n",
       "      <td>1</td>\n",
       "      <td>0</td>\n",
       "    </tr>\n",
       "    <tr>\n",
       "      <th>...</th>\n",
       "      <td>...</td>\n",
       "      <td>...</td>\n",
       "      <td>...</td>\n",
       "      <td>...</td>\n",
       "      <td>...</td>\n",
       "      <td>...</td>\n",
       "      <td>...</td>\n",
       "    </tr>\n",
       "    <tr>\n",
       "      <th>315</th>\n",
       "      <td>-1.307934</td>\n",
       "      <td>-1.369034</td>\n",
       "      <td>1</td>\n",
       "      <td>0</td>\n",
       "      <td>1</td>\n",
       "      <td>0</td>\n",
       "      <td>0</td>\n",
       "    </tr>\n",
       "    <tr>\n",
       "      <th>316</th>\n",
       "      <td>-0.183207</td>\n",
       "      <td>-0.30145</td>\n",
       "      <td>0</td>\n",
       "      <td>1</td>\n",
       "      <td>1</td>\n",
       "      <td>0</td>\n",
       "      <td>0</td>\n",
       "    </tr>\n",
       "    <tr>\n",
       "      <th>317</th>\n",
       "      <td>0.941519</td>\n",
       "      <td>0.918647</td>\n",
       "      <td>1</td>\n",
       "      <td>0</td>\n",
       "      <td>0</td>\n",
       "      <td>0</td>\n",
       "      <td>1</td>\n",
       "    </tr>\n",
       "    <tr>\n",
       "      <th>318</th>\n",
       "      <td>-0.886162</td>\n",
       "      <td>-1.06401</td>\n",
       "      <td>0</td>\n",
       "      <td>1</td>\n",
       "      <td>1</td>\n",
       "      <td>0</td>\n",
       "      <td>0</td>\n",
       "    </tr>\n",
       "    <tr>\n",
       "      <th>319</th>\n",
       "      <td>0.800928</td>\n",
       "      <td>1.376183</td>\n",
       "      <td>0</td>\n",
       "      <td>1</td>\n",
       "      <td>0</td>\n",
       "      <td>1</td>\n",
       "      <td>0</td>\n",
       "    </tr>\n",
       "  </tbody>\n",
       "</table>\n",
       "<p>320 rows × 7 columns</p>\n",
       "</div>"
      ],
      "text/plain": [
       "            0         4  1_Female  1_Male  2_Bachelor's  2_Master's  2_PhD\n",
       "0   -0.745571 -0.758986         0       1             1           0      0\n",
       "1   -1.307934  -1.06401         1       0             0           1      0\n",
       "2     1.08211  0.766135         0       1             0           0      1\n",
       "3   -0.183207 -0.453962         1       0             1           0      0\n",
       "4    2.066246  1.528695         0       1             0           1      0\n",
       "..        ...       ...       ...     ...           ...         ...    ...\n",
       "315 -1.307934 -1.369034         1       0             1           0      0\n",
       "316 -0.183207  -0.30145         0       1             1           0      0\n",
       "317  0.941519  0.918647         1       0             0           0      1\n",
       "318 -0.886162  -1.06401         0       1             1           0      0\n",
       "319  0.800928  1.376183         0       1             0           1      0\n",
       "\n",
       "[320 rows x 7 columns]"
      ]
     },
     "execution_count": 44,
     "metadata": {},
     "output_type": "execute_result"
    }
   ],
   "source": [
    "# drop the Job Title column from our dataset\n",
    "df_x.drop(3, axis=1, inplace=True)\n",
    "df_x"
   ]
  },
  {
   "cell_type": "markdown",
   "id": "cc013602-78c3-4055-bcc4-db556ff725d3",
   "metadata": {},
   "source": [
    "Our columns are scaled and encoded, this means we are ready to build our model to predict salary values.\n",
    "\n",
    "But first, let's make sure our columns have remain with the correct data types."
   ]
  },
  {
   "cell_type": "code",
   "execution_count": 53,
   "id": "7cbe0a98-e596-4926-99a7-4e1231932000",
   "metadata": {
    "tags": []
   },
   "outputs": [
    {
     "name": "stdout",
     "output_type": "stream",
     "text": [
      "0               float64\n",
      "4               float64\n",
      "1_Female          uint8\n",
      "1_Male            uint8\n",
      "2_Bachelor's      uint8\n",
      "2_Master's        uint8\n",
      "2_PhD             uint8\n",
      "dtype: object\n"
     ]
    },
    {
     "data": {
      "text/plain": [
       "0               float64\n",
       "4               float64\n",
       "1_Female          uint8\n",
       "1_Male            uint8\n",
       "2_Bachelor's      uint8\n",
       "2_Master's        uint8\n",
       "2_PhD             uint8\n",
       "dtype: object"
      ]
     },
     "execution_count": 53,
     "metadata": {},
     "output_type": "execute_result"
    }
   ],
   "source": [
    "# check and correct data types\n",
    "print(df_x.dtypes)\n",
    "\n",
    "# cast our standarized numerical values as floats\n",
    "df_x[[0, 4]] = df_x[[0, 4]].astype(float) \n",
    "\n",
    "df_x.dtypes"
   ]
  },
  {
   "cell_type": "markdown",
   "id": "0823d06c-4454-49b2-8b75-3ce038d73cdf",
   "metadata": {},
   "source": [
    "Now we can __visualize__ a __heatmap__ to find the __correlation between all variables__."
   ]
  },
  {
   "cell_type": "code",
   "execution_count": 54,
   "id": "8589150b",
   "metadata": {},
   "outputs": [
    {
     "data": {
      "text/plain": [
       "<Axes: >"
      ]
     },
     "execution_count": 54,
     "metadata": {},
     "output_type": "execute_result"
    },
    {
     "data": {
      "image/png": "[encoded data removed]",
      "text/plain": [
       "<Figure size 640x480 with 2 Axes>"
      ]
     },
     "metadata": {},
     "output_type": "display_data"
    }
   ],
   "source": [
    "# using heatmap to visualize the correlation matrix\n",
    "\n",
    "corr_matrix = df_x.corr(numeric_only=True)\n",
    "sns.heatmap(corr_matrix, annot = True)"
   ]
  },
  {
   "cell_type": "code",
   "execution_count": null,
   "id": "496d917e",
   "metadata": {},
   "outputs": [],
   "source": [
    "# from sklearn.preprocessing import LabelEncoder\n",
    "\n",
    "# # Perform label encoding on the 2nd column (Column2)\n",
    "# label_encoder = LabelEncoder()\n",
    "# x['Education Level'] = label_encoder.fit_transform(x['Education Level'])\n",
    "\n",
    "# # Now, the 2nd column of x is label-encoded\n",
    "# print(x)"
   ]
  },
  {
   "cell_type": "markdown",
   "id": "2a3dbbb7",
   "metadata": {},
   "source": [
    "### Multiple Linear Regression"
   ]
  },
  {
   "cell_type": "code",
   "execution_count": null,
   "id": "ba1c23d6",
   "metadata": {},
   "outputs": [],
   "source": [
    "from sklearn.model_selection import train_test_split\n",
    "from sklearn.linear_model import LinearRegression\n",
    "\n",
    "# splitting data into training and testing sets\n",
    "x_train, x_test, y_train, y_test = train_test_split(x, y, test_size = 0.2, random_state = 15)\n",
    "\n",
    "# creating an instance of the class linear regression, which will represent the regression model and fit it\n",
    "model = LinearRegression()\n",
    "model.fit(x_train, y_train)"
   ]
  },
  {
   "cell_type": "code",
   "execution_count": null,
   "id": "cc2ca787",
   "metadata": {},
   "outputs": [],
   "source": [
    "# Predicting the testing result\n",
    "\n",
    "y_pred = model.predict(x_test)\n",
    "y_pred"
   ]
  },
  {
   "cell_type": "code",
   "execution_count": null,
   "id": "c044cf15",
   "metadata": {},
   "outputs": [],
   "source": [
    "from sklearn.metrics import r2_score\n",
    "\n",
    "# r2 score\n",
    "r2_score(y_test, y_pred)"
   ]
  },
  {
   "cell_type": "code",
   "execution_count": null,
   "id": "42233ce7",
   "metadata": {},
   "outputs": [],
   "source": [
    "from sklearn import metrics\n",
    "\n",
    "# calculating MAE\n",
    "print(\"MAE: \", metrics.mean_absolute_error(y_test, y_pred))\n",
    "\n",
    "# calculating MSE\n",
    "print(\"MSE: \", metrics.mean_squared_error(y_test, y_pred))\n",
    "\n",
    "# calculating RMSE\n",
    "print(\"RMSE:\", np.sqrt(metrics.mean_squared_error(y_test, y_pred)))"
   ]
  },
  {
   "cell_type": "markdown",
   "id": "82b3141b",
   "metadata": {},
   "source": [
    "### Decision Tree"
   ]
  },
  {
   "cell_type": "code",
   "execution_count": null,
   "id": "c9f6664d",
   "metadata": {},
   "outputs": [],
   "source": [
    "from sklearn.tree import DecisionTreeClassifier\n",
    "\n",
    "# create decision tree classifier object\n",
    "clf = DecisionTreeClassifier()\n",
    "\n",
    "# train decision tree classifier\n",
    "clf.fit(x_train, y_train)\n",
    "\n",
    "# predict the response for test dataset\n",
    "y_pred = clf.predict(x_test)"
   ]
  },
  {
   "cell_type": "code",
   "execution_count": null,
   "id": "8b9cea33",
   "metadata": {},
   "outputs": [],
   "source": [
    "# Model Accuracy, how often is the classifier correct ? \n",
    "\n",
    "from sklearn.metrics import accuracy_score\n",
    "\n",
    "print(\"Accuracy:\", metrics.accuracy_score(y_test, y_pred).round(2))"
   ]
  },
  {
   "cell_type": "code",
   "execution_count": null,
   "id": "9d79a9dd",
   "metadata": {},
   "outputs": [],
   "source": [
    "from sklearn.metrics import classification_report\n",
    "\n",
    "# Generate the classification report\n",
    "report = classification_report(y_test, y_pred, zero_division=1)\n",
    "\n",
    "# Print the classification report\n",
    "print(report)"
   ]
  },
  {
   "cell_type": "code",
   "execution_count": null,
   "id": "6aebc377",
   "metadata": {},
   "outputs": [],
   "source": [
    "feature_imp = pd.Series(clf.feature_importances_, index = x.columns).sort_values(ascending = False)\n",
    "feature_imp"
   ]
  },
  {
   "cell_type": "markdown",
   "id": "c24c1938",
   "metadata": {},
   "source": [
    "### SVM (Support Vector Machine)"
   ]
  },
  {
   "cell_type": "code",
   "execution_count": null,
   "id": "4c78072a",
   "metadata": {},
   "outputs": [],
   "source": [
    "from sklearn.svm import SVC\n",
    "\n",
    "svm_classifier = SVC(kernel = 'linear')\n",
    "\n",
    "svm_classifier.fit(x_train, y_train)\n",
    "\n",
    "y_pred = svm_classifier.predict(x_test)\n",
    "\n",
    "print(\"Accuracy:\", metrics.accuracy_score(y_test, y_pred))"
   ]
  },
  {
   "cell_type": "code",
   "execution_count": null,
   "id": "42baf645",
   "metadata": {},
   "outputs": [],
   "source": [
    "svm_classifier = SVC(kernel = 'rbf', gamma = 'auto')\n",
    "\n",
    "svm_classifier.fit(x_train, y_train)\n",
    "\n",
    "y_pred = svm_classifier.predict(x_test)\n",
    "\n",
    "print(\"Accuracy:\", metrics.accuracy_score(y_test, y_pred))"
   ]
  },
  {
   "cell_type": "code",
   "execution_count": null,
   "id": "cd1fe963",
   "metadata": {},
   "outputs": [],
   "source": [
    "svm_classifier = SVC(kernel = 'sigmoid')\n",
    "\n",
    "svm_classifier.fit(x_train, y_train)\n",
    "\n",
    "y_pred = svm_classifier.predict(x_test)\n",
    "\n",
    "print(\"Accuracy:\", metrics.accuracy_score(y_test, y_pred).round(2))"
   ]
  },
  {
   "cell_type": "code",
   "execution_count": null,
   "id": "c287edd6",
   "metadata": {},
   "outputs": [],
   "source": [
    "svm_classifier = SVC(kernel = 'poly', degree = 5)\n",
    "\n",
    "svm_classifier.fit(x_train, y_train)\n",
    "\n",
    "y_pred = svm_classifier.predict(x_test)\n",
    "\n",
    "print(\"Accuracy:\", metrics.accuracy_score(y_test, y_pred))"
   ]
  },
  {
   "cell_type": "markdown",
   "id": "5ec61681-7291-4239-ad4f-bf7e68151f71",
   "metadata": {},
   "source": [
    "# References\n",
    "\n",
    "- Salary Prediction Dataset\n",
    "\n",
    "https://www.kaggle.com/datasets/rkiattisak/salaly-prediction-for-beginer\n",
    "\n",
    "- Building a performing Machine Learning model\n",
    "\n",
    "https://www.slideshare.net/CharlesVestur/building-a-performing-machine-learning-model-from-a-to-z\n",
    "\n",
    "- Employee Salary Prediction (Best ML Algorithms)\n",
    "\n",
    "https://www.kaggle.com/code/yasserh/employee-salaray-prediction-best-ml-algorithms"
   ]
  }
 ],
 "metadata": {
  "kernelspec": {
   "display_name": "Python 3 (ipykernel)",
   "language": "python",
   "name": "python3"
  },
  "language_info": {
   "codemirror_mode": {
    "name": "ipython",
    "version": 3
   },
   "file_extension": ".py",
   "mimetype": "text/x-python",
   "name": "python",
   "nbconvert_exporter": "python",
   "pygments_lexer": "ipython3",
   "version": "3.11.4"
  }
 },
 "nbformat": 4,
 "nbformat_minor": 5
}
